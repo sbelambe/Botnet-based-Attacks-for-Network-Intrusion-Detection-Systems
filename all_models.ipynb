{
  "nbformat": 4,
  "nbformat_minor": 0,
  "metadata": {
    "colab": {
      "provenance": [],
      "collapsed_sections": [
        "96hcpMNhrfy1",
        "JywUOxB9uXTL",
        "o6FKtub5FlcG",
        "fLLtpTLVci-4"
      ],
      "gpuType": "T4"
    },
    "kernelspec": {
      "name": "python3",
      "display_name": "Python 3"
    },
    "language_info": {
      "name": "python"
    }
  },
  "cells": [
    {
      "cell_type": "markdown",
      "source": [
        "# Train test Splitting"
      ],
      "metadata": {
        "id": "96hcpMNhrfy1"
      }
    },
    {
      "cell_type": "code",
      "source": [
        "#Use this section to access a new dataset that needs to be used for the splitting and model\n",
        "import pandas as pd\n",
        "selected_df = pd.read_csv('/content/drive/MyDrive/sjsu nsf reu/new_edited_merged_files.csv')\n",
        "selected_df.shape"
      ],
      "metadata": {
        "id": "MaIhEnN710jQ",
        "colab": {
          "base_uri": "https://localhost:8080/"
        },
        "outputId": "8867f8a4-a238-4f33-e54b-2bf59847f9c6"
      },
      "execution_count": null,
      "outputs": [
        {
          "output_type": "execute_result",
          "data": {
            "text/plain": [
              "(14415958, 10)"
            ]
          },
          "metadata": {},
          "execution_count": 2
        }
      ]
    },
    {
      "cell_type": "code",
      "source": [
        "from sklearn.model_selection import train_test_split"
      ],
      "metadata": {
        "id": "WOhc3Rzqtb_-"
      },
      "execution_count": null,
      "outputs": []
    },
    {
      "cell_type": "code",
      "source": [
        "X = selected_df.loc[:, ['StartTime', 'Dur', 'Proto', 'SrcAddr', 'DstAddr', 'State', 'TotPkts', 'TotBytes', 'SrcBytes', 'Label']]\n",
        "y = selected_df.loc[:, 'Label']\n",
        "\n",
        "X_train, X_test, y_train, y_test = train_test_split(X, y, test_size = 0.2, random_state = 420)"
      ],
      "metadata": {
        "id": "_XY2A31kt8rw"
      },
      "execution_count": null,
      "outputs": []
    },
    {
      "cell_type": "code",
      "source": [
        "X_train.shape"
      ],
      "metadata": {
        "id": "ure2T33_uICC",
        "colab": {
          "base_uri": "https://localhost:8080/"
        },
        "outputId": "a9e07e43-f0f2-4d37-c9e3-1ff310901add"
      },
      "execution_count": null,
      "outputs": [
        {
          "output_type": "execute_result",
          "data": {
            "text/plain": [
              "(11532766, 10)"
            ]
          },
          "metadata": {},
          "execution_count": 5
        }
      ]
    },
    {
      "cell_type": "code",
      "source": [
        "y_train.shape"
      ],
      "metadata": {
        "id": "wToHgjQJU5ft",
        "colab": {
          "base_uri": "https://localhost:8080/"
        },
        "outputId": "a7806fd0-41cd-433f-ed06-55ab87f067e7"
      },
      "execution_count": null,
      "outputs": [
        {
          "output_type": "execute_result",
          "data": {
            "text/plain": [
              "(11532766,)"
            ]
          },
          "metadata": {},
          "execution_count": 6
        }
      ]
    },
    {
      "cell_type": "code",
      "source": [
        "#9\n",
        "background_count = 0\n",
        "normal_count = 0\n",
        "botnet_count = 0\n",
        "\n",
        "for x in X_train['Label']:\n",
        "    if '1' in str(x): #Background\n",
        "        background_count += 1\n",
        "    if '2' in str(x): #Normal\n",
        "        normal_count += 1\n",
        "    if '3' in str(x): #Botnet\n",
        "        botnet_count += 1\n",
        "\n",
        "print(str(float(background_count/11532766)))\n",
        "print(str(float(normal_count/11532766)))\n",
        "print(str(float(botnet_count/11532766)))\n",
        "\n",
        "botnet_ratio_b = (float(botnet_count/background_count))\n",
        "botnet_ratio_n = (float(botnet_count/normal_count))\n"
      ],
      "metadata": {
        "id": "ZWx8TZCJPIdA",
        "colab": {
          "base_uri": "https://localhost:8080/"
        },
        "outputId": "515ffaf7-4dfa-40af-c10e-f43f1499f92c"
      },
      "execution_count": null,
      "outputs": [
        {
          "output_type": "stream",
          "name": "stdout",
          "text": [
            "0.9741123681864351\n",
            "0.015892804900402905\n",
            "0.009994826913162029\n"
          ]
        }
      ]
    },
    {
      "cell_type": "code",
      "source": [
        "print(background_count)\n",
        "print(normal_count)\n",
        "print(botnet_count)"
      ],
      "metadata": {
        "id": "j1hFiEFhPO6x",
        "colab": {
          "base_uri": "https://localhost:8080/"
        },
        "outputId": "8520a511-8f31-4395-8967-4cc5478608c5"
      },
      "execution_count": null,
      "outputs": [
        {
          "output_type": "stream",
          "name": "stdout",
          "text": [
            "11234210\n",
            "183288\n",
            "115268\n"
          ]
        }
      ]
    },
    {
      "cell_type": "code",
      "source": [
        "#14\n",
        "filtered_df_1 = X_train.copy()\n",
        "\n",
        "# Create a boolean mask to identify rows with \"background\" in the 'Label' column\n",
        "mask_b = filtered_df_1['Label'].astype(str).str.contains('1')\n",
        "\n",
        "# Identify the indices of the rows to drop\n",
        "indices_to_drop_b = filtered_df_1.index[mask_b].tolist()[:(background_count-botnet_count)]\n",
        "filtered_y = y_train.copy()\n",
        "\n",
        "# Drop the specified rows from the DataFrame\n",
        "filtered_df_1 = filtered_df_1.drop(indices_to_drop_b)\n",
        "filtered_y = filtered_y.drop(indices_to_drop_b)\n",
        "\n",
        "# Reset the index of the filtered DataFrame\n",
        "filtered_df_1 = filtered_df_1.reset_index(drop=True)\n",
        "filtered_y = filtered_y.reset_index(drop=True)"
      ],
      "metadata": {
        "id": "atNR6bHgPVyF"
      },
      "execution_count": null,
      "outputs": []
    },
    {
      "cell_type": "code",
      "source": [
        "filtered_y.shape"
      ],
      "metadata": {
        "id": "g9incOkNfdlj",
        "colab": {
          "base_uri": "https://localhost:8080/"
        },
        "outputId": "cf2898ad-d372-48f4-a47c-3a7496892a1b"
      },
      "execution_count": null,
      "outputs": [
        {
          "output_type": "execute_result",
          "data": {
            "text/plain": [
              "(413824,)"
            ]
          },
          "metadata": {},
          "execution_count": 8
        }
      ]
    },
    {
      "cell_type": "code",
      "source": [
        "filtered_df_1.shape"
      ],
      "metadata": {
        "id": "jap3VnyJZisZ",
        "colab": {
          "base_uri": "https://localhost:8080/"
        },
        "outputId": "99b807d3-0866-4bb3-9d64-f3b39ae88235"
      },
      "execution_count": null,
      "outputs": [
        {
          "output_type": "execute_result",
          "data": {
            "text/plain": [
              "(413824, 10)"
            ]
          },
          "metadata": {},
          "execution_count": 9
        }
      ]
    },
    {
      "cell_type": "code",
      "source": [
        "#filtered_y.shape"
      ],
      "metadata": {
        "id": "Ch7wfMOdaVhw"
      },
      "execution_count": null,
      "outputs": []
    },
    {
      "cell_type": "code",
      "source": [
        "#15\n",
        "background_count = 0\n",
        "normal_count = 0\n",
        "botnet_count = 0\n",
        "\n",
        "for x in filtered_df_1['Label']:\n",
        "    if '1' in str(x): #Background\n",
        "        background_count += 1\n",
        "    if '2' in str(x): #Normal\n",
        "        normal_count += 1\n",
        "    if '3' in str(x): #Botnet\n",
        "        botnet_count += 1\n",
        "\n",
        "print(str(float(background_count/413824)))\n",
        "print(str(float(normal_count/413824)))\n",
        "print(str(float(botnet_count/413824)))\n",
        "\n",
        "botnet_ratio_b = (float(botnet_count/background_count))\n",
        "botnet_ratio_n = (float(botnet_count/normal_count))"
      ],
      "metadata": {
        "id": "C1oHCUerPgo-",
        "colab": {
          "base_uri": "https://localhost:8080/"
        },
        "outputId": "40282a70-daa9-4256-85c6-07bf506bd36f"
      },
      "execution_count": null,
      "outputs": [
        {
          "output_type": "stream",
          "name": "stdout",
          "text": [
            "0.2785435354160223\n",
            "0.44291292916795544\n",
            "0.2785435354160223\n"
          ]
        }
      ]
    },
    {
      "cell_type": "code",
      "source": [
        "#16\n",
        "background_count"
      ],
      "metadata": {
        "id": "rdAIjRwhUge8",
        "colab": {
          "base_uri": "https://localhost:8080/"
        },
        "outputId": "382ef678-c69d-4b1c-a7a5-4bdf3aed0161"
      },
      "execution_count": null,
      "outputs": [
        {
          "output_type": "execute_result",
          "data": {
            "text/plain": [
              "115268"
            ]
          },
          "metadata": {},
          "execution_count": 13
        }
      ]
    },
    {
      "cell_type": "code",
      "source": [
        "#17\n",
        "filtered_df = filtered_df_1.copy()\n",
        "\n",
        "# Create a boolean mask to identify rows with \"normal\" in the 'Label' column\n",
        "mask_n = filtered_df['Label'].astype(str).str.contains('2')\n",
        "\n",
        "# Identify the indices of the rows to drop\n",
        "indices_to_drop_n = filtered_df.index[mask_n].tolist()[:(normal_count-botnet_count)]\n",
        "filtered_y_2 = filtered_y.copy()\n",
        "\n",
        "# Drop the specified rows from the DataFrame\n",
        "filtered_df = filtered_df.drop(indices_to_drop_n)\n",
        "filtered_y_2 = filtered_y_2.drop(indices_to_drop_n)\n",
        "\n",
        "# Reset the index of the filtered DataFrame\n",
        "filtered_df = filtered_df.reset_index(drop=True)\n",
        "filtered_y_2 = filtered_y_2.reset_index(drop=True)"
      ],
      "metadata": {
        "id": "N8h5xqu0UOL5"
      },
      "execution_count": null,
      "outputs": []
    },
    {
      "cell_type": "code",
      "source": [
        "#18\n",
        "filtered_df.shape"
      ],
      "metadata": {
        "id": "bnaniAB4UadA",
        "colab": {
          "base_uri": "https://localhost:8080/"
        },
        "outputId": "fa357abd-056c-446e-9a4d-ed82ccad25cd"
      },
      "execution_count": null,
      "outputs": [
        {
          "output_type": "execute_result",
          "data": {
            "text/plain": [
              "(345804, 10)"
            ]
          },
          "metadata": {},
          "execution_count": 12
        }
      ]
    },
    {
      "cell_type": "code",
      "source": [
        "filtered_y_2.shape"
      ],
      "metadata": {
        "id": "F-x21smmhhbU",
        "colab": {
          "base_uri": "https://localhost:8080/"
        },
        "outputId": "df722fba-03dd-451c-dfc4-30c9e09d71ea"
      },
      "execution_count": null,
      "outputs": [
        {
          "output_type": "execute_result",
          "data": {
            "text/plain": [
              "(345804,)"
            ]
          },
          "metadata": {},
          "execution_count": 13
        }
      ]
    },
    {
      "cell_type": "code",
      "source": [
        "#19\n",
        "background_count = 0\n",
        "normal_count = 0\n",
        "botnet_count = 0\n",
        "\n",
        "for x in filtered_df['Label']:\n",
        "    if '1' in str(x):\n",
        "        background_count += 1\n",
        "    if '2' in str(x):\n",
        "        normal_count += 1\n",
        "    if '3' in str(x):\n",
        "        botnet_count += 1\n",
        "\n",
        "print(str(float(background_count/345804)))\n",
        "print(str(float(normal_count/345804)))\n",
        "print(str(float(botnet_count/345804)))"
      ],
      "metadata": {
        "id": "hHD6QNGtUmqC",
        "colab": {
          "base_uri": "https://localhost:8080/"
        },
        "outputId": "89e1a8fd-36a9-4dc0-d7a7-c5f5d916a2da"
      },
      "execution_count": null,
      "outputs": [
        {
          "output_type": "stream",
          "name": "stdout",
          "text": [
            "0.3333333333333333\n",
            "0.3333333333333333\n",
            "0.3333333333333333\n"
          ]
        }
      ]
    },
    {
      "cell_type": "code",
      "source": [
        "X_train = filtered_df"
      ],
      "metadata": {
        "id": "-5YOOivYWZzK"
      },
      "execution_count": null,
      "outputs": []
    },
    {
      "cell_type": "code",
      "source": [
        "#rows_to_drop = y_train.sample(n=11186962).index\n",
        "#y_train = y_train.drop(rows_to_drop)"
      ],
      "metadata": {
        "id": "9sspjhsMY4en"
      },
      "execution_count": null,
      "outputs": []
    },
    {
      "cell_type": "code",
      "source": [
        "y_train = filtered_y_2"
      ],
      "metadata": {
        "id": "twGZNCxAhlaN"
      },
      "execution_count": null,
      "outputs": []
    },
    {
      "cell_type": "code",
      "source": [
        "X_train.shape"
      ],
      "metadata": {
        "id": "_zT7EYQTWyV8",
        "colab": {
          "base_uri": "https://localhost:8080/"
        },
        "outputId": "13daedee-c2b6-46f9-bb9e-fc6d7ff2c812"
      },
      "execution_count": null,
      "outputs": [
        {
          "output_type": "execute_result",
          "data": {
            "text/plain": [
              "(345804, 10)"
            ]
          },
          "metadata": {},
          "execution_count": 11
        }
      ]
    },
    {
      "cell_type": "code",
      "source": [
        "y_train.shape"
      ],
      "metadata": {
        "id": "pnOE7as7Y8w-",
        "colab": {
          "base_uri": "https://localhost:8080/"
        },
        "outputId": "f678d9dd-c246-4cec-e104-18ae4900707c"
      },
      "execution_count": null,
      "outputs": [
        {
          "output_type": "execute_result",
          "data": {
            "text/plain": [
              "(345804,)"
            ]
          },
          "metadata": {},
          "execution_count": 12
        }
      ]
    },
    {
      "cell_type": "code",
      "source": [
        "X_train = X_train.drop(columns=['Label'])\n",
        "X_test = X_test.drop(columns=['Label'])"
      ],
      "metadata": {
        "id": "gwOFogZeiRjg"
      },
      "execution_count": null,
      "outputs": []
    },
    {
      "cell_type": "code",
      "source": [
        "X_train.shape"
      ],
      "metadata": {
        "colab": {
          "base_uri": "https://localhost:8080/"
        },
        "id": "lqBwT4zZie7l",
        "outputId": "2cf3cd8e-a5ac-4131-b061-6a1a9610fd47"
      },
      "execution_count": null,
      "outputs": [
        {
          "output_type": "execute_result",
          "data": {
            "text/plain": [
              "(345804, 9)"
            ]
          },
          "metadata": {},
          "execution_count": 14
        }
      ]
    },
    {
      "cell_type": "code",
      "source": [
        "X_test.shape"
      ],
      "metadata": {
        "id": "8Q7YQsiiuM3q",
        "colab": {
          "base_uri": "https://localhost:8080/"
        },
        "outputId": "200a6fe9-4104-419c-cbd1-d42ca19b59e3"
      },
      "execution_count": null,
      "outputs": [
        {
          "output_type": "execute_result",
          "data": {
            "text/plain": [
              "(2883192, 9)"
            ]
          },
          "metadata": {},
          "execution_count": 15
        }
      ]
    },
    {
      "cell_type": "code",
      "source": [
        "y_train.value_counts()"
      ],
      "metadata": {
        "id": "OC-80yAUuP8P",
        "colab": {
          "base_uri": "https://localhost:8080/"
        },
        "outputId": "37a3993b-ca37-40ae-8711-0a0aeb74a0bf"
      },
      "execution_count": null,
      "outputs": [
        {
          "output_type": "execute_result",
          "data": {
            "text/plain": [
              "3    115268\n",
              "2    115268\n",
              "1    115268\n",
              "Name: Label, dtype: int64"
            ]
          },
          "metadata": {},
          "execution_count": 16
        }
      ]
    },
    {
      "cell_type": "code",
      "source": [
        "y_test.value_counts()"
      ],
      "metadata": {
        "id": "oXqu30iGQvBH",
        "colab": {
          "base_uri": "https://localhost:8080/"
        },
        "outputId": "e32e23f7-bbb5-4962-bd83-f4540c77d192"
      },
      "execution_count": null,
      "outputs": [
        {
          "output_type": "execute_result",
          "data": {
            "text/plain": [
              "1    2808812\n",
              "2      45688\n",
              "3      28692\n",
              "Name: Label, dtype: int64"
            ]
          },
          "metadata": {},
          "execution_count": 17
        }
      ]
    },
    {
      "cell_type": "code",
      "source": [
        "X_train.value_counts()"
      ],
      "metadata": {
        "colab": {
          "base_uri": "https://localhost:8080/"
        },
        "id": "Z8H0x5p7GnZF",
        "outputId": "0d2a735b-8573-44a5-bf6a-8a2322fa0237"
      },
      "execution_count": null,
      "outputs": [
        {
          "output_type": "execute_result",
          "data": {
            "text/plain": [
              "StartTime  Dur      Proto  SrcAddr  DstAddr  State  TotPkts  TotBytes  SrcBytes\n",
              "70         70       1      2        1        1      1        28        14          1\n",
              "8985482    2339656  1      233890   2        1      2        20        20          1\n",
              "8986748    86       1      3        1        1      1        125       4           1\n",
              "8986651    188      1      1        1        1      1        7         7           1\n",
              "8986107    526      1      44       1        1      1        330       6           1\n",
              "                                                                                  ..\n",
              "4186475    91239    1      101      1        1      1        27        11          1\n",
              "4186472    72854    1      14       1        1      1        148       6           1\n",
              "4186466    37474    1      66       1        1      1        165       37          1\n",
              "4186461    542      1      75       1        1      1        66        4           1\n",
              "14415921   148      1      7        1        1      1        17        4           1\n",
              "Length: 345804, dtype: int64"
            ]
          },
          "metadata": {},
          "execution_count": 18
        }
      ]
    },
    {
      "cell_type": "code",
      "source": [
        "X_test.value_counts()"
      ],
      "metadata": {
        "colab": {
          "base_uri": "https://localhost:8080/"
        },
        "id": "iy29d1hDGp-I",
        "outputId": "30a41469-2203-4804-9143-d797c0097027"
      },
      "execution_count": null,
      "outputs": [
        {
          "output_type": "execute_result",
          "data": {
            "text/plain": [
              "StartTime  Dur      Proto  SrcAddr  DstAddr  State  TotPkts  TotBytes  SrcBytes\n",
              "13         41       1      1        1        1      1        1         1           1\n",
              "9605146    350926   1      4        76076    1      2        25        18          1\n",
              "9605116    1845187  1      410      2        1      30       6036      1501        1\n",
              "9605121    1845183  1      627304   2        1      17       1254      488         1\n",
              "9605127    20       1      1        1        1      1        1         1           1\n",
              "                                                                                  ..\n",
              "4806061    45       1      1        1        1      1        1         1           1\n",
              "4806062    132      1      1        1        1      1        1         1           1\n",
              "4806064    107      1      1        1        1      1        1         1           1\n",
              "4806065    113      1      1        1        1      1        1         1           1\n",
              "14415952   16       1      3        1        1      1        2         2           1\n",
              "Length: 2883192, dtype: int64"
            ]
          },
          "metadata": {},
          "execution_count": 19
        }
      ]
    },
    {
      "cell_type": "markdown",
      "source": [
        "# GridSearch parameters:\n",
        "Random Forest: max_depth, n_estimators, min_samples_leaf\n",
        "KNN: n_neighbors, leaf_size\n",
        "SVM: C, kernel\n",
        "Naive Bayes: None\n",
        "KNN\n"
      ],
      "metadata": {
        "id": "P1SWoC9j6chU"
      }
    },
    {
      "cell_type": "markdown",
      "source": [
        "# Random Forest Classification"
      ],
      "metadata": {
        "id": "JywUOxB9uXTL"
      }
    },
    {
      "cell_type": "code",
      "source": [
        "from sklearn.model_selection import GridSearchCV\n",
        "from sklearn import datasets"
      ],
      "metadata": {
        "id": "Z4o78aAWT3XT"
      },
      "execution_count": null,
      "outputs": []
    },
    {
      "cell_type": "code",
      "source": [
        "parameters = {'max_depth': [15, 20, 30], 'n_estimators': [40, 50, 80, 100], 'min_samples_leaf': [1, 2, 3, 4]}"
      ],
      "metadata": {
        "id": "xWAzxfbuT5Vs"
      },
      "execution_count": null,
      "outputs": []
    },
    {
      "cell_type": "code",
      "source": [
        "from sklearn.ensemble import RandomForestClassifier\n",
        "from sklearn.metrics import accuracy_score\n",
        "from sklearn.metrics import precision_score, recall_score, f1_score\n",
        "from sklearn.metrics import confusion_matrix\n",
        "from sklearn.metrics import f1_score"
      ],
      "metadata": {
        "id": "n0bqgXv1Azsg"
      },
      "execution_count": null,
      "outputs": []
    },
    {
      "cell_type": "code",
      "source": [
        "forest = RandomForestClassifier()"
      ],
      "metadata": {
        "id": "2U5m41OBuWv6"
      },
      "execution_count": null,
      "outputs": []
    },
    {
      "cell_type": "code",
      "source": [
        "clf = GridSearchCV(forest, parameters)"
      ],
      "metadata": {
        "id": "pR9GR2boWEni"
      },
      "execution_count": null,
      "outputs": []
    },
    {
      "cell_type": "code",
      "source": [
        "clf.fit(X_train, y_train)"
      ],
      "metadata": {
        "colab": {
          "base_uri": "https://localhost:8080/"
        },
        "id": "RZZxxch5Wdg4",
        "outputId": "ac125475-a3c9-40d4-fdb9-37fa80db8b12"
      },
      "execution_count": null,
      "outputs": [
        {
          "output_type": "execute_result",
          "data": {
            "text/plain": [
              "GridSearchCV(estimator=RandomForestClassifier(),\n",
              "             param_grid={'max_depth': [15, 20, 30],\n",
              "                         'min_samples_leaf': [1, 2, 3, 4],\n",
              "                         'n_estimators': [40, 50, 80, 100]})"
            ],
            "text/html": [
              "<style>#sk-container-id-2 {color: black;background-color: white;}#sk-container-id-2 pre{padding: 0;}#sk-container-id-2 div.sk-toggleable {background-color: white;}#sk-container-id-2 label.sk-toggleable__label {cursor: pointer;display: block;width: 100%;margin-bottom: 0;padding: 0.3em;box-sizing: border-box;text-align: center;}#sk-container-id-2 label.sk-toggleable__label-arrow:before {content: \"▸\";float: left;margin-right: 0.25em;color: #696969;}#sk-container-id-2 label.sk-toggleable__label-arrow:hover:before {color: black;}#sk-container-id-2 div.sk-estimator:hover label.sk-toggleable__label-arrow:before {color: black;}#sk-container-id-2 div.sk-toggleable__content {max-height: 0;max-width: 0;overflow: hidden;text-align: left;background-color: #f0f8ff;}#sk-container-id-2 div.sk-toggleable__content pre {margin: 0.2em;color: black;border-radius: 0.25em;background-color: #f0f8ff;}#sk-container-id-2 input.sk-toggleable__control:checked~div.sk-toggleable__content {max-height: 200px;max-width: 100%;overflow: auto;}#sk-container-id-2 input.sk-toggleable__control:checked~label.sk-toggleable__label-arrow:before {content: \"▾\";}#sk-container-id-2 div.sk-estimator input.sk-toggleable__control:checked~label.sk-toggleable__label {background-color: #d4ebff;}#sk-container-id-2 div.sk-label input.sk-toggleable__control:checked~label.sk-toggleable__label {background-color: #d4ebff;}#sk-container-id-2 input.sk-hidden--visually {border: 0;clip: rect(1px 1px 1px 1px);clip: rect(1px, 1px, 1px, 1px);height: 1px;margin: -1px;overflow: hidden;padding: 0;position: absolute;width: 1px;}#sk-container-id-2 div.sk-estimator {font-family: monospace;background-color: #f0f8ff;border: 1px dotted black;border-radius: 0.25em;box-sizing: border-box;margin-bottom: 0.5em;}#sk-container-id-2 div.sk-estimator:hover {background-color: #d4ebff;}#sk-container-id-2 div.sk-parallel-item::after {content: \"\";width: 100%;border-bottom: 1px solid gray;flex-grow: 1;}#sk-container-id-2 div.sk-label:hover label.sk-toggleable__label {background-color: #d4ebff;}#sk-container-id-2 div.sk-serial::before {content: \"\";position: absolute;border-left: 1px solid gray;box-sizing: border-box;top: 0;bottom: 0;left: 50%;z-index: 0;}#sk-container-id-2 div.sk-serial {display: flex;flex-direction: column;align-items: center;background-color: white;padding-right: 0.2em;padding-left: 0.2em;position: relative;}#sk-container-id-2 div.sk-item {position: relative;z-index: 1;}#sk-container-id-2 div.sk-parallel {display: flex;align-items: stretch;justify-content: center;background-color: white;position: relative;}#sk-container-id-2 div.sk-item::before, #sk-container-id-2 div.sk-parallel-item::before {content: \"\";position: absolute;border-left: 1px solid gray;box-sizing: border-box;top: 0;bottom: 0;left: 50%;z-index: -1;}#sk-container-id-2 div.sk-parallel-item {display: flex;flex-direction: column;z-index: 1;position: relative;background-color: white;}#sk-container-id-2 div.sk-parallel-item:first-child::after {align-self: flex-end;width: 50%;}#sk-container-id-2 div.sk-parallel-item:last-child::after {align-self: flex-start;width: 50%;}#sk-container-id-2 div.sk-parallel-item:only-child::after {width: 0;}#sk-container-id-2 div.sk-dashed-wrapped {border: 1px dashed gray;margin: 0 0.4em 0.5em 0.4em;box-sizing: border-box;padding-bottom: 0.4em;background-color: white;}#sk-container-id-2 div.sk-label label {font-family: monospace;font-weight: bold;display: inline-block;line-height: 1.2em;}#sk-container-id-2 div.sk-label-container {text-align: center;}#sk-container-id-2 div.sk-container {/* jupyter's `normalize.less` sets `[hidden] { display: none; }` but bootstrap.min.css set `[hidden] { display: none !important; }` so we also need the `!important` here to be able to override the default hidden behavior on the sphinx rendered scikit-learn.org. See: https://github.com/scikit-learn/scikit-learn/issues/21755 */display: inline-block !important;position: relative;}#sk-container-id-2 div.sk-text-repr-fallback {display: none;}</style><div id=\"sk-container-id-2\" class=\"sk-top-container\"><div class=\"sk-text-repr-fallback\"><pre>GridSearchCV(estimator=RandomForestClassifier(),\n",
              "             param_grid={&#x27;max_depth&#x27;: [15, 20, 30],\n",
              "                         &#x27;min_samples_leaf&#x27;: [1, 2, 3, 4],\n",
              "                         &#x27;n_estimators&#x27;: [40, 50, 80, 100]})</pre><b>In a Jupyter environment, please rerun this cell to show the HTML representation or trust the notebook. <br />On GitHub, the HTML representation is unable to render, please try loading this page with nbviewer.org.</b></div><div class=\"sk-container\" hidden><div class=\"sk-item sk-dashed-wrapped\"><div class=\"sk-label-container\"><div class=\"sk-label sk-toggleable\"><input class=\"sk-toggleable__control sk-hidden--visually\" id=\"sk-estimator-id-4\" type=\"checkbox\" ><label for=\"sk-estimator-id-4\" class=\"sk-toggleable__label sk-toggleable__label-arrow\">GridSearchCV</label><div class=\"sk-toggleable__content\"><pre>GridSearchCV(estimator=RandomForestClassifier(),\n",
              "             param_grid={&#x27;max_depth&#x27;: [15, 20, 30],\n",
              "                         &#x27;min_samples_leaf&#x27;: [1, 2, 3, 4],\n",
              "                         &#x27;n_estimators&#x27;: [40, 50, 80, 100]})</pre></div></div></div><div class=\"sk-parallel\"><div class=\"sk-parallel-item\"><div class=\"sk-item\"><div class=\"sk-label-container\"><div class=\"sk-label sk-toggleable\"><input class=\"sk-toggleable__control sk-hidden--visually\" id=\"sk-estimator-id-5\" type=\"checkbox\" ><label for=\"sk-estimator-id-5\" class=\"sk-toggleable__label sk-toggleable__label-arrow\">estimator: RandomForestClassifier</label><div class=\"sk-toggleable__content\"><pre>RandomForestClassifier()</pre></div></div></div><div class=\"sk-serial\"><div class=\"sk-item\"><div class=\"sk-estimator sk-toggleable\"><input class=\"sk-toggleable__control sk-hidden--visually\" id=\"sk-estimator-id-6\" type=\"checkbox\" ><label for=\"sk-estimator-id-6\" class=\"sk-toggleable__label sk-toggleable__label-arrow\">RandomForestClassifier</label><div class=\"sk-toggleable__content\"><pre>RandomForestClassifier()</pre></div></div></div></div></div></div></div></div></div></div>"
            ]
          },
          "metadata": {},
          "execution_count": 33
        }
      ]
    },
    {
      "cell_type": "code",
      "source": [
        "sorted(clf.cv_results_.keys())"
      ],
      "metadata": {
        "colab": {
          "base_uri": "https://localhost:8080/"
        },
        "id": "-zOOlJpaZtQn",
        "outputId": "9ba3bbbe-9ba7-4669-ef12-7134bc5442af"
      },
      "execution_count": null,
      "outputs": [
        {
          "output_type": "execute_result",
          "data": {
            "text/plain": [
              "['mean_fit_time',\n",
              " 'mean_score_time',\n",
              " 'mean_test_score',\n",
              " 'param_max_depth',\n",
              " 'param_min_samples_leaf',\n",
              " 'param_n_estimators',\n",
              " 'params',\n",
              " 'rank_test_score',\n",
              " 'split0_test_score',\n",
              " 'split1_test_score',\n",
              " 'split2_test_score',\n",
              " 'split3_test_score',\n",
              " 'split4_test_score',\n",
              " 'std_fit_time',\n",
              " 'std_score_time',\n",
              " 'std_test_score']"
            ]
          },
          "metadata": {},
          "execution_count": 34
        }
      ]
    },
    {
      "cell_type": "code",
      "source": [
        "#returns the parameters that returned the best accuracy\n",
        "clf.best_params_"
      ],
      "metadata": {
        "colab": {
          "base_uri": "https://localhost:8080/"
        },
        "id": "PX6VRVGZXBs5",
        "outputId": "84d15d1c-6731-4b74-8cca-5ae48b2a42ff"
      },
      "execution_count": null,
      "outputs": [
        {
          "output_type": "execute_result",
          "data": {
            "text/plain": [
              "{'max_depth': 30, 'min_samples_leaf': 1, 'n_estimators': 100}"
            ]
          },
          "metadata": {},
          "execution_count": 35
        }
      ]
    },
    {
      "cell_type": "code",
      "source": [
        "clf = RandomForestClassifier(max_depth = 30, min_samples_leaf = 1, n_estimators =200)"
      ],
      "metadata": {
        "id": "Jwh-qJxlCbfL"
      },
      "execution_count": null,
      "outputs": []
    },
    {
      "cell_type": "code",
      "source": [
        "train_score = clf.fit(X_train, y_train).score(X_train, y_train)\n",
        "train_score"
      ],
      "metadata": {
        "id": "U9Dj58hojBGu",
        "colab": {
          "base_uri": "https://localhost:8080/"
        },
        "outputId": "4cec31d0-43bc-40d8-8ae4-5d23283c8200"
      },
      "execution_count": null,
      "outputs": [
        {
          "output_type": "execute_result",
          "data": {
            "text/plain": [
              "1.0"
            ]
          },
          "metadata": {},
          "execution_count": 49
        }
      ]
    },
    {
      "cell_type": "code",
      "source": [
        "pred_test_y = clf.predict(X_test)\n",
        "pred_train_y = clf.predict(X_train)\n",
        "print(pred_test_y)"
      ],
      "metadata": {
        "id": "5J4UDSSoubVO",
        "colab": {
          "base_uri": "https://localhost:8080/"
        },
        "outputId": "ac9af802-3375-4396-cbd6-55822b45b067"
      },
      "execution_count": null,
      "outputs": [
        {
          "output_type": "stream",
          "name": "stdout",
          "text": [
            "[1 1 1 ... 1 1 1]\n"
          ]
        }
      ]
    },
    {
      "cell_type": "code",
      "source": [
        "confusion_matrix(y_test, pred_test_y)"
      ],
      "metadata": {
        "id": "cjnnmqMUueVR",
        "colab": {
          "base_uri": "https://localhost:8080/"
        },
        "outputId": "d521869e-7793-46e2-d757-adfa14c5f17c"
      },
      "execution_count": null,
      "outputs": [
        {
          "output_type": "execute_result",
          "data": {
            "text/plain": [
              "array([[2804657,    1260,    2895],\n",
              "       [      8,   45680,       0],\n",
              "       [      1,       0,   28691]])"
            ]
          },
          "metadata": {},
          "execution_count": 51
        }
      ]
    },
    {
      "cell_type": "code",
      "source": [
        "from sklearn import metrics\n",
        "import warnings\n",
        "warnings.filterwarnings('ignore')"
      ],
      "metadata": {
        "id": "AZnwMnYY6_EA"
      },
      "execution_count": null,
      "outputs": []
    },
    {
      "cell_type": "code",
      "source": [
        "print(\"Random Forest Classifier\")\n",
        "aa, ao, an, oa, oo, on, na, no, nn = confusion_matrix(y_test, pred_test_y).ravel()\n",
        "print(f\"Test Accuracy is {(aa + oo + nn)/(aa + ao + an + oa + oo + on + na + no + nn)}\")\n",
        "#print(f\"precision for botnet is {oo / (oa + oo + on)}\")\n",
        "#print(f\"recall for botnet is {oo / (ao + oo + no)}\")\n",
        "print(f\"Test Precision is {precision_score(y_test, pred_test_y, pos_label='positive', average='micro')}\")\n",
        "print(f\"Test Recall is {recall_score(y_test, pred_test_y, pos_label='positive', average='micro')}\")\n",
        "print()\n",
        "print(f\"Train Accuracy is {train_score}\")\n",
        "print(f\"F1 score is {f1_score(y_test, pred_test_y, average='macro')}\")\n"
      ],
      "metadata": {
        "id": "YfcVISJn2M1p",
        "colab": {
          "base_uri": "https://localhost:8080/"
        },
        "outputId": "531ebf2c-144d-4b0e-a572-e05f72901333"
      },
      "execution_count": null,
      "outputs": [
        {
          "output_type": "stream",
          "name": "stdout",
          "text": [
            "Random Forest Classifier\n",
            "Test Accuracy is 0.998555767357845\n",
            "Test Precision is 0.998555767357845\n",
            "Test Recall is 0.998555767357845\n",
            "\n",
            "Train Accuracy is 1.0\n",
            "F1 score is 0.9791749953726884\n"
          ]
        }
      ]
    },
    {
      "cell_type": "markdown",
      "source": [
        "# SVM\n"
      ],
      "metadata": {
        "id": "aemWFd_UBrHs"
      }
    },
    {
      "cell_type": "code",
      "source": [
        "from sklearn import svm\n",
        "from sklearn.model_selection import GridSearchCV"
      ],
      "metadata": {
        "id": "QDhqAtgmB0s2"
      },
      "execution_count": null,
      "outputs": []
    },
    {
      "cell_type": "code",
      "source": [
        "#, 'rbf', 'poly', 'sigmoid'\n",
        "parameters = {'kernel':('linear', 'rbf'), 'C':[1, 10]}"
      ],
      "metadata": {
        "id": "SQu5TcZrEsMo"
      },
      "execution_count": null,
      "outputs": []
    },
    {
      "cell_type": "code",
      "source": [
        "svc = svm.SVC()"
      ],
      "metadata": {
        "id": "XsnfFMt5RZG8"
      },
      "execution_count": null,
      "outputs": []
    },
    {
      "cell_type": "code",
      "source": [
        "clf_svc = GridSearchCV(svc, parameters)"
      ],
      "metadata": {
        "id": "gynbDeWnEtxp"
      },
      "execution_count": null,
      "outputs": []
    },
    {
      "cell_type": "code",
      "source": [
        "clf_svc.fit(X_train, y_train)"
      ],
      "metadata": {
        "id": "Zfg7HfYhE-eX"
      },
      "execution_count": null,
      "outputs": []
    },
    {
      "cell_type": "code",
      "source": [
        "sorted(clf_svc.cv_results_.keys())"
      ],
      "metadata": {
        "colab": {
          "base_uri": "https://localhost:8080/"
        },
        "id": "7qbB_rWUE_7t",
        "outputId": "7486121d-ead5-4642-fa49-0867a3171533"
      },
      "execution_count": null,
      "outputs": [
        {
          "output_type": "execute_result",
          "data": {
            "text/plain": [
              "['mean_fit_time',\n",
              " 'mean_score_time',\n",
              " 'mean_test_score',\n",
              " 'param_C',\n",
              " 'param_kernel',\n",
              " 'params',\n",
              " 'rank_test_score',\n",
              " 'split0_test_score',\n",
              " 'split1_test_score',\n",
              " 'split2_test_score',\n",
              " 'split3_test_score',\n",
              " 'split4_test_score',\n",
              " 'std_fit_time',\n",
              " 'std_score_time',\n",
              " 'std_test_score']"
            ]
          },
          "metadata": {},
          "execution_count": 29
        }
      ]
    },
    {
      "cell_type": "code",
      "source": [
        "clf_svc.best_params_"
      ],
      "metadata": {
        "colab": {
          "base_uri": "https://localhost:8080/"
        },
        "id": "6MiTSzt6awa8",
        "outputId": "44777cf3-22b4-4a55-b637-0384131c8bb8"
      },
      "execution_count": null,
      "outputs": [
        {
          "output_type": "execute_result",
          "data": {
            "text/plain": [
              "{'C': 1, 'kernel': 'linear'}"
            ]
          },
          "metadata": {},
          "execution_count": 30
        }
      ]
    },
    {
      "cell_type": "code",
      "source": [
        "for key, value in clf_svc.cv_results_.items():\n",
        "    print(key + \":\")\n",
        "    print(value)\n",
        "    print()"
      ],
      "metadata": {
        "id": "po_pLv68FQFc"
      },
      "execution_count": null,
      "outputs": []
    },
    {
      "cell_type": "code",
      "source": [
        "svc = svm.SVC()"
      ],
      "metadata": {
        "id": "Flu0UzId6vno"
      },
      "execution_count": null,
      "outputs": []
    },
    {
      "cell_type": "code",
      "source": [
        "train_score = svc.fit(X_train, y_train).score(X_train, y_train)"
      ],
      "metadata": {
        "id": "XB2R_91I6_k0"
      },
      "execution_count": null,
      "outputs": []
    },
    {
      "cell_type": "code",
      "source": [
        "pred_test_y = svc.predict(X_test)\n",
        "pred_train_y = svc.predict(X_train)\n",
        "print(pred_test_y)"
      ],
      "metadata": {
        "id": "niI6JAuy7HzB"
      },
      "execution_count": null,
      "outputs": []
    },
    {
      "cell_type": "code",
      "source": [
        "confusion_matrix(y_test, pred_test_y)"
      ],
      "metadata": {
        "id": "NgzDCeja7Jew"
      },
      "execution_count": null,
      "outputs": []
    },
    {
      "cell_type": "code",
      "source": [
        "from sklearn import metrics\n",
        "import warnings\n",
        "warnings.filterwarnings('ignore')"
      ],
      "metadata": {
        "id": "1wf-X_nu7L22"
      },
      "execution_count": null,
      "outputs": []
    },
    {
      "cell_type": "code",
      "source": [
        "print(\"SVM, support vector classification\")\n",
        "aa, ao, an, oa, oo, on, na, no, nn = confusion_matrix(y_test, pred_test_y).ravel()\n",
        "print(f\"Test Accuracy is {(aa + oo + nn)/(aa + ao + an + oa + oo + on + na + no + nn)}\")\n",
        "#print(f\"precision for botnet is {oo / (oa + oo + on)}\")\n",
        "#print(f\"recall for botnet is {oo / (ao + oo + no)}\")\n",
        "print(f\"Test Precision is {precision_score(y_test, pred_test_y, pos_label='positive', average='micro')}\")\n",
        "print(f\"Test Recall is {recall_score(y_test, pred_test_y, pos_label='positive', average='micro')}\")\n",
        "print()\n",
        "print(f\"Train Accuracy is {train_score}\")\n",
        "print(f\"F1 score is {f1_score(y_test, pred_test_y, average='macro')}\")\n"
      ],
      "metadata": {
        "id": "Zdq5-k8p7PWi"
      },
      "execution_count": null,
      "outputs": []
    },
    {
      "cell_type": "markdown",
      "source": [
        "# Naive Bayes\n"
      ],
      "metadata": {
        "id": "o6FKtub5FlcG"
      }
    },
    {
      "cell_type": "code",
      "source": [
        "from sklearn.datasets import load_iris\n",
        "from sklearn.naive_bayes import GaussianNB\n",
        "from sklearn.metrics import accuracy_score\n",
        "from sklearn.metrics import precision_score, recall_score, f1_score\n",
        "from sklearn.metrics import confusion_matrix\n",
        "from sklearn.metrics import f1_score"
      ],
      "metadata": {
        "id": "t0No6IrBFo9n"
      },
      "execution_count": null,
      "outputs": []
    },
    {
      "cell_type": "code",
      "source": [
        "gnb = GaussianNB()"
      ],
      "metadata": {
        "id": "GSgDH5ReKOd1"
      },
      "execution_count": null,
      "outputs": []
    },
    {
      "cell_type": "code",
      "source": [
        "y_pred = gnb.fit(X_train, y_train).predict(X_test)"
      ],
      "metadata": {
        "id": "TPePCtLTKVVb"
      },
      "execution_count": null,
      "outputs": []
    },
    {
      "cell_type": "code",
      "source": [
        "print(\"Number of mislabeled points out of a total %d points : %d\"% (X_test.shape[0], (y_test != y_pred).sum()))"
      ],
      "metadata": {
        "colab": {
          "base_uri": "https://localhost:8080/"
        },
        "id": "vfe94VS2KspL",
        "outputId": "edd43cba-e6e8-4568-9079-15b1cae3598b"
      },
      "execution_count": null,
      "outputs": [
        {
          "output_type": "stream",
          "name": "stdout",
          "text": [
            "Number of mislabeled points out of a total 2883192 points : 1944110\n"
          ]
        }
      ]
    },
    {
      "cell_type": "code",
      "source": [
        "confusion_matrix(y_test, y_pred)"
      ],
      "metadata": {
        "colab": {
          "base_uri": "https://localhost:8080/"
        },
        "id": "q1FP1QFcKzym",
        "outputId": "c75814d1-35a7-4c40-b566-5d98dd86c6b0"
      },
      "execution_count": null,
      "outputs": [
        {
          "output_type": "execute_result",
          "data": {
            "text/plain": [
              "array([[ 891720, 1718300,  198792],\n",
              "       [    177,   44595,     916],\n",
              "       [    485,   25440,    2767]])"
            ]
          },
          "metadata": {},
          "execution_count": 22
        }
      ]
    },
    {
      "cell_type": "code",
      "source": [
        "from sklearn import metrics\n",
        "import warnings\n",
        "warnings.filterwarnings('ignore')"
      ],
      "metadata": {
        "id": "hd9PQ0KTLITY"
      },
      "execution_count": null,
      "outputs": []
    },
    {
      "cell_type": "code",
      "source": [
        "y_train_pred = gnb.predict(X_train)\n",
        "train_score = accuracy_score(y_train, y_train_pred)"
      ],
      "metadata": {
        "id": "ivAlbhX3TBOH"
      },
      "execution_count": null,
      "outputs": []
    },
    {
      "cell_type": "code",
      "source": [
        "aa, ao, an, oa, oo, on, na, no, nn = confusion_matrix(y_test, y_pred).ravel()\n",
        "print(f\"Test Accuracy is {(aa + oo + nn)/(aa + ao + an + oa + oo + on + na + no + nn)}\")\n",
        "#print(f\"precision for botnet is {oo / (oa + oo + on)}\")\n",
        "#print(f\"recall for botnet is {oo / (ao + oo + no)}\")\n",
        "print(f\"Test Precision is {precision_score(y_test, y_pred, pos_label='positive', average='micro')}\")\n",
        "print(f\"Test Recall is {recall_score(y_test, y_pred, pos_label='positive', average='micro')}\")\n",
        "print()\n",
        "print(f\"Train Accuracy is {train_score}\")\n",
        "print(f\"F1 score is {f1_score(y_test, y_pred, average='macro')}\")\n"
      ],
      "metadata": {
        "colab": {
          "base_uri": "https://localhost:8080/"
        },
        "id": "RSjtd8M5LNSy",
        "outputId": "0db6d3b3-9471-48d9-be20-ddfc8998f910"
      },
      "execution_count": null,
      "outputs": [
        {
          "output_type": "stream",
          "name": "stdout",
          "text": [
            "Test Accuracy is 0.32570914458697164\n",
            "Test Precision is 0.32570914458697164\n",
            "Test Recall is 0.32570914458697164\n",
            "\n",
            "Train Accuracy is 0.4627910608321477\n",
            "F1 score is 0.18480850493380283\n"
          ]
        }
      ]
    },
    {
      "cell_type": "markdown",
      "source": [
        "# KNN\n",
        "n_neighbors, weights, algorithm, leaf_size, p"
      ],
      "metadata": {
        "id": "fLLtpTLVci-4"
      }
    },
    {
      "cell_type": "code",
      "source": [
        "from sklearn.neighbors import KNeighborsClassifier\n",
        "from sklearn.model_selection import GridSearchCV\n",
        "from sklearn.ensemble import RandomForestClassifier\n",
        "from sklearn.metrics import accuracy_score\n",
        "from sklearn.metrics import precision_score, recall_score, f1_score\n",
        "from sklearn.metrics import confusion_matrix\n",
        "from sklearn.metrics import f1_score"
      ],
      "metadata": {
        "id": "ip8-NgITc42_"
      },
      "execution_count": null,
      "outputs": []
    },
    {
      "cell_type": "code",
      "source": [
        "#'algorithm': ('auto', 'ball_tree', 'kd_tree', 'brute')\n",
        "parameters = {'n_neighbors': (5, 10, 20), 'weights': ('uniform', 'distance', None), 'leaf_size': (30, 50, 60)}"
      ],
      "metadata": {
        "id": "eAB4eHmYdFEN"
      },
      "execution_count": null,
      "outputs": []
    },
    {
      "cell_type": "code",
      "source": [
        "neigh = KNeighborsClassifier()"
      ],
      "metadata": {
        "id": "LEfUyFA4c70f"
      },
      "execution_count": null,
      "outputs": []
    },
    {
      "cell_type": "code",
      "source": [
        "clf_neigh = GridSearchCV(neigh, parameters)"
      ],
      "metadata": {
        "id": "oz2BTSKrd9Rf"
      },
      "execution_count": null,
      "outputs": []
    },
    {
      "cell_type": "code",
      "source": [
        "clf_neigh.fit(X_train, y_train)"
      ],
      "metadata": {
        "id": "3pc7y__0eA3H"
      },
      "execution_count": null,
      "outputs": []
    },
    {
      "cell_type": "code",
      "source": [
        "sorted(clf_neigh.cv_results_.keys())"
      ],
      "metadata": {
        "id": "ysRpwef2eFQJ"
      },
      "execution_count": null,
      "outputs": []
    },
    {
      "cell_type": "code",
      "source": [
        "clf_neigh.best_params_"
      ],
      "metadata": {
        "id": "X5Dg_fBheGXv"
      },
      "execution_count": null,
      "outputs": []
    },
    {
      "cell_type": "code",
      "source": [
        "for key, value in clf_neigh.cv_results_.items():\n",
        "    print(key + \":\")\n",
        "    print(value)\n",
        "    print()"
      ],
      "metadata": {
        "id": "b4fWrJLAeLfH"
      },
      "execution_count": null,
      "outputs": []
    },
    {
      "cell_type": "code",
      "source": [
        "neigh = KNeighborsClassifier(leaf_size = 30, n_neighbors = 20, weights = 'distance')#ADD IN THE PARAMETERS"
      ],
      "metadata": {
        "id": "1BnPiYVKeQiN"
      },
      "execution_count": null,
      "outputs": []
    },
    {
      "cell_type": "code",
      "source": [
        "train_score = neigh.fit(X_train, y_train).score(X_train, y_train)"
      ],
      "metadata": {
        "id": "PHGgay6geWD9"
      },
      "execution_count": null,
      "outputs": []
    },
    {
      "cell_type": "code",
      "source": [
        "pred_test_y = neigh.predict(X_test)\n",
        "pred_train_y = neigh.predict(X_train)\n",
        "print(pred_test_y)"
      ],
      "metadata": {
        "id": "ti_vxDXwefer",
        "colab": {
          "base_uri": "https://localhost:8080/"
        },
        "outputId": "12e1dd73-17c0-4488-a7a2-4309cd0a6db7"
      },
      "execution_count": null,
      "outputs": [
        {
          "output_type": "stream",
          "name": "stdout",
          "text": [
            "[1 1 1 ... 1 2 2]\n"
          ]
        }
      ]
    },
    {
      "cell_type": "code",
      "source": [
        "confusion_matrix(y_test, pred_test_y)"
      ],
      "metadata": {
        "id": "GvHaIhBNejXG",
        "colab": {
          "base_uri": "https://localhost:8080/"
        },
        "outputId": "3d6826a7-8111-4893-e7f8-0d1a53843693"
      },
      "execution_count": null,
      "outputs": [
        {
          "output_type": "execute_result",
          "data": {
            "text/plain": [
              "array([[1733661,  902695,  172456],\n",
              "       [   7046,   36750,    1892],\n",
              "       [    437,     549,   27706]])"
            ]
          },
          "metadata": {},
          "execution_count": 16
        }
      ]
    },
    {
      "cell_type": "code",
      "source": [
        "from sklearn import metrics\n",
        "import warnings\n",
        "warnings.filterwarnings('ignore')"
      ],
      "metadata": {
        "id": "RJqc-w6IemAo"
      },
      "execution_count": null,
      "outputs": []
    },
    {
      "cell_type": "code",
      "source": [
        "print(\"K Neighbors Classifier\")\n",
        "aa, ao, an, oa, oo, on, na, no, nn = confusion_matrix(y_test, pred_test_y).ravel()\n",
        "print(f\"Test Accuracy is {(aa + oo + nn)/(aa + ao + an + oa + oo + on + na + no + nn)}\")\n",
        "#print(f\"precision for botnet is {oo / (oa + oo + on)}\")\n",
        "#print(f\"recall for botnet is {oo / (ao + oo + no)}\")\n",
        "print(f\"Test Precision is {precision_score(y_test, pred_test_y, pos_label='positive', average='micro')}\")\n",
        "print(f\"Test Recall is {recall_score(y_test, pred_test_y, pos_label='positive', average='micro')}\")\n",
        "print()\n",
        "print(f\"Train Accuracy is {train_score}\")\n",
        "print(f\"F1 score is {f1_score(y_test, pred_test_y, average='macro')}\")"
      ],
      "metadata": {
        "id": "zVFRLmuQenWi",
        "colab": {
          "base_uri": "https://localhost:8080/"
        },
        "outputId": "5cd6d0bb-d56b-4ddc-876e-3942fc0624e3"
      },
      "execution_count": null,
      "outputs": [
        {
          "output_type": "stream",
          "name": "stdout",
          "text": [
            "K Neighbors Classifier\n",
            "Test Accuracy is 0.6236549629715954\n",
            "Test Precision is 0.6236549629715954\n",
            "Test Recall is 0.6236549629715954\n",
            "\n",
            "Train Accuracy is 1.0\n",
            "F1 score is 0.35892222044714117\n"
          ]
        }
      ]
    },
    {
      "cell_type": "markdown",
      "source": [
        "Neural Networks or deep learning not sure yet"
      ],
      "metadata": {
        "id": "hTSgaDgQe-q9"
      }
    }
  ]
}