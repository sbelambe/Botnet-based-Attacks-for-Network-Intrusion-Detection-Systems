{
  "nbformat": 4,
  "nbformat_minor": 0,
  "metadata": {
    "colab": {
      "provenance": []
    },
    "kernelspec": {
      "name": "python3",
      "display_name": "Python 3"
    },
    "language_info": {
      "name": "python"
    }
  },
  "cells": [
    {
      "cell_type": "code",
      "source": [
        "from google.colab import drive\n",
        "drive.mount('/content/drive')"
      ],
      "metadata": {
        "id": "q_4B0H0aJUbn",
        "colab": {
          "base_uri": "https://localhost:8080/"
        },
        "outputId": "0a409487-39aa-4025-a9ad-87ce13721c1e"
      },
      "execution_count": null,
      "outputs": [
        {
          "output_type": "stream",
          "name": "stdout",
          "text": [
            "Mounted at /content/drive\n"
          ]
        }
      ]
    },
    {
      "cell_type": "code",
      "source": [
        "import pandas as pd\n",
        "ctu = pd.read_csv('/content/drive/MyDrive/sjsu nsf reu/new_edited_merged_files.csv')\n",
        "unsw1120 = pd.read_csv('/content/drive/MyDrive/sjsu nsf reu/unsw_11-20.csv')"
      ],
      "metadata": {
        "id": "mnFTLQTdJZ7o"
      },
      "execution_count": null,
      "outputs": []
    },
    {
      "cell_type": "code",
      "source": [
        "selected_df = pd.concat([ctu, unsw1120])\n",
        "selected_df.shape"
      ],
      "metadata": {
        "colab": {
          "base_uri": "https://localhost:8080/"
        },
        "id": "XSUxdyHxJc1i",
        "outputId": "662ea82b-c1b1-481a-8045-47f29749a3c6"
      },
      "execution_count": null,
      "outputs": [
        {
          "output_type": "execute_result",
          "data": {
            "text/plain": [
              "(6295973, 10)"
            ]
          },
          "metadata": {},
          "execution_count": 4
        }
      ]
    },
    {
      "cell_type": "code",
      "source": [
        "from sklearn.model_selection import train_test_split\n",
        "import random"
      ],
      "metadata": {
        "id": "2X4wet-mJeVK"
      },
      "execution_count": null,
      "outputs": []
    },
    {
      "cell_type": "code",
      "source": [
        "X = selected_df.loc[:, ['StartTime', 'Dur', 'Proto', 'SrcAddr', 'DstAddr', 'State', 'TotPkts', 'TotBytes', 'SrcBytes', 'Label']]\n",
        "y = selected_df.loc[:, ['Label']]\n",
        "\n",
        "X_train, X_test, y_train, y_test = train_test_split(X, y, test_size = 0.2, random_state = 420)"
      ],
      "metadata": {
        "id": "bqqlPpHoJfeA"
      },
      "execution_count": null,
      "outputs": []
    },
    {
      "cell_type": "code",
      "source": [
        "#9\n",
        "background_count = 0\n",
        "normal_count = 0\n",
        "botnet_count = 0\n",
        "\n",
        "for x in X_train['Label']:\n",
        "    if '1' in str(x): #Background\n",
        "        background_count += 1\n",
        "    if '2' in str(x): #Normal\n",
        "        normal_count += 1\n",
        "    if '3' in str(x): #Botnet\n",
        "        botnet_count += 1\n",
        "\n",
        "print(str(float(background_count/11532766)))\n",
        "print(str(float(normal_count/11532766)))\n",
        "print(str(float(botnet_count/11532766)))\n",
        "\n",
        "botnet_ratio_b = (float(botnet_count/background_count))\n",
        "botnet_ratio_n = (float(botnet_count/normal_count))\n"
      ],
      "metadata": {
        "id": "ZWx8TZCJPIdA",
        "colab": {
          "base_uri": "https://localhost:8080/"
        },
        "outputId": "a8c13241-c5c1-43b5-f127-b278bd90114c"
      },
      "execution_count": null,
      "outputs": [
        {
          "output_type": "stream",
          "name": "stdout",
          "text": [
            "0.4109449545755112\n",
            "0.015821963265360627\n",
            "0.009969421039150538\n"
          ]
        }
      ]
    },
    {
      "cell_type": "code",
      "source": [
        "print(background_count)\n",
        "print(normal_count)\n",
        "print(botnet_count)"
      ],
      "metadata": {
        "id": "j1hFiEFhPO6x",
        "colab": {
          "base_uri": "https://localhost:8080/"
        },
        "outputId": "6cf9560e-cf3b-43d0-f24e-72720c19691f"
      },
      "execution_count": null,
      "outputs": [
        {
          "output_type": "stream",
          "name": "stdout",
          "text": [
            "4739332\n",
            "182471\n",
            "114975\n"
          ]
        }
      ]
    },
    {
      "cell_type": "code",
      "source": [
        "filtered_df_1 = X_train.copy()\n",
        "\n",
        "# Create a boolean mask to identify rows with \"background\" in the 'Label' column\n",
        "mask_b = filtered_df_1['Label'].astype(str).str.contains('1')\n",
        "\n",
        "# Get the indices of rows with \"background\"\n",
        "indices_background = filtered_df_1.index[mask_b]\n",
        "\n",
        "# Calculate the number of rows to drop (background_count - botnet_count)\n",
        "num_rows_to_drop = background_count - botnet_count\n",
        "\n",
        "# Randomly select 'num_rows_to_drop' indices from the background indices\n",
        "indices_to_drop_b = random.sample(indices_background.tolist(), num_rows_to_drop)\n",
        "filtered_y = y_train.copy()\n",
        "\n",
        "# Drop the specified rows from the DataFrame\n",
        "filtered_df_1 = filtered_df_1.drop(indices_to_drop_b)\n",
        "filtered_y = filtered_y.drop(indices_to_drop_b)\n",
        "\n",
        "# Reset the index of the filtered DataFrame\n",
        "filtered_df_1 = filtered_df_1.reset_index(drop=True)\n",
        "filtered_y = filtered_y.reset_index(drop=True)"
      ],
      "metadata": {
        "id": "atNR6bHgPVyF"
      },
      "execution_count": null,
      "outputs": []
    },
    {
      "cell_type": "code",
      "source": [
        "#15\n",
        "background_count = 0\n",
        "normal_count = 0\n",
        "botnet_count = 0\n",
        "\n",
        "for x in filtered_df_1['Label']:\n",
        "    if '1' in str(x): #Background\n",
        "        background_count += 1\n",
        "    if '2' in str(x): #Normal\n",
        "        normal_count += 1\n",
        "    if '3' in str(x): #Botnet\n",
        "        botnet_count += 1\n",
        "\n",
        "print(str(float(background_count/413824)))\n",
        "print(str(float(normal_count/413824)))\n",
        "print(str(float(botnet_count/413824)))\n",
        "\n",
        "botnet_ratio_b = (float(botnet_count/background_count))\n",
        "botnet_ratio_n = (float(botnet_count/normal_count))"
      ],
      "metadata": {
        "id": "C1oHCUerPgo-",
        "colab": {
          "base_uri": "https://localhost:8080/"
        },
        "outputId": "90ad4e4e-3176-4893-f38f-9c44653ab8b4"
      },
      "execution_count": null,
      "outputs": [
        {
          "output_type": "stream",
          "name": "stdout",
          "text": [
            "0.2778355049489638\n",
            "0.440552022115682\n",
            "0.277707431178472\n"
          ]
        }
      ]
    },
    {
      "cell_type": "code",
      "source": [
        "filtered_df = filtered_df_1.copy()\n",
        "\n",
        "# Create a boolean mask to identify rows with \"normal\" in the 'Label' column\n",
        "mask_bot = filtered_df['Label'].astype(str).str.contains('2')\n",
        "\n",
        "# Get the indices of rows with \"background\"\n",
        "indices_background = filtered_df.index[mask_bot]\n",
        "\n",
        "# Calculate the number of rows to drop (background_count - botnet_count)\n",
        "num_rows_to_drop = normal_count - botnet_count\n",
        "\n",
        "# Randomly select 'num_rows_to_drop' indices from the background indices\n",
        "indices_to_drop_bot = random.sample(indices_background.tolist(), num_rows_to_drop)\n",
        "filtered_y_2 = filtered_y.copy()\n",
        "\n",
        "# Drop the specified rows from the DataFrame\n",
        "filtered_df = filtered_df.drop(indices_to_drop_bot)\n",
        "filtered_y_2 = filtered_y_2.drop(indices_to_drop_bot)\n",
        "\n",
        "# Reset the index of the filtered DataFrame\n",
        "filtered_df = filtered_df.reset_index(drop=True)\n",
        "filtered_y_2 = filtered_y_2.reset_index(drop=True)"
      ],
      "metadata": {
        "id": "N8h5xqu0UOL5"
      },
      "execution_count": null,
      "outputs": []
    },
    {
      "cell_type": "code",
      "source": [
        "#19\n",
        "background_count = 0\n",
        "normal_count = 0\n",
        "botnet_count = 0\n",
        "\n",
        "for x in filtered_df['Label']:\n",
        "    if '1' in str(x):\n",
        "        background_count += 1\n",
        "    if '2' in str(x):\n",
        "        normal_count += 1\n",
        "    if '3' in str(x):\n",
        "        botnet_count += 1\n",
        "\n",
        "print(str(float(background_count/345804)))\n",
        "print(str(float(normal_count/345804)))\n",
        "print(str(float(botnet_count/345804)))"
      ],
      "metadata": {
        "id": "hHD6QNGtUmqC",
        "colab": {
          "base_uri": "https://localhost:8080/"
        },
        "outputId": "d08dde2b-14eb-480f-ef79-8d806358a9d7"
      },
      "execution_count": null,
      "outputs": [
        {
          "output_type": "stream",
          "name": "stdout",
          "text": [
            "0.3324860325502308\n",
            "0.3323327665382702\n",
            "0.3323327665382702\n"
          ]
        }
      ]
    },
    {
      "cell_type": "code",
      "source": [
        "print(background_count)\n",
        "print(normal_count)\n",
        "print(botnet_count)"
      ],
      "metadata": {
        "colab": {
          "base_uri": "https://localhost:8080/"
        },
        "id": "MrUXkvlERiQG",
        "outputId": "86495998-a18e-4e80-ea2f-b8aed47e3b42"
      },
      "execution_count": null,
      "outputs": [
        {
          "output_type": "stream",
          "name": "stdout",
          "text": [
            "114975\n",
            "114922\n",
            "114922\n"
          ]
        }
      ]
    },
    {
      "cell_type": "code",
      "source": [
        "X_train = filtered_df"
      ],
      "metadata": {
        "id": "-5YOOivYWZzK"
      },
      "execution_count": null,
      "outputs": []
    },
    {
      "cell_type": "code",
      "source": [
        "y_train = filtered_y_2"
      ],
      "metadata": {
        "id": "twGZNCxAhlaN"
      },
      "execution_count": null,
      "outputs": []
    },
    {
      "cell_type": "code",
      "source": [
        "X_train = X_train.drop(columns=['Label'])\n",
        "X_test = X_test.drop(columns=['Label'])"
      ],
      "metadata": {
        "id": "gwOFogZeiRjg"
      },
      "execution_count": null,
      "outputs": []
    },
    {
      "cell_type": "markdown",
      "source": [
        "#Changing Test Set"
      ],
      "metadata": {
        "id": "3_V2AoZcJ0OV"
      }
    },
    {
      "cell_type": "code",
      "source": [
        "y_test.value_counts()"
      ],
      "metadata": {
        "colab": {
          "base_uri": "https://localhost:8080/"
        },
        "id": "ssjFQ8ygK-2u",
        "outputId": "40d3576a-43d6-4188-a1f0-f0b3520ff421"
      },
      "execution_count": null,
      "outputs": [
        {
          "output_type": "execute_result",
          "data": {
            "text/plain": [
              "Label\n",
              "1        1184638\n",
              "2          45482\n",
              "3          29075\n",
              "dtype: int64"
            ]
          },
          "metadata": {},
          "execution_count": 120
        }
      ]
    },
    {
      "cell_type": "code",
      "source": [
        "y_test_copy = y_test.copy()"
      ],
      "metadata": {
        "id": "Gicf-6DwBKyB"
      },
      "execution_count": null,
      "outputs": []
    },
    {
      "cell_type": "code",
      "source": [
        "rows_to_change = y_test_copy[y_test_copy['Label'].isin([1, 2])]\n",
        "rows_to_change.shape\n",
        "rows = int((2808485+46024) * 0.4)"
      ],
      "metadata": {
        "id": "JC1zFHUN9wh-"
      },
      "execution_count": null,
      "outputs": []
    },
    {
      "cell_type": "code",
      "source": [
        "rows_to_change = rows_to_change.sample(rows).copy()\n",
        "\n",
        "y_test_copy.loc[rows_to_change.index, 'Label'] = 3"
      ],
      "metadata": {
        "id": "fCuk9BPE_dj3"
      },
      "execution_count": null,
      "outputs": []
    },
    {
      "cell_type": "code",
      "source": [
        "y_test_copy.value_counts()"
      ],
      "metadata": {
        "colab": {
          "base_uri": "https://localhost:8080/"
        },
        "id": "GNytcb90AGGA",
        "outputId": "1dbb1b6f-c400-4cdb-c008-e23643d5ab74"
      },
      "execution_count": null,
      "outputs": [
        {
          "output_type": "execute_result",
          "data": {
            "text/plain": [
              "Label\n",
              "3        1170879\n",
              "1          85040\n",
              "2           3276\n",
              "dtype: int64"
            ]
          },
          "metadata": {},
          "execution_count": 101
        }
      ]
    },
    {
      "cell_type": "code",
      "source": [
        "X_train.value_counts()"
      ],
      "metadata": {
        "colab": {
          "base_uri": "https://localhost:8080/"
        },
        "id": "Wd8jPc8UCLKk",
        "outputId": "d3f3fdbc-0b43-4465-80a9-1a2aef03a35a"
      },
      "execution_count": null,
      "outputs": [
        {
          "output_type": "execute_result",
          "data": {
            "text/plain": [
              "StartTime  Dur      Proto  SrcAddr  DstAddr  State  TotPkts  TotBytes  SrcBytes\n",
              "5          17       2      6        7        2      7        5         5           1\n",
              "8933613    112768   1      13       7260     1      1        4         5           1\n",
              "8934047    75       1      1        1        1      1        1         1           1\n",
              "8934032    321      1      2        1        1      1        217       16          1\n",
              "8934020    466910   1      717003   2        1      2        20        20          1\n",
              "                                                                                  ..\n",
              "4188143    190      1      101      1        1      1        194       13          1\n",
              "4188130    371      1      947356   3        1      1        6         11          1\n",
              "4188126    207      1      14       1        1      1        328       25          1\n",
              "4188119    1007421  1      65       1        1      2        299       104         1\n",
              "14415956   45       1      3        1        1      1        2         2           1\n",
              "Length: 345790, dtype: int64"
            ]
          },
          "metadata": {},
          "execution_count": 129
        }
      ]
    },
    {
      "cell_type": "markdown",
      "source": [
        "# Random Forest\n"
      ],
      "metadata": {
        "id": "Tx3zH0WDK_gZ"
      }
    },
    {
      "cell_type": "code",
      "source": [
        "from sklearn.ensemble import RandomForestClassifier\n",
        "from sklearn.metrics import accuracy_score\n",
        "from sklearn.metrics import precision_score, recall_score, f1_score\n",
        "from sklearn.metrics import confusion_matrix\n",
        "from sklearn.metrics import f1_score"
      ],
      "metadata": {
        "id": "XCLg_JtBH8SK"
      },
      "execution_count": null,
      "outputs": []
    },
    {
      "cell_type": "code",
      "source": [
        "clf = RandomForestClassifier(max_depth = 30, min_samples_leaf = 1, n_estimators =200)"
      ],
      "metadata": {
        "id": "jtEO-SuGH--d"
      },
      "execution_count": null,
      "outputs": []
    },
    {
      "cell_type": "code",
      "source": [
        "train_score = clf.fit(X_train, y_train).score(X_train, y_train)\n",
        "train_score"
      ],
      "metadata": {
        "colab": {
          "base_uri": "https://localhost:8080/"
        },
        "id": "58T2Oz6AIAOO",
        "outputId": "63c398d1-b890-4f7e-b2be-e6b314c1e216"
      },
      "execution_count": null,
      "outputs": [
        {
          "output_type": "stream",
          "name": "stderr",
          "text": [
            "<ipython-input-104-84eecfb2c483>:1: DataConversionWarning: A column-vector y was passed when a 1d array was expected. Please change the shape of y to (n_samples,), for example using ravel().\n",
            "  train_score = clf.fit(X_train, y_train).score(X_train, y_train)\n"
          ]
        },
        {
          "output_type": "execute_result",
          "data": {
            "text/plain": [
              "1.0"
            ]
          },
          "metadata": {},
          "execution_count": 104
        }
      ]
    },
    {
      "cell_type": "code",
      "source": [
        "pred_test_y = clf.predict(X_test)\n",
        "pred_train_y = clf.predict(X_train)"
      ],
      "metadata": {
        "id": "t8L1QiJMIFu8"
      },
      "execution_count": null,
      "outputs": []
    },
    {
      "cell_type": "code",
      "source": [
        "confusion_matrix(y_test_copy, pred_test_y)"
      ],
      "metadata": {
        "colab": {
          "base_uri": "https://localhost:8080/"
        },
        "id": "CzrFC2x1IHJv",
        "outputId": "c5f1421e-4741-416f-b9a6-17717b880f2e"
      },
      "execution_count": null,
      "outputs": [
        {
          "output_type": "execute_result",
          "data": {
            "text/plain": [
              "array([[  85036,       4,       0],\n",
              "       [      0,    3275,       1],\n",
              "       [1099546,   42255,   29078]])"
            ]
          },
          "metadata": {},
          "execution_count": 106
        }
      ]
    },
    {
      "cell_type": "code",
      "source": [
        "print(\"Random Forest Classifier\")\n",
        "\n",
        "print(f\"Test Accuracy is {accuracy_score(y_test_copy, pred_test_y)}\")\n",
        "#print(f\"precision for botnet is {oo / (oa + oo + on)}\")\n",
        "#print(f\"recall for botnet is {oo / (ao + oo + no)}\")\n",
        "print(f\"Test Precision is {precision_score(y_test_copy, pred_test_y, pos_label='positive', average='micro')}\")\n",
        "print(f\"Test Recall is {recall_score(y_test_copy, pred_test_y, pos_label='positive', average='micro')}\")\n",
        "print()\n",
        "print(f\"Train Accuracy is {train_score}\")\n",
        "print(f\"F1 score is {f1_score(y_test_copy, pred_test_y, average='macro')}\")"
      ],
      "metadata": {
        "colab": {
          "base_uri": "https://localhost:8080/"
        },
        "id": "L98xDcqkIKzm",
        "outputId": "1b864511-4c35-4251-e61c-892245daf78b"
      },
      "execution_count": null,
      "outputs": [
        {
          "output_type": "stream",
          "name": "stdout",
          "text": [
            "Random Forest Classifier\n",
            "Test Accuracy is 0.09322543370963195\n"
          ]
        },
        {
          "output_type": "stream",
          "name": "stderr",
          "text": [
            "/usr/local/lib/python3.10/dist-packages/sklearn/metrics/_classification.py:1396: UserWarning: Note that pos_label (set to 'positive') is ignored when average != 'binary' (got 'micro'). You may use labels=[pos_label] to specify a single positive class.\n",
            "  warnings.warn(\n"
          ]
        },
        {
          "output_type": "stream",
          "name": "stdout",
          "text": [
            "Test Precision is 0.09322543370963195\n"
          ]
        },
        {
          "output_type": "stream",
          "name": "stderr",
          "text": [
            "/usr/local/lib/python3.10/dist-packages/sklearn/metrics/_classification.py:1396: UserWarning: Note that pos_label (set to 'positive') is ignored when average != 'binary' (got 'micro'). You may use labels=[pos_label] to specify a single positive class.\n",
            "  warnings.warn(\n"
          ]
        },
        {
          "output_type": "stream",
          "name": "stdout",
          "text": [
            "Test Recall is 0.09322543370963195\n",
            "\n",
            "Train Accuracy is 1.0\n",
            "F1 score is 0.10553789100101417\n"
          ]
        }
      ]
    },
    {
      "cell_type": "markdown",
      "source": [
        "#Naive Bayes"
      ],
      "metadata": {
        "id": "AI-x8KRFDo9Q"
      }
    },
    {
      "cell_type": "code",
      "source": [
        "from sklearn.datasets import load_iris\n",
        "from sklearn.naive_bayes import GaussianNB\n",
        "from sklearn.metrics import accuracy_score\n",
        "from sklearn.metrics import precision_score, recall_score, f1_score\n",
        "from sklearn.metrics import confusion_matrix\n",
        "from sklearn.metrics import f1_score"
      ],
      "metadata": {
        "id": "t0No6IrBFo9n"
      },
      "execution_count": null,
      "outputs": []
    },
    {
      "cell_type": "code",
      "source": [
        "gnb = GaussianNB()\n",
        "gnb.fit(X_train, y_train)\n",
        "train_acc = gnb.score(X_train, y_train)"
      ],
      "metadata": {
        "id": "GSgDH5ReKOd1",
        "colab": {
          "base_uri": "https://localhost:8080/"
        },
        "outputId": "375c48f2-0a27-4821-8282-c1fcea8bbaba"
      },
      "execution_count": null,
      "outputs": [
        {
          "output_type": "stream",
          "name": "stderr",
          "text": [
            "/usr/local/lib/python3.10/dist-packages/sklearn/utils/validation.py:1143: DataConversionWarning: A column-vector y was passed when a 1d array was expected. Please change the shape of y to (n_samples, ), for example using ravel().\n",
            "  y = column_or_1d(y, warn=True)\n"
          ]
        }
      ]
    },
    {
      "cell_type": "code",
      "source": [
        "y_pred = gnb.fit(X_train, y_train).predict(X_test)"
      ],
      "metadata": {
        "id": "TPePCtLTKVVb",
        "colab": {
          "base_uri": "https://localhost:8080/"
        },
        "outputId": "841ebd0a-870f-47df-b2df-12b66372138a"
      },
      "execution_count": null,
      "outputs": [
        {
          "output_type": "stream",
          "name": "stderr",
          "text": [
            "/usr/local/lib/python3.10/dist-packages/sklearn/utils/validation.py:1143: DataConversionWarning: A column-vector y was passed when a 1d array was expected. Please change the shape of y to (n_samples, ), for example using ravel().\n",
            "  y = column_or_1d(y, warn=True)\n"
          ]
        }
      ]
    },
    {
      "cell_type": "code",
      "source": [
        "confusion_matrix(y_test_copy, y_pred)"
      ],
      "metadata": {
        "colab": {
          "base_uri": "https://localhost:8080/"
        },
        "id": "q1FP1QFcKzym",
        "outputId": "e75c9756-5381-4f60-fa1c-6cff1cd2536e"
      },
      "execution_count": null,
      "outputs": [
        {
          "output_type": "execute_result",
          "data": {
            "text/plain": [
              "array([[ 65198,   6983,  12859],\n",
              "       [    21,   3159,     96],\n",
              "       [842621, 154786, 173472]])"
            ]
          },
          "metadata": {},
          "execution_count": 111
        }
      ]
    },
    {
      "cell_type": "code",
      "source": [
        "y_train_pred = gnb.predict(X_train)\n",
        "#train_score = accuracy_score(y_train, y_pred)"
      ],
      "metadata": {
        "id": "ivAlbhX3TBOH"
      },
      "execution_count": null,
      "outputs": []
    },
    {
      "cell_type": "code",
      "source": [
        "\n",
        "print(f\"Test Accuracy is {accuracy_score(y_test_copy, y_pred)}\")\n",
        "#print(f\"precision for botnet is {oo / (oa + oo + on)}\")\n",
        "#print(f\"recall for botnet is {oo / (ao + oo + no)}\")\n",
        "print(f\"Test Precision is {precision_score(y_test_copy, y_pred, pos_label='positive', average='micro')}\")\n",
        "print(f\"Test Recall is {recall_score(y_test_copy, y_pred, pos_label='positive', average='micro')}\")\n",
        "print()\n",
        "print(f\"Train Accuracy is {train_score}\")\n",
        "print(f\"F1 score is {f1_score(y_test_copy, y_pred, average='macro')}\")\n"
      ],
      "metadata": {
        "colab": {
          "base_uri": "https://localhost:8080/"
        },
        "id": "RSjtd8M5LNSy",
        "outputId": "5e414966-0c90-40b8-8fee-a0e60ad32328"
      },
      "execution_count": null,
      "outputs": [
        {
          "output_type": "stream",
          "name": "stdout",
          "text": [
            "Test Accuracy is 0.19205047669344302\n"
          ]
        },
        {
          "output_type": "stream",
          "name": "stderr",
          "text": [
            "/usr/local/lib/python3.10/dist-packages/sklearn/metrics/_classification.py:1396: UserWarning: Note that pos_label (set to 'positive') is ignored when average != 'binary' (got 'micro'). You may use labels=[pos_label] to specify a single positive class.\n",
            "  warnings.warn(\n"
          ]
        },
        {
          "output_type": "stream",
          "name": "stdout",
          "text": [
            "Test Precision is 0.19205047669344302\n"
          ]
        },
        {
          "output_type": "stream",
          "name": "stderr",
          "text": [
            "/usr/local/lib/python3.10/dist-packages/sklearn/metrics/_classification.py:1396: UserWarning: Note that pos_label (set to 'positive') is ignored when average != 'binary' (got 'micro'). You may use labels=[pos_label] to specify a single positive class.\n",
            "  warnings.warn(\n"
          ]
        },
        {
          "output_type": "stream",
          "name": "stdout",
          "text": [
            "Test Recall is 0.19205047669344302\n",
            "\n",
            "Train Accuracy is 1.0\n",
            "F1 score is 0.14150160992799585\n"
          ]
        }
      ]
    },
    {
      "cell_type": "markdown",
      "source": [
        "# KNN\n",
        "n_neighbors, weights, algorithm, leaf_size, p"
      ],
      "metadata": {
        "id": "fLLtpTLVci-4"
      }
    },
    {
      "cell_type": "code",
      "source": [
        "from sklearn.neighbors import KNeighborsClassifier\n",
        "from sklearn.model_selection import GridSearchCV\n",
        "from sklearn.ensemble import RandomForestClassifier\n",
        "from sklearn.metrics import accuracy_score\n",
        "from sklearn.metrics import precision_score, recall_score, f1_score\n",
        "from sklearn.metrics import confusion_matrix\n",
        "from sklearn.metrics import f1_score"
      ],
      "metadata": {
        "id": "ip8-NgITc42_"
      },
      "execution_count": null,
      "outputs": []
    },
    {
      "cell_type": "code",
      "source": [
        "neigh = KNeighborsClassifier(leaf_size = 30, n_neighbors = 20, weights = 'distance')#ADD IN THE PARAMETERS"
      ],
      "metadata": {
        "id": "1BnPiYVKeQiN"
      },
      "execution_count": null,
      "outputs": []
    },
    {
      "cell_type": "code",
      "source": [
        "train_score = neigh.fit(X_train, y_train).score(X_train, y_train)"
      ],
      "metadata": {
        "id": "PHGgay6geWD9",
        "colab": {
          "base_uri": "https://localhost:8080/"
        },
        "outputId": "b6d69ac1-721b-4ce7-d13a-9115239535fc"
      },
      "execution_count": null,
      "outputs": [
        {
          "output_type": "stream",
          "name": "stderr",
          "text": [
            "/usr/local/lib/python3.10/dist-packages/sklearn/neighbors/_classification.py:215: DataConversionWarning: A column-vector y was passed when a 1d array was expected. Please change the shape of y to (n_samples,), for example using ravel().\n",
            "  return self._fit(X, y)\n"
          ]
        }
      ]
    },
    {
      "cell_type": "code",
      "source": [
        "pred_test_y = neigh.predict(X_test)\n",
        "pred_train_y = neigh.predict(X_train)\n",
        "print(pred_test_y)"
      ],
      "metadata": {
        "id": "ti_vxDXwefer",
        "colab": {
          "base_uri": "https://localhost:8080/"
        },
        "outputId": "3bbdcc69-7aec-4f9f-cf3f-8a262c23660e"
      },
      "execution_count": null,
      "outputs": [
        {
          "output_type": "stream",
          "name": "stdout",
          "text": [
            "[1 1 1 ... 1 1 1]\n"
          ]
        }
      ]
    },
    {
      "cell_type": "code",
      "source": [
        "confusion_matrix(y_test_copy, pred_test_y)"
      ],
      "metadata": {
        "id": "GvHaIhBNejXG",
        "colab": {
          "base_uri": "https://localhost:8080/"
        },
        "outputId": "81ee6906-95ba-42e4-e501-1c17b0ddd100"
      },
      "execution_count": null,
      "outputs": [
        {
          "output_type": "execute_result",
          "data": {
            "text/plain": [
              "array([[ 76524,   5667,   2849],\n",
              "       [    46,   3057,    173],\n",
              "       [991096, 112559,  67224]])"
            ]
          },
          "metadata": {},
          "execution_count": 118
        }
      ]
    },
    {
      "cell_type": "code",
      "source": [
        "print(\"K Neighbors Classifier\")\n",
        "print(f\"Test Accuracy is {accuracy_score(y_test_copy, pred_test_y)}\")\n",
        "#print(f\"precision for botnet is {oo / (oa + oo + on)}\")\n",
        "#print(f\"recall for botnet is {oo / (ao + oo + no)}\")\n",
        "print(f\"Test Precision is {precision_score(y_test_copy, pred_test_y, pos_label='positive', average='micro')}\")\n",
        "print(f\"Test Recall is {recall_score(y_test_copy, pred_test_y, pos_label='positive', average='micro')}\")\n",
        "print()\n",
        "print(f\"Train Accuracy is {train_score}\")\n",
        "print(f\"F1 score is {f1_score(y_test_copy, pred_test_y, average='macro')}\")"
      ],
      "metadata": {
        "id": "zVFRLmuQenWi",
        "colab": {
          "base_uri": "https://localhost:8080/"
        },
        "outputId": "5c5f6be6-98d5-498d-f5ce-30d43b813135"
      },
      "execution_count": null,
      "outputs": [
        {
          "output_type": "stream",
          "name": "stdout",
          "text": [
            "K Neighbors Classifier\n",
            "Test Accuracy is 0.11658639051139816\n"
          ]
        },
        {
          "output_type": "stream",
          "name": "stderr",
          "text": [
            "/usr/local/lib/python3.10/dist-packages/sklearn/metrics/_classification.py:1396: UserWarning: Note that pos_label (set to 'positive') is ignored when average != 'binary' (got 'micro'). You may use labels=[pos_label] to specify a single positive class.\n",
            "  warnings.warn(\n"
          ]
        },
        {
          "output_type": "stream",
          "name": "stdout",
          "text": [
            "Test Precision is 0.11658639051139816\n"
          ]
        },
        {
          "output_type": "stream",
          "name": "stderr",
          "text": [
            "/usr/local/lib/python3.10/dist-packages/sklearn/metrics/_classification.py:1396: UserWarning: Note that pos_label (set to 'positive') is ignored when average != 'binary' (got 'micro'). You may use labels=[pos_label] to specify a single positive class.\n",
            "  warnings.warn(\n"
          ]
        },
        {
          "output_type": "stream",
          "name": "stdout",
          "text": [
            "Test Recall is 0.11658639051139816\n",
            "\n",
            "Train Accuracy is 1.0\n",
            "F1 score is 0.09672849838193205\n"
          ]
        }
      ]
    }
  ]
}