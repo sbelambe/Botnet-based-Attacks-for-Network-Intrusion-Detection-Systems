{
  "nbformat": 4,
  "nbformat_minor": 0,
  "metadata": {
    "colab": {
      "provenance": [],
      "collapsed_sections": [
        "O1GXzIX7Geu9",
        "bem3K_NVI9hR",
        "k1zm1Pb-H0Bb",
        "Ul_6HlrMJVku",
        "Tx3zH0WDK_gZ",
        "AI-x8KRFDo9Q",
        "fLLtpTLVci-4"
      ]
    },
    "kernelspec": {
      "name": "python3",
      "display_name": "Python 3"
    },
    "language_info": {
      "name": "python"
    }
  },
  "cells": [
    {
      "cell_type": "code",
      "source": [
        "from google.colab import drive\n",
        "drive.mount('/content/drive')"
      ],
      "metadata": {
        "colab": {
          "base_uri": "https://localhost:8080/"
        },
        "id": "tYrue4N9GU-H",
        "outputId": "eac5e6e1-098f-4896-d2a2-1598ccd6c56c"
      },
      "execution_count": null,
      "outputs": [
        {
          "output_type": "stream",
          "name": "stdout",
          "text": [
            "Mounted at /content/drive\n"
          ]
        }
      ]
    },
    {
      "cell_type": "code",
      "source": [
        "import pandas as pd\n",
        "import numpy as np\n",
        "import warnings\n",
        "warnings.filterwarnings('ignore')"
      ],
      "metadata": {
        "id": "8kRQ45izAsgf"
      },
      "execution_count": null,
      "outputs": []
    },
    {
      "cell_type": "code",
      "source": [
        "df = pd.read_csv(\"/content/drive/MyDrive/sjsu nsf reu/merged_files.csv\")\n",
        "df.shape"
      ],
      "metadata": {
        "id": "900jq9Qg0Xvj",
        "colab": {
          "base_uri": "https://localhost:8080/"
        },
        "outputId": "957a5c66-cb50-4782-8642-2818963945d6"
      },
      "execution_count": null,
      "outputs": [
        {
          "output_type": "execute_result",
          "data": {
            "text/plain": [
              "(19976700, 15)"
            ]
          },
          "metadata": {},
          "execution_count": 3
        }
      ]
    },
    {
      "cell_type": "markdown",
      "source": [
        "# Feature Engineering"
      ],
      "metadata": {
        "id": "O1GXzIX7Geu9"
      }
    },
    {
      "cell_type": "code",
      "source": [
        "df = df.drop(columns=['Sport', 'Dir', 'Dport', 'sTos', 'dTos'])\n",
        "df.shape"
      ],
      "metadata": {
        "colab": {
          "base_uri": "https://localhost:8080/"
        },
        "id": "v7O3eswZECJP",
        "outputId": "49db61cb-3f77-463e-ed33-37550762135e"
      },
      "execution_count": null,
      "outputs": [
        {
          "output_type": "execute_result",
          "data": {
            "text/plain": [
              "(19976700, 10)"
            ]
          },
          "metadata": {},
          "execution_count": 4
        }
      ]
    },
    {
      "cell_type": "code",
      "source": [
        "#the rows without Proto as UDP, TCP, HTTP, or ICMP will be filtered out,\n",
        "#and, of the remaining rows, only those with connection state CON, URP, or FSPA FPSA\n",
        "\n",
        "df = df[(df.Proto == 'udp') | (df.Proto == 'tcp') | (df.Proto == 'http') | (df.Proto == 'icmp')]\n",
        "df = df[(df.State == 'CON') | (df.State == 'URP') | (df.State == 'FSPA FPSA')]\n"
      ],
      "metadata": {
        "id": "yq92g11gFUW5"
      },
      "execution_count": null,
      "outputs": []
    },
    {
      "cell_type": "code",
      "source": [
        "df.shape"
      ],
      "metadata": {
        "colab": {
          "base_uri": "https://localhost:8080/"
        },
        "id": "blW1fKq5cLTf",
        "outputId": "77b29485-c989-4ba7-bab5-80fc9b26aee1"
      },
      "execution_count": null,
      "outputs": [
        {
          "output_type": "execute_result",
          "data": {
            "text/plain": [
              "(14415958, 10)"
            ]
          },
          "metadata": {},
          "execution_count": 6
        }
      ]
    },
    {
      "cell_type": "code",
      "source": [
        "df['Label'] = df['Label'].astype(str)\n",
        "df = df[~df['Label'].str.contains('To')]"
      ],
      "metadata": {
        "id": "Tnopr18ECw1h"
      },
      "execution_count": null,
      "outputs": []
    },
    {
      "cell_type": "code",
      "source": [
        "#Background\n",
        "df.loc[df['Label'].str.contains(\"Background\"), 'Label'] = \"Background\"\n",
        "\n",
        "#Normal\n",
        "df.loc[df['Label'].str.contains(\"Normal\"), 'Label'] = \"Normal\"\n",
        "\n",
        "#Botnet\n",
        "df.loc[df['Label'].str.contains(\"Botnet\"), 'Label'] = \"Botnet\""
      ],
      "metadata": {
        "id": "DI96SHp4cUOQ"
      },
      "execution_count": null,
      "outputs": []
    },
    {
      "cell_type": "code",
      "source": [
        "df['Label'].value_counts()"
      ],
      "metadata": {
        "colab": {
          "base_uri": "https://localhost:8080/"
        },
        "id": "zjadH8ajcWrZ",
        "outputId": "d2cb3051-12f3-4920-fb64-989748c1a124"
      },
      "execution_count": null,
      "outputs": [
        {
          "output_type": "execute_result",
          "data": {
            "text/plain": [
              "Background    5923970\n",
              "Normal         227716\n",
              "Botnet         143960\n",
              "Name: Label, dtype: int64"
            ]
          },
          "metadata": {},
          "execution_count": 9
        }
      ]
    },
    {
      "cell_type": "code",
      "source": [
        "df.head(5)"
      ],
      "metadata": {
        "colab": {
          "base_uri": "https://localhost:8080/"
        },
        "id": "f1Ndng5IGqVW",
        "outputId": "6b12a6af-769a-4765-c0f1-ca6798e65ea7"
      },
      "execution_count": null,
      "outputs": [
        {
          "output_type": "execute_result",
          "data": {
            "text/plain": [
              "                      StartTime          Dur Proto          SrcAddr  \\\n",
              "101  2011/08/10 09:46:53.047277  3550.182373   udp    212.50.71.179   \n",
              "102  2011/08/10 09:46:53.048843     0.000883   udp    84.13.246.132   \n",
              "105  2011/08/10 09:46:53.053937  3427.768066   udp    74.89.223.204   \n",
              "107  2011/08/10 09:46:53.058746  3589.631348   udp  182.239.167.121   \n",
              "109  2011/08/10 09:46:53.062095  3118.470947   udp    24.117.206.20   \n",
              "\n",
              "           DstAddr State  TotPkts  TotBytes  SrcBytes       Label  \n",
              "101  147.32.84.229   CON       12       875       413  Background  \n",
              "102  147.32.84.229   CON        2       135        75  Background  \n",
              "105  147.32.84.229   CON       42      2856      1596  Background  \n",
              "107  147.32.84.229   CON       12      1494      1122  Background  \n",
              "109  147.32.84.229   CON       13      4328       840  Background  "
            ],
            "text/html": [
              "\n",
              "\n",
              "  <div id=\"df-f1989341-ac22-4079-a9fa-5be4f31f89ad\">\n",
              "    <div class=\"colab-df-container\">\n",
              "      <div>\n",
              "<style scoped>\n",
              "    .dataframe tbody tr th:only-of-type {\n",
              "        vertical-align: middle;\n",
              "    }\n",
              "\n",
              "    .dataframe tbody tr th {\n",
              "        vertical-align: top;\n",
              "    }\n",
              "\n",
              "    .dataframe thead th {\n",
              "        text-align: right;\n",
              "    }\n",
              "</style>\n",
              "<table border=\"1\" class=\"dataframe\">\n",
              "  <thead>\n",
              "    <tr style=\"text-align: right;\">\n",
              "      <th></th>\n",
              "      <th>StartTime</th>\n",
              "      <th>Dur</th>\n",
              "      <th>Proto</th>\n",
              "      <th>SrcAddr</th>\n",
              "      <th>DstAddr</th>\n",
              "      <th>State</th>\n",
              "      <th>TotPkts</th>\n",
              "      <th>TotBytes</th>\n",
              "      <th>SrcBytes</th>\n",
              "      <th>Label</th>\n",
              "    </tr>\n",
              "  </thead>\n",
              "  <tbody>\n",
              "    <tr>\n",
              "      <th>101</th>\n",
              "      <td>2011/08/10 09:46:53.047277</td>\n",
              "      <td>3550.182373</td>\n",
              "      <td>udp</td>\n",
              "      <td>212.50.71.179</td>\n",
              "      <td>147.32.84.229</td>\n",
              "      <td>CON</td>\n",
              "      <td>12</td>\n",
              "      <td>875</td>\n",
              "      <td>413</td>\n",
              "      <td>Background</td>\n",
              "    </tr>\n",
              "    <tr>\n",
              "      <th>102</th>\n",
              "      <td>2011/08/10 09:46:53.048843</td>\n",
              "      <td>0.000883</td>\n",
              "      <td>udp</td>\n",
              "      <td>84.13.246.132</td>\n",
              "      <td>147.32.84.229</td>\n",
              "      <td>CON</td>\n",
              "      <td>2</td>\n",
              "      <td>135</td>\n",
              "      <td>75</td>\n",
              "      <td>Background</td>\n",
              "    </tr>\n",
              "    <tr>\n",
              "      <th>105</th>\n",
              "      <td>2011/08/10 09:46:53.053937</td>\n",
              "      <td>3427.768066</td>\n",
              "      <td>udp</td>\n",
              "      <td>74.89.223.204</td>\n",
              "      <td>147.32.84.229</td>\n",
              "      <td>CON</td>\n",
              "      <td>42</td>\n",
              "      <td>2856</td>\n",
              "      <td>1596</td>\n",
              "      <td>Background</td>\n",
              "    </tr>\n",
              "    <tr>\n",
              "      <th>107</th>\n",
              "      <td>2011/08/10 09:46:53.058746</td>\n",
              "      <td>3589.631348</td>\n",
              "      <td>udp</td>\n",
              "      <td>182.239.167.121</td>\n",
              "      <td>147.32.84.229</td>\n",
              "      <td>CON</td>\n",
              "      <td>12</td>\n",
              "      <td>1494</td>\n",
              "      <td>1122</td>\n",
              "      <td>Background</td>\n",
              "    </tr>\n",
              "    <tr>\n",
              "      <th>109</th>\n",
              "      <td>2011/08/10 09:46:53.062095</td>\n",
              "      <td>3118.470947</td>\n",
              "      <td>udp</td>\n",
              "      <td>24.117.206.20</td>\n",
              "      <td>147.32.84.229</td>\n",
              "      <td>CON</td>\n",
              "      <td>13</td>\n",
              "      <td>4328</td>\n",
              "      <td>840</td>\n",
              "      <td>Background</td>\n",
              "    </tr>\n",
              "  </tbody>\n",
              "</table>\n",
              "</div>\n",
              "      <button class=\"colab-df-convert\" onclick=\"convertToInteractive('df-f1989341-ac22-4079-a9fa-5be4f31f89ad')\"\n",
              "              title=\"Convert this dataframe to an interactive table.\"\n",
              "              style=\"display:none;\">\n",
              "\n",
              "  <svg xmlns=\"http://www.w3.org/2000/svg\" height=\"24px\"viewBox=\"0 0 24 24\"\n",
              "       width=\"24px\">\n",
              "    <path d=\"M0 0h24v24H0V0z\" fill=\"none\"/>\n",
              "    <path d=\"M18.56 5.44l.94 2.06.94-2.06 2.06-.94-2.06-.94-.94-2.06-.94 2.06-2.06.94zm-11 1L8.5 8.5l.94-2.06 2.06-.94-2.06-.94L8.5 2.5l-.94 2.06-2.06.94zm10 10l.94 2.06.94-2.06 2.06-.94-2.06-.94-.94-2.06-.94 2.06-2.06.94z\"/><path d=\"M17.41 7.96l-1.37-1.37c-.4-.4-.92-.59-1.43-.59-.52 0-1.04.2-1.43.59L10.3 9.45l-7.72 7.72c-.78.78-.78 2.05 0 2.83L4 21.41c.39.39.9.59 1.41.59.51 0 1.02-.2 1.41-.59l7.78-7.78 2.81-2.81c.8-.78.8-2.07 0-2.86zM5.41 20L4 18.59l7.72-7.72 1.47 1.35L5.41 20z\"/>\n",
              "  </svg>\n",
              "      </button>\n",
              "\n",
              "\n",
              "\n",
              "    <div id=\"df-b541af9e-e511-48af-b44d-85ff6650659b\">\n",
              "      <button class=\"colab-df-quickchart\" onclick=\"quickchart('df-b541af9e-e511-48af-b44d-85ff6650659b')\"\n",
              "              title=\"Suggest charts.\"\n",
              "              style=\"display:none;\">\n",
              "\n",
              "<svg xmlns=\"http://www.w3.org/2000/svg\" height=\"24px\"viewBox=\"0 0 24 24\"\n",
              "     width=\"24px\">\n",
              "    <g>\n",
              "        <path d=\"M19 3H5c-1.1 0-2 .9-2 2v14c0 1.1.9 2 2 2h14c1.1 0 2-.9 2-2V5c0-1.1-.9-2-2-2zM9 17H7v-7h2v7zm4 0h-2V7h2v10zm4 0h-2v-4h2v4z\"/>\n",
              "    </g>\n",
              "</svg>\n",
              "      </button>\n",
              "    </div>\n",
              "\n",
              "<style>\n",
              "  .colab-df-quickchart {\n",
              "    background-color: #E8F0FE;\n",
              "    border: none;\n",
              "    border-radius: 50%;\n",
              "    cursor: pointer;\n",
              "    display: none;\n",
              "    fill: #1967D2;\n",
              "    height: 32px;\n",
              "    padding: 0 0 0 0;\n",
              "    width: 32px;\n",
              "  }\n",
              "\n",
              "  .colab-df-quickchart:hover {\n",
              "    background-color: #E2EBFA;\n",
              "    box-shadow: 0px 1px 2px rgba(60, 64, 67, 0.3), 0px 1px 3px 1px rgba(60, 64, 67, 0.15);\n",
              "    fill: #174EA6;\n",
              "  }\n",
              "\n",
              "  [theme=dark] .colab-df-quickchart {\n",
              "    background-color: #3B4455;\n",
              "    fill: #D2E3FC;\n",
              "  }\n",
              "\n",
              "  [theme=dark] .colab-df-quickchart:hover {\n",
              "    background-color: #434B5C;\n",
              "    box-shadow: 0px 1px 3px 1px rgba(0, 0, 0, 0.15);\n",
              "    filter: drop-shadow(0px 1px 2px rgba(0, 0, 0, 0.3));\n",
              "    fill: #FFFFFF;\n",
              "  }\n",
              "</style>\n",
              "\n",
              "    <script>\n",
              "      async function quickchart(key) {\n",
              "        const containerElement = document.querySelector('#' + key);\n",
              "        const charts = await google.colab.kernel.invokeFunction(\n",
              "            'suggestCharts', [key], {});\n",
              "      }\n",
              "    </script>\n",
              "\n",
              "      <script>\n",
              "\n",
              "function displayQuickchartButton(domScope) {\n",
              "  let quickchartButtonEl =\n",
              "    domScope.querySelector('#df-b541af9e-e511-48af-b44d-85ff6650659b button.colab-df-quickchart');\n",
              "  quickchartButtonEl.style.display =\n",
              "    google.colab.kernel.accessAllowed ? 'block' : 'none';\n",
              "}\n",
              "\n",
              "        displayQuickchartButton(document);\n",
              "      </script>\n",
              "      <style>\n",
              "    .colab-df-container {\n",
              "      display:flex;\n",
              "      flex-wrap:wrap;\n",
              "      gap: 12px;\n",
              "    }\n",
              "\n",
              "    .colab-df-convert {\n",
              "      background-color: #E8F0FE;\n",
              "      border: none;\n",
              "      border-radius: 50%;\n",
              "      cursor: pointer;\n",
              "      display: none;\n",
              "      fill: #1967D2;\n",
              "      height: 32px;\n",
              "      padding: 0 0 0 0;\n",
              "      width: 32px;\n",
              "    }\n",
              "\n",
              "    .colab-df-convert:hover {\n",
              "      background-color: #E2EBFA;\n",
              "      box-shadow: 0px 1px 2px rgba(60, 64, 67, 0.3), 0px 1px 3px 1px rgba(60, 64, 67, 0.15);\n",
              "      fill: #174EA6;\n",
              "    }\n",
              "\n",
              "    [theme=dark] .colab-df-convert {\n",
              "      background-color: #3B4455;\n",
              "      fill: #D2E3FC;\n",
              "    }\n",
              "\n",
              "    [theme=dark] .colab-df-convert:hover {\n",
              "      background-color: #434B5C;\n",
              "      box-shadow: 0px 1px 3px 1px rgba(0, 0, 0, 0.15);\n",
              "      filter: drop-shadow(0px 1px 2px rgba(0, 0, 0, 0.3));\n",
              "      fill: #FFFFFF;\n",
              "    }\n",
              "  </style>\n",
              "\n",
              "      <script>\n",
              "        const buttonEl =\n",
              "          document.querySelector('#df-f1989341-ac22-4079-a9fa-5be4f31f89ad button.colab-df-convert');\n",
              "        buttonEl.style.display =\n",
              "          google.colab.kernel.accessAllowed ? 'block' : 'none';\n",
              "\n",
              "        async function convertToInteractive(key) {\n",
              "          const element = document.querySelector('#df-f1989341-ac22-4079-a9fa-5be4f31f89ad');\n",
              "          const dataTable =\n",
              "            await google.colab.kernel.invokeFunction('convertToInteractive',\n",
              "                                                     [key], {});\n",
              "          if (!dataTable) return;\n",
              "\n",
              "          const docLinkHtml = 'Like what you see? Visit the ' +\n",
              "            '<a target=\"_blank\" href=https://colab.research.google.com/notebooks/data_table.ipynb>data table notebook</a>'\n",
              "            + ' to learn more about interactive tables.';\n",
              "          element.innerHTML = '';\n",
              "          dataTable['output_type'] = 'display_data';\n",
              "          await google.colab.output.renderOutput(dataTable, element);\n",
              "          const docLink = document.createElement('div');\n",
              "          docLink.innerHTML = docLinkHtml;\n",
              "          element.appendChild(docLink);\n",
              "        }\n",
              "      </script>\n",
              "    </div>\n",
              "  </div>\n"
            ]
          },
          "metadata": {},
          "execution_count": 10
        }
      ]
    },
    {
      "cell_type": "code",
      "source": [
        "df.shape"
      ],
      "metadata": {
        "colab": {
          "base_uri": "https://localhost:8080/"
        },
        "id": "S75dkItrGsCW",
        "outputId": "1d595895-4bc9-4a5f-8772-ebce7e25d837"
      },
      "execution_count": null,
      "outputs": [
        {
          "output_type": "execute_result",
          "data": {
            "text/plain": [
              "(6295646, 10)"
            ]
          },
          "metadata": {},
          "execution_count": 11
        }
      ]
    },
    {
      "cell_type": "code",
      "source": [
        "selected_df = df"
      ],
      "metadata": {
        "id": "2p-SkmvQJCLJ"
      },
      "execution_count": null,
      "outputs": []
    },
    {
      "cell_type": "code",
      "source": [
        "df.StartTime.tail(5)"
      ],
      "metadata": {
        "colab": {
          "base_uri": "https://localhost:8080/"
        },
        "id": "bp43cZcQ8x62",
        "outputId": "b97fd578-0a14-4965-f9c0-41d617786228"
      },
      "execution_count": null,
      "outputs": [
        {
          "output_type": "execute_result",
          "data": {
            "text/plain": [
              "19976671    2011/08/19 11:45:43.212731\n",
              "19976674    2011/08/19 11:45:43.320646\n",
              "19976675    2011/08/19 11:45:43.338609\n",
              "19976676    2011/08/19 11:45:43.390920\n",
              "19976680    2011/08/19 11:45:43.420099\n",
              "Name: StartTime, dtype: object"
            ]
          },
          "metadata": {},
          "execution_count": 13
        }
      ]
    },
    {
      "cell_type": "code",
      "source": [
        "df.StartTime.head(5)"
      ],
      "metadata": {
        "colab": {
          "base_uri": "https://localhost:8080/"
        },
        "id": "j_AGJZ3k9dsc",
        "outputId": "5cb70499-85eb-42bf-97ed-5299a5fc1c49"
      },
      "execution_count": null,
      "outputs": [
        {
          "output_type": "execute_result",
          "data": {
            "text/plain": [
              "101    2011/08/10 09:46:53.047277\n",
              "102    2011/08/10 09:46:53.048843\n",
              "105    2011/08/10 09:46:53.053937\n",
              "107    2011/08/10 09:46:53.058746\n",
              "109    2011/08/10 09:46:53.062095\n",
              "Name: StartTime, dtype: object"
            ]
          },
          "metadata": {},
          "execution_count": 14
        }
      ]
    },
    {
      "cell_type": "code",
      "source": [
        "df.State.value_counts()"
      ],
      "metadata": {
        "colab": {
          "base_uri": "https://localhost:8080/"
        },
        "id": "_bsH2yAfV5sV",
        "outputId": "0eb23d82-e7e9-440b-f762-3711cb73f543"
      },
      "execution_count": null,
      "outputs": [
        {
          "output_type": "execute_result",
          "data": {
            "text/plain": [
              "CON    6173266\n",
              "URP     122380\n",
              "Name: State, dtype: int64"
            ]
          },
          "metadata": {},
          "execution_count": 15
        }
      ]
    },
    {
      "cell_type": "markdown",
      "source": [
        "#Train test splitting"
      ],
      "metadata": {
        "id": "bem3K_NVI9hR"
      }
    },
    {
      "cell_type": "code",
      "source": [
        "from sklearn.model_selection import train_test_split\n",
        "import random"
      ],
      "metadata": {
        "id": "2X4wet-mJeVK"
      },
      "execution_count": null,
      "outputs": []
    },
    {
      "cell_type": "code",
      "source": [
        "X = selected_df.loc[:, ['StartTime', 'Dur', 'Proto', 'SrcAddr', 'DstAddr', 'State', 'TotPkts', 'TotBytes', 'SrcBytes', 'Label']]\n",
        "y = selected_df.loc[:, ['Label']]\n",
        "\n",
        "X_train, X_test, y_train, y_test = train_test_split(X, y, test_size = 0.2, random_state = 420)"
      ],
      "metadata": {
        "id": "bqqlPpHoJfeA"
      },
      "execution_count": null,
      "outputs": []
    },
    {
      "cell_type": "code",
      "source": [
        "#9\n",
        "background_count = 0\n",
        "normal_count = 0\n",
        "botnet_count = 0\n",
        "\n",
        "for x in X_train['Label']:\n",
        "    if 'Background' in str(x): #Background\n",
        "        background_count += 1\n",
        "    if 'Normal' in str(x): #Normal\n",
        "        normal_count += 1\n",
        "    if 'Botnet' in str(x): #Botnet\n",
        "        botnet_count += 1\n",
        "\n",
        "print(str(float(background_count/11532766)))\n",
        "print(str(float(normal_count/11532766)))\n",
        "print(str(float(botnet_count/11532766)))\n",
        "\n",
        "botnet_ratio_b = (float(botnet_count/background_count))\n",
        "botnet_ratio_n = (float(botnet_count/normal_count))\n"
      ],
      "metadata": {
        "id": "ZWx8TZCJPIdA",
        "colab": {
          "base_uri": "https://localhost:8080/"
        },
        "outputId": "c7836c3c-281c-429b-df9c-30b580c1d986"
      },
      "execution_count": null,
      "outputs": [
        {
          "output_type": "stream",
          "name": "stdout",
          "text": [
            "0.4109347228583325\n",
            "0.015800285898456622\n",
            "0.009978612242717835\n"
          ]
        }
      ]
    },
    {
      "cell_type": "code",
      "source": [
        "filtered_df_1 = X_train.copy()\n",
        "\n",
        "# Create a boolean mask to identify rows with \"background\" in the 'Label' column\n",
        "mask_b = filtered_df_1['Label'].astype(str).str.contains('Background')\n",
        "\n",
        "# Get the indices of rows with \"background\"\n",
        "indices_background = filtered_df_1.index[mask_b]\n",
        "\n",
        "# Calculate the number of rows to drop (background_count - botnet_count)\n",
        "num_rows_to_drop = background_count - botnet_count\n",
        "\n",
        "# Randomly select 'num_rows_to_drop' indices from the background indices\n",
        "indices_to_drop_b = random.sample(indices_background.tolist(), num_rows_to_drop)\n",
        "filtered_y = y_train.copy()\n",
        "\n",
        "# Drop the specified rows from the DataFrame\n",
        "filtered_df_1 = filtered_df_1.drop(indices_to_drop_b)\n",
        "filtered_y = filtered_y.drop(indices_to_drop_b)\n",
        "\n",
        "# Reset the index of the filtered DataFrame\n",
        "filtered_df_1 = filtered_df_1.reset_index(drop=True)\n",
        "filtered_y = filtered_y.reset_index(drop=True)"
      ],
      "metadata": {
        "id": "atNR6bHgPVyF"
      },
      "execution_count": null,
      "outputs": []
    },
    {
      "cell_type": "code",
      "source": [
        "#15\n",
        "background_count = 0\n",
        "normal_count = 0\n",
        "botnet_count = 0\n",
        "\n",
        "for x in filtered_df_1['Label']:\n",
        "    if 'Background' in str(x): #Background\n",
        "        background_count += 1\n",
        "    if 'Normal' in str(x): #Normal\n",
        "        normal_count += 1\n",
        "    if 'Botnet' in str(x): #Botnet\n",
        "        botnet_count += 1\n",
        "\n",
        "print(str(float(background_count/413824)))\n",
        "print(str(float(normal_count/413824)))\n",
        "print(str(float(botnet_count/413824)))\n",
        "\n",
        "botnet_ratio_b = (float(botnet_count/background_count))\n",
        "botnet_ratio_n = (float(botnet_count/normal_count))"
      ],
      "metadata": {
        "id": "C1oHCUerPgo-",
        "colab": {
          "base_uri": "https://localhost:8080/"
        },
        "outputId": "1994b31b-61d0-4c51-bb5a-4b4ebd85e1de"
      },
      "execution_count": null,
      "outputs": [
        {
          "output_type": "stream",
          "name": "stdout",
          "text": [
            "0.27809165248994744\n",
            "0.4403345383544695\n",
            "0.27809165248994744\n"
          ]
        }
      ]
    },
    {
      "cell_type": "code",
      "source": [
        "filtered_df = filtered_df_1.copy()\n",
        "\n",
        "# Create a boolean mask to identify rows with \"normal\" in the 'Label' column\n",
        "mask_bot = filtered_df['Label'].astype(str).str.contains('Normal')\n",
        "\n",
        "# Get the indices of rows with \"background\"\n",
        "indices_background = filtered_df.index[mask_bot]\n",
        "\n",
        "# Calculate the number of rows to drop (background_count - botnet_count)\n",
        "num_rows_to_drop = normal_count - botnet_count\n",
        "\n",
        "# Randomly select 'num_rows_to_drop' indices from the background indices\n",
        "indices_to_drop_bot = random.sample(indices_background.tolist(), num_rows_to_drop)\n",
        "filtered_y_2 = filtered_y.copy()\n",
        "\n",
        "# Drop the specified rows from the DataFrame\n",
        "filtered_df = filtered_df.drop(indices_to_drop_bot)\n",
        "filtered_y_2 = filtered_y_2.drop(indices_to_drop_bot)\n",
        "\n",
        "# Reset the index of the filtered DataFrame\n",
        "filtered_df = filtered_df.reset_index(drop=True)\n",
        "filtered_y_2 = filtered_y_2.reset_index(drop=True)"
      ],
      "metadata": {
        "id": "N8h5xqu0UOL5"
      },
      "execution_count": null,
      "outputs": []
    },
    {
      "cell_type": "code",
      "source": [
        "#19\n",
        "background_count = 0\n",
        "normal_count = 0\n",
        "botnet_count = 0\n",
        "\n",
        "for x in filtered_df['Label']:\n",
        "    if 'Background' in str(x):\n",
        "        background_count += 1\n",
        "    if 'Normal' in str(x):\n",
        "        normal_count += 1\n",
        "    if 'Botnet' in str(x):\n",
        "        botnet_count += 1\n",
        "\n",
        "print(str(float(background_count/345804)))\n",
        "print(str(float(normal_count/345804)))\n",
        "print(str(float(botnet_count/345804)))"
      ],
      "metadata": {
        "id": "hHD6QNGtUmqC",
        "colab": {
          "base_uri": "https://localhost:8080/"
        },
        "outputId": "c49a8ced-2e2a-4597-9d0f-1674c1ab8e08"
      },
      "execution_count": null,
      "outputs": [
        {
          "output_type": "stream",
          "name": "stdout",
          "text": [
            "0.33279256457415185\n",
            "0.33279256457415185\n",
            "0.33279256457415185\n"
          ]
        }
      ]
    },
    {
      "cell_type": "code",
      "source": [
        "X_train = filtered_df"
      ],
      "metadata": {
        "id": "-5YOOivYWZzK"
      },
      "execution_count": null,
      "outputs": []
    },
    {
      "cell_type": "code",
      "source": [
        "y_train = filtered_y_2"
      ],
      "metadata": {
        "id": "twGZNCxAhlaN"
      },
      "execution_count": null,
      "outputs": []
    },
    {
      "cell_type": "code",
      "source": [
        "X_train = X_train.drop(columns=['Label'])\n",
        "X_test = X_test.drop(columns=['Label'])"
      ],
      "metadata": {
        "id": "gwOFogZeiRjg"
      },
      "execution_count": null,
      "outputs": []
    },
    {
      "cell_type": "markdown",
      "source": [
        "#changing everything by a small percentage"
      ],
      "metadata": {
        "id": "k1zm1Pb-H0Bb"
      }
    },
    {
      "cell_type": "code",
      "source": [
        "import random"
      ],
      "metadata": {
        "id": "78h2gPmjH5ID"
      },
      "execution_count": null,
      "outputs": []
    },
    {
      "cell_type": "code",
      "source": [
        "X_test.head(5)"
      ],
      "metadata": {
        "colab": {
          "base_uri": "https://localhost:8080/"
        },
        "id": "ulseBt7bhQKL",
        "outputId": "798c2895-264b-4a2a-c44e-1f9eb4b483ce"
      },
      "execution_count": null,
      "outputs": [
        {
          "output_type": "execute_result",
          "data": {
            "text/plain": [
              "                           StartTime         Dur Proto          SrcAddr  \\\n",
              "11449165  2011/08/15 11:10:30.828135    0.000285   udp     109.68.234.4   \n",
              "3037783   2011/08/11 10:08:53.811103    0.001018   udp  121.217.246.103   \n",
              "5750436   2011/08/13 08:29:17.315981    0.459957   udp   109.242.98.209   \n",
              "1305298   2011/08/10 12:34:46.612630  362.831207   udp   95.134.119.238   \n",
              "12576162  2011/08/16 14:01:06.762460    0.000863   udp    46.33.250.185   \n",
              "\n",
              "                DstAddr State  TotPkts  TotBytes  SrcBytes  \n",
              "11449165   147.32.85.84   CON        2       128        60  \n",
              "3037783   147.32.84.229   CON        2       138        78  \n",
              "5750436    147.32.85.56   CON       10       640       300  \n",
              "1305298   147.32.84.229   CON       14       931       511  \n",
              "12576162  147.32.84.229   CON        2       245       183  "
            ],
            "text/html": [
              "\n",
              "\n",
              "  <div id=\"df-f96dcf9b-daf4-4ace-83c8-5b830d2539cb\">\n",
              "    <div class=\"colab-df-container\">\n",
              "      <div>\n",
              "<style scoped>\n",
              "    .dataframe tbody tr th:only-of-type {\n",
              "        vertical-align: middle;\n",
              "    }\n",
              "\n",
              "    .dataframe tbody tr th {\n",
              "        vertical-align: top;\n",
              "    }\n",
              "\n",
              "    .dataframe thead th {\n",
              "        text-align: right;\n",
              "    }\n",
              "</style>\n",
              "<table border=\"1\" class=\"dataframe\">\n",
              "  <thead>\n",
              "    <tr style=\"text-align: right;\">\n",
              "      <th></th>\n",
              "      <th>StartTime</th>\n",
              "      <th>Dur</th>\n",
              "      <th>Proto</th>\n",
              "      <th>SrcAddr</th>\n",
              "      <th>DstAddr</th>\n",
              "      <th>State</th>\n",
              "      <th>TotPkts</th>\n",
              "      <th>TotBytes</th>\n",
              "      <th>SrcBytes</th>\n",
              "    </tr>\n",
              "  </thead>\n",
              "  <tbody>\n",
              "    <tr>\n",
              "      <th>11449165</th>\n",
              "      <td>2011/08/15 11:10:30.828135</td>\n",
              "      <td>0.000285</td>\n",
              "      <td>udp</td>\n",
              "      <td>109.68.234.4</td>\n",
              "      <td>147.32.85.84</td>\n",
              "      <td>CON</td>\n",
              "      <td>2</td>\n",
              "      <td>128</td>\n",
              "      <td>60</td>\n",
              "    </tr>\n",
              "    <tr>\n",
              "      <th>3037783</th>\n",
              "      <td>2011/08/11 10:08:53.811103</td>\n",
              "      <td>0.001018</td>\n",
              "      <td>udp</td>\n",
              "      <td>121.217.246.103</td>\n",
              "      <td>147.32.84.229</td>\n",
              "      <td>CON</td>\n",
              "      <td>2</td>\n",
              "      <td>138</td>\n",
              "      <td>78</td>\n",
              "    </tr>\n",
              "    <tr>\n",
              "      <th>5750436</th>\n",
              "      <td>2011/08/13 08:29:17.315981</td>\n",
              "      <td>0.459957</td>\n",
              "      <td>udp</td>\n",
              "      <td>109.242.98.209</td>\n",
              "      <td>147.32.85.56</td>\n",
              "      <td>CON</td>\n",
              "      <td>10</td>\n",
              "      <td>640</td>\n",
              "      <td>300</td>\n",
              "    </tr>\n",
              "    <tr>\n",
              "      <th>1305298</th>\n",
              "      <td>2011/08/10 12:34:46.612630</td>\n",
              "      <td>362.831207</td>\n",
              "      <td>udp</td>\n",
              "      <td>95.134.119.238</td>\n",
              "      <td>147.32.84.229</td>\n",
              "      <td>CON</td>\n",
              "      <td>14</td>\n",
              "      <td>931</td>\n",
              "      <td>511</td>\n",
              "    </tr>\n",
              "    <tr>\n",
              "      <th>12576162</th>\n",
              "      <td>2011/08/16 14:01:06.762460</td>\n",
              "      <td>0.000863</td>\n",
              "      <td>udp</td>\n",
              "      <td>46.33.250.185</td>\n",
              "      <td>147.32.84.229</td>\n",
              "      <td>CON</td>\n",
              "      <td>2</td>\n",
              "      <td>245</td>\n",
              "      <td>183</td>\n",
              "    </tr>\n",
              "  </tbody>\n",
              "</table>\n",
              "</div>\n",
              "      <button class=\"colab-df-convert\" onclick=\"convertToInteractive('df-f96dcf9b-daf4-4ace-83c8-5b830d2539cb')\"\n",
              "              title=\"Convert this dataframe to an interactive table.\"\n",
              "              style=\"display:none;\">\n",
              "\n",
              "  <svg xmlns=\"http://www.w3.org/2000/svg\" height=\"24px\"viewBox=\"0 0 24 24\"\n",
              "       width=\"24px\">\n",
              "    <path d=\"M0 0h24v24H0V0z\" fill=\"none\"/>\n",
              "    <path d=\"M18.56 5.44l.94 2.06.94-2.06 2.06-.94-2.06-.94-.94-2.06-.94 2.06-2.06.94zm-11 1L8.5 8.5l.94-2.06 2.06-.94-2.06-.94L8.5 2.5l-.94 2.06-2.06.94zm10 10l.94 2.06.94-2.06 2.06-.94-2.06-.94-.94-2.06-.94 2.06-2.06.94z\"/><path d=\"M17.41 7.96l-1.37-1.37c-.4-.4-.92-.59-1.43-.59-.52 0-1.04.2-1.43.59L10.3 9.45l-7.72 7.72c-.78.78-.78 2.05 0 2.83L4 21.41c.39.39.9.59 1.41.59.51 0 1.02-.2 1.41-.59l7.78-7.78 2.81-2.81c.8-.78.8-2.07 0-2.86zM5.41 20L4 18.59l7.72-7.72 1.47 1.35L5.41 20z\"/>\n",
              "  </svg>\n",
              "      </button>\n",
              "\n",
              "\n",
              "\n",
              "    <div id=\"df-2c7e7c82-16a1-4d81-87cb-136de6b3d55a\">\n",
              "      <button class=\"colab-df-quickchart\" onclick=\"quickchart('df-2c7e7c82-16a1-4d81-87cb-136de6b3d55a')\"\n",
              "              title=\"Suggest charts.\"\n",
              "              style=\"display:none;\">\n",
              "\n",
              "<svg xmlns=\"http://www.w3.org/2000/svg\" height=\"24px\"viewBox=\"0 0 24 24\"\n",
              "     width=\"24px\">\n",
              "    <g>\n",
              "        <path d=\"M19 3H5c-1.1 0-2 .9-2 2v14c0 1.1.9 2 2 2h14c1.1 0 2-.9 2-2V5c0-1.1-.9-2-2-2zM9 17H7v-7h2v7zm4 0h-2V7h2v10zm4 0h-2v-4h2v4z\"/>\n",
              "    </g>\n",
              "</svg>\n",
              "      </button>\n",
              "    </div>\n",
              "\n",
              "<style>\n",
              "  .colab-df-quickchart {\n",
              "    background-color: #E8F0FE;\n",
              "    border: none;\n",
              "    border-radius: 50%;\n",
              "    cursor: pointer;\n",
              "    display: none;\n",
              "    fill: #1967D2;\n",
              "    height: 32px;\n",
              "    padding: 0 0 0 0;\n",
              "    width: 32px;\n",
              "  }\n",
              "\n",
              "  .colab-df-quickchart:hover {\n",
              "    background-color: #E2EBFA;\n",
              "    box-shadow: 0px 1px 2px rgba(60, 64, 67, 0.3), 0px 1px 3px 1px rgba(60, 64, 67, 0.15);\n",
              "    fill: #174EA6;\n",
              "  }\n",
              "\n",
              "  [theme=dark] .colab-df-quickchart {\n",
              "    background-color: #3B4455;\n",
              "    fill: #D2E3FC;\n",
              "  }\n",
              "\n",
              "  [theme=dark] .colab-df-quickchart:hover {\n",
              "    background-color: #434B5C;\n",
              "    box-shadow: 0px 1px 3px 1px rgba(0, 0, 0, 0.15);\n",
              "    filter: drop-shadow(0px 1px 2px rgba(0, 0, 0, 0.3));\n",
              "    fill: #FFFFFF;\n",
              "  }\n",
              "</style>\n",
              "\n",
              "    <script>\n",
              "      async function quickchart(key) {\n",
              "        const containerElement = document.querySelector('#' + key);\n",
              "        const charts = await google.colab.kernel.invokeFunction(\n",
              "            'suggestCharts', [key], {});\n",
              "      }\n",
              "    </script>\n",
              "\n",
              "      <script>\n",
              "\n",
              "function displayQuickchartButton(domScope) {\n",
              "  let quickchartButtonEl =\n",
              "    domScope.querySelector('#df-2c7e7c82-16a1-4d81-87cb-136de6b3d55a button.colab-df-quickchart');\n",
              "  quickchartButtonEl.style.display =\n",
              "    google.colab.kernel.accessAllowed ? 'block' : 'none';\n",
              "}\n",
              "\n",
              "        displayQuickchartButton(document);\n",
              "      </script>\n",
              "      <style>\n",
              "    .colab-df-container {\n",
              "      display:flex;\n",
              "      flex-wrap:wrap;\n",
              "      gap: 12px;\n",
              "    }\n",
              "\n",
              "    .colab-df-convert {\n",
              "      background-color: #E8F0FE;\n",
              "      border: none;\n",
              "      border-radius: 50%;\n",
              "      cursor: pointer;\n",
              "      display: none;\n",
              "      fill: #1967D2;\n",
              "      height: 32px;\n",
              "      padding: 0 0 0 0;\n",
              "      width: 32px;\n",
              "    }\n",
              "\n",
              "    .colab-df-convert:hover {\n",
              "      background-color: #E2EBFA;\n",
              "      box-shadow: 0px 1px 2px rgba(60, 64, 67, 0.3), 0px 1px 3px 1px rgba(60, 64, 67, 0.15);\n",
              "      fill: #174EA6;\n",
              "    }\n",
              "\n",
              "    [theme=dark] .colab-df-convert {\n",
              "      background-color: #3B4455;\n",
              "      fill: #D2E3FC;\n",
              "    }\n",
              "\n",
              "    [theme=dark] .colab-df-convert:hover {\n",
              "      background-color: #434B5C;\n",
              "      box-shadow: 0px 1px 3px 1px rgba(0, 0, 0, 0.15);\n",
              "      filter: drop-shadow(0px 1px 2px rgba(0, 0, 0, 0.3));\n",
              "      fill: #FFFFFF;\n",
              "    }\n",
              "  </style>\n",
              "\n",
              "      <script>\n",
              "        const buttonEl =\n",
              "          document.querySelector('#df-f96dcf9b-daf4-4ace-83c8-5b830d2539cb button.colab-df-convert');\n",
              "        buttonEl.style.display =\n",
              "          google.colab.kernel.accessAllowed ? 'block' : 'none';\n",
              "\n",
              "        async function convertToInteractive(key) {\n",
              "          const element = document.querySelector('#df-f96dcf9b-daf4-4ace-83c8-5b830d2539cb');\n",
              "          const dataTable =\n",
              "            await google.colab.kernel.invokeFunction('convertToInteractive',\n",
              "                                                     [key], {});\n",
              "          if (!dataTable) return;\n",
              "\n",
              "          const docLinkHtml = 'Like what you see? Visit the ' +\n",
              "            '<a target=\"_blank\" href=https://colab.research.google.com/notebooks/data_table.ipynb>data table notebook</a>'\n",
              "            + ' to learn more about interactive tables.';\n",
              "          element.innerHTML = '';\n",
              "          dataTable['output_type'] = 'display_data';\n",
              "          await google.colab.output.renderOutput(dataTable, element);\n",
              "          const docLink = document.createElement('div');\n",
              "          docLink.innerHTML = docLinkHtml;\n",
              "          element.appendChild(docLink);\n",
              "        }\n",
              "      </script>\n",
              "    </div>\n",
              "  </div>\n"
            ]
          },
          "metadata": {},
          "execution_count": 304
        }
      ]
    },
    {
      "cell_type": "code",
      "source": [
        "def modify_dur_by_random_percentage(row):\n",
        "    # Generate a random percentage between -10% and +10%\n",
        "    random_percentage = random.uniform(-0.5, 0.5)\n",
        "    # Calculate the new 'dur' value after applying the random percentage\n",
        "    new_dur = row['Dur'] * (1 + random_percentage)\n",
        "    # Round the new_dur to an integer value (if needed)\n",
        "    #new_dur = round(new_dur)\n",
        "    return new_dur\n",
        "\n",
        "# Apply the modification to each row of the DataFrame\n",
        "X_test['Dur'] = X_test.apply(modify_dur_by_random_percentage, axis=1)"
      ],
      "metadata": {
        "id": "s_9ZLWgUHznL"
      },
      "execution_count": null,
      "outputs": []
    },
    {
      "cell_type": "code",
      "source": [
        "\n",
        "def modify_srcbytes_by_random_percentage(row):\n",
        "    # Generate a random percentage between -10% and +10%\n",
        "    random_percentage = random.uniform(-0.5, 0.5)\n",
        "    # Calculate the new 'dur' value after applying the random percentage\n",
        "    new_srcbytes = row['SrcBytes'] * (1 + random_percentage)\n",
        "    # Round the new_dur to an integer value (if needed)\n",
        "    new_srcbytes = round(new_srcbytes)\n",
        "    return new_srcbytes\n",
        "\n",
        "# Apply the modification to each row of the DataFrame\n",
        "X_test['SrcBytes'] = X_test.apply(modify_srcbytes_by_random_percentage, axis=1)\n"
      ],
      "metadata": {
        "id": "b2trmXByLFQu"
      },
      "execution_count": null,
      "outputs": []
    },
    {
      "cell_type": "code",
      "source": [
        "\n",
        "def modify_totpkts_by_random_percentage(row):\n",
        "    # Generate a random percentage between -10% and +10%\n",
        "    random_percentage = random.uniform(-0.5, 0.5)\n",
        "    # Calculate the new 'dur' value after applying the random percentage\n",
        "    new_totpkts = row['TotPkts'] * (1 + random_percentage)\n",
        "    # Round the new_dur to an integer value (if needed)\n",
        "    new_totpkts = round(new_totpkts)\n",
        "    return new_totpkts\n",
        "\n",
        "# Apply the modification to each row of the DataFrame\n",
        "X_test['TotPkts'] = X_test.apply(modify_totpkts_by_random_percentage, axis=1)\n"
      ],
      "metadata": {
        "id": "YRc8WGQVMAka"
      },
      "execution_count": null,
      "outputs": []
    },
    {
      "cell_type": "code",
      "source": [
        "\n",
        "def modify_st_by_random_percentage(row):\n",
        "    time = row['StartTime']\n",
        "    random_num_1 = random.randint(-5, 5)\n",
        "    day = int(time[8:10]) + random_num_1\n",
        "    time = time[:8] + str(day).zfill(2) + time[10:]\n",
        "\n",
        "    random_num = random.randint(-12, 12)\n",
        "    hour = int(time[11:13]) + random_num\n",
        "    time = time[:11] + str(hour).zfill(2) + time[13:]\n",
        "\n",
        "    return time\n",
        "\n",
        "# Apply the modification to each row of the DataFrame\n",
        "X_test['StartTime'] = X_test.apply(modify_st_by_random_percentage, axis=1)\n"
      ],
      "metadata": {
        "id": "B19229RdCFeD"
      },
      "execution_count": null,
      "outputs": []
    },
    {
      "cell_type": "code",
      "source": [
        "\n",
        "def modify_srcaddr_by_random_percentage(row):\n",
        "    separate_numbers = row['SrcAddr'].split(\".\")\n",
        "    random_num = random.uniform(-0.5, 0.5)\n",
        "    for i in range(len(separate_numbers)):\n",
        "        separate_numbers[i] = str(round(float(separate_numbers[i]) * (1 + random_num)))\n",
        "    combined = \".\".join(separate_numbers)\n",
        "    return combined\n",
        "\n",
        "# Apply the modification to each row of the DataFrame\n",
        "X_test['SrcAddr'] = X_test.apply(modify_srcaddr_by_random_percentage, axis=1)\n"
      ],
      "metadata": {
        "id": "SnEcy6N4M82z"
      },
      "execution_count": null,
      "outputs": []
    },
    {
      "cell_type": "code",
      "source": [
        "\n",
        "def modify_state_by_random_percentage(row):\n",
        "    possible_states = ['CON', 'URP']\n",
        "    state = row['State']\n",
        "    random_num = random.randint(0, 1)\n",
        "    if random_num == 0:\n",
        "        state = 'CON'\n",
        "    else:\n",
        "        state = 'URP'\n",
        "    return state\n",
        "\n",
        "# Apply the modification to each row of the DataFrame\n",
        "X_test['State'] = X_test.apply(modify_state_by_random_percentage, axis=1)\n"
      ],
      "metadata": {
        "id": "EzF-lxNjVF7Q"
      },
      "execution_count": null,
      "outputs": []
    },
    {
      "cell_type": "code",
      "source": [
        "X_test.head(5)"
      ],
      "metadata": {
        "colab": {
          "base_uri": "https://localhost:8080/"
        },
        "id": "qgEfZZwVH-Fd",
        "outputId": "a85a2e15-026e-41c7-cd30-b16b65afdb58"
      },
      "execution_count": null,
      "outputs": [
        {
          "output_type": "execute_result",
          "data": {
            "text/plain": [
              "                           StartTime         Dur Proto          SrcAddr  \\\n",
              "11449165  2011/08/12 07:10:30.828135    0.000331   udp     140.87.300.5   \n",
              "3037783   2011/08/13 11:08:53.811103    0.001241   udp  144.259.294.123   \n",
              "5750436   2011/08/09 09:29:17.315981    0.250663   udp    84.185.75.160   \n",
              "1305298   2011/08/11 21:34:46.612630  394.963760   udp    79.112.99.199   \n",
              "12576162  2011/08/16 08:01:06.762460    0.001182   udp    60.43.324.239   \n",
              "\n",
              "                DstAddr State  TotPkts  TotBytes  SrcBytes  \n",
              "11449165   147.32.85.84   URP        1       128        56  \n",
              "3037783   147.32.84.229   URP        2       138        71  \n",
              "5750436    147.32.85.56   CON       10       640       196  \n",
              "1305298   147.32.84.229   URP       13       931       268  \n",
              "12576162  147.32.84.229   CON        3       245       132  "
            ],
            "text/html": [
              "\n",
              "\n",
              "  <div id=\"df-79906fbf-d401-408d-b042-55826c1dd347\">\n",
              "    <div class=\"colab-df-container\">\n",
              "      <div>\n",
              "<style scoped>\n",
              "    .dataframe tbody tr th:only-of-type {\n",
              "        vertical-align: middle;\n",
              "    }\n",
              "\n",
              "    .dataframe tbody tr th {\n",
              "        vertical-align: top;\n",
              "    }\n",
              "\n",
              "    .dataframe thead th {\n",
              "        text-align: right;\n",
              "    }\n",
              "</style>\n",
              "<table border=\"1\" class=\"dataframe\">\n",
              "  <thead>\n",
              "    <tr style=\"text-align: right;\">\n",
              "      <th></th>\n",
              "      <th>StartTime</th>\n",
              "      <th>Dur</th>\n",
              "      <th>Proto</th>\n",
              "      <th>SrcAddr</th>\n",
              "      <th>DstAddr</th>\n",
              "      <th>State</th>\n",
              "      <th>TotPkts</th>\n",
              "      <th>TotBytes</th>\n",
              "      <th>SrcBytes</th>\n",
              "    </tr>\n",
              "  </thead>\n",
              "  <tbody>\n",
              "    <tr>\n",
              "      <th>11449165</th>\n",
              "      <td>2011/08/12 07:10:30.828135</td>\n",
              "      <td>0.000331</td>\n",
              "      <td>udp</td>\n",
              "      <td>140.87.300.5</td>\n",
              "      <td>147.32.85.84</td>\n",
              "      <td>URP</td>\n",
              "      <td>1</td>\n",
              "      <td>128</td>\n",
              "      <td>56</td>\n",
              "    </tr>\n",
              "    <tr>\n",
              "      <th>3037783</th>\n",
              "      <td>2011/08/13 11:08:53.811103</td>\n",
              "      <td>0.001241</td>\n",
              "      <td>udp</td>\n",
              "      <td>144.259.294.123</td>\n",
              "      <td>147.32.84.229</td>\n",
              "      <td>URP</td>\n",
              "      <td>2</td>\n",
              "      <td>138</td>\n",
              "      <td>71</td>\n",
              "    </tr>\n",
              "    <tr>\n",
              "      <th>5750436</th>\n",
              "      <td>2011/08/09 09:29:17.315981</td>\n",
              "      <td>0.250663</td>\n",
              "      <td>udp</td>\n",
              "      <td>84.185.75.160</td>\n",
              "      <td>147.32.85.56</td>\n",
              "      <td>CON</td>\n",
              "      <td>10</td>\n",
              "      <td>640</td>\n",
              "      <td>196</td>\n",
              "    </tr>\n",
              "    <tr>\n",
              "      <th>1305298</th>\n",
              "      <td>2011/08/11 21:34:46.612630</td>\n",
              "      <td>394.963760</td>\n",
              "      <td>udp</td>\n",
              "      <td>79.112.99.199</td>\n",
              "      <td>147.32.84.229</td>\n",
              "      <td>URP</td>\n",
              "      <td>13</td>\n",
              "      <td>931</td>\n",
              "      <td>268</td>\n",
              "    </tr>\n",
              "    <tr>\n",
              "      <th>12576162</th>\n",
              "      <td>2011/08/16 08:01:06.762460</td>\n",
              "      <td>0.001182</td>\n",
              "      <td>udp</td>\n",
              "      <td>60.43.324.239</td>\n",
              "      <td>147.32.84.229</td>\n",
              "      <td>CON</td>\n",
              "      <td>3</td>\n",
              "      <td>245</td>\n",
              "      <td>132</td>\n",
              "    </tr>\n",
              "  </tbody>\n",
              "</table>\n",
              "</div>\n",
              "      <button class=\"colab-df-convert\" onclick=\"convertToInteractive('df-79906fbf-d401-408d-b042-55826c1dd347')\"\n",
              "              title=\"Convert this dataframe to an interactive table.\"\n",
              "              style=\"display:none;\">\n",
              "\n",
              "  <svg xmlns=\"http://www.w3.org/2000/svg\" height=\"24px\"viewBox=\"0 0 24 24\"\n",
              "       width=\"24px\">\n",
              "    <path d=\"M0 0h24v24H0V0z\" fill=\"none\"/>\n",
              "    <path d=\"M18.56 5.44l.94 2.06.94-2.06 2.06-.94-2.06-.94-.94-2.06-.94 2.06-2.06.94zm-11 1L8.5 8.5l.94-2.06 2.06-.94-2.06-.94L8.5 2.5l-.94 2.06-2.06.94zm10 10l.94 2.06.94-2.06 2.06-.94-2.06-.94-.94-2.06-.94 2.06-2.06.94z\"/><path d=\"M17.41 7.96l-1.37-1.37c-.4-.4-.92-.59-1.43-.59-.52 0-1.04.2-1.43.59L10.3 9.45l-7.72 7.72c-.78.78-.78 2.05 0 2.83L4 21.41c.39.39.9.59 1.41.59.51 0 1.02-.2 1.41-.59l7.78-7.78 2.81-2.81c.8-.78.8-2.07 0-2.86zM5.41 20L4 18.59l7.72-7.72 1.47 1.35L5.41 20z\"/>\n",
              "  </svg>\n",
              "      </button>\n",
              "\n",
              "\n",
              "\n",
              "    <div id=\"df-d9dc6960-83c5-49d0-9ec2-5a7b6877e2dd\">\n",
              "      <button class=\"colab-df-quickchart\" onclick=\"quickchart('df-d9dc6960-83c5-49d0-9ec2-5a7b6877e2dd')\"\n",
              "              title=\"Suggest charts.\"\n",
              "              style=\"display:none;\">\n",
              "\n",
              "<svg xmlns=\"http://www.w3.org/2000/svg\" height=\"24px\"viewBox=\"0 0 24 24\"\n",
              "     width=\"24px\">\n",
              "    <g>\n",
              "        <path d=\"M19 3H5c-1.1 0-2 .9-2 2v14c0 1.1.9 2 2 2h14c1.1 0 2-.9 2-2V5c0-1.1-.9-2-2-2zM9 17H7v-7h2v7zm4 0h-2V7h2v10zm4 0h-2v-4h2v4z\"/>\n",
              "    </g>\n",
              "</svg>\n",
              "      </button>\n",
              "    </div>\n",
              "\n",
              "<style>\n",
              "  .colab-df-quickchart {\n",
              "    background-color: #E8F0FE;\n",
              "    border: none;\n",
              "    border-radius: 50%;\n",
              "    cursor: pointer;\n",
              "    display: none;\n",
              "    fill: #1967D2;\n",
              "    height: 32px;\n",
              "    padding: 0 0 0 0;\n",
              "    width: 32px;\n",
              "  }\n",
              "\n",
              "  .colab-df-quickchart:hover {\n",
              "    background-color: #E2EBFA;\n",
              "    box-shadow: 0px 1px 2px rgba(60, 64, 67, 0.3), 0px 1px 3px 1px rgba(60, 64, 67, 0.15);\n",
              "    fill: #174EA6;\n",
              "  }\n",
              "\n",
              "  [theme=dark] .colab-df-quickchart {\n",
              "    background-color: #3B4455;\n",
              "    fill: #D2E3FC;\n",
              "  }\n",
              "\n",
              "  [theme=dark] .colab-df-quickchart:hover {\n",
              "    background-color: #434B5C;\n",
              "    box-shadow: 0px 1px 3px 1px rgba(0, 0, 0, 0.15);\n",
              "    filter: drop-shadow(0px 1px 2px rgba(0, 0, 0, 0.3));\n",
              "    fill: #FFFFFF;\n",
              "  }\n",
              "</style>\n",
              "\n",
              "    <script>\n",
              "      async function quickchart(key) {\n",
              "        const containerElement = document.querySelector('#' + key);\n",
              "        const charts = await google.colab.kernel.invokeFunction(\n",
              "            'suggestCharts', [key], {});\n",
              "      }\n",
              "    </script>\n",
              "\n",
              "      <script>\n",
              "\n",
              "function displayQuickchartButton(domScope) {\n",
              "  let quickchartButtonEl =\n",
              "    domScope.querySelector('#df-d9dc6960-83c5-49d0-9ec2-5a7b6877e2dd button.colab-df-quickchart');\n",
              "  quickchartButtonEl.style.display =\n",
              "    google.colab.kernel.accessAllowed ? 'block' : 'none';\n",
              "}\n",
              "\n",
              "        displayQuickchartButton(document);\n",
              "      </script>\n",
              "      <style>\n",
              "    .colab-df-container {\n",
              "      display:flex;\n",
              "      flex-wrap:wrap;\n",
              "      gap: 12px;\n",
              "    }\n",
              "\n",
              "    .colab-df-convert {\n",
              "      background-color: #E8F0FE;\n",
              "      border: none;\n",
              "      border-radius: 50%;\n",
              "      cursor: pointer;\n",
              "      display: none;\n",
              "      fill: #1967D2;\n",
              "      height: 32px;\n",
              "      padding: 0 0 0 0;\n",
              "      width: 32px;\n",
              "    }\n",
              "\n",
              "    .colab-df-convert:hover {\n",
              "      background-color: #E2EBFA;\n",
              "      box-shadow: 0px 1px 2px rgba(60, 64, 67, 0.3), 0px 1px 3px 1px rgba(60, 64, 67, 0.15);\n",
              "      fill: #174EA6;\n",
              "    }\n",
              "\n",
              "    [theme=dark] .colab-df-convert {\n",
              "      background-color: #3B4455;\n",
              "      fill: #D2E3FC;\n",
              "    }\n",
              "\n",
              "    [theme=dark] .colab-df-convert:hover {\n",
              "      background-color: #434B5C;\n",
              "      box-shadow: 0px 1px 3px 1px rgba(0, 0, 0, 0.15);\n",
              "      filter: drop-shadow(0px 1px 2px rgba(0, 0, 0, 0.3));\n",
              "      fill: #FFFFFF;\n",
              "    }\n",
              "  </style>\n",
              "\n",
              "      <script>\n",
              "        const buttonEl =\n",
              "          document.querySelector('#df-79906fbf-d401-408d-b042-55826c1dd347 button.colab-df-convert');\n",
              "        buttonEl.style.display =\n",
              "          google.colab.kernel.accessAllowed ? 'block' : 'none';\n",
              "\n",
              "        async function convertToInteractive(key) {\n",
              "          const element = document.querySelector('#df-79906fbf-d401-408d-b042-55826c1dd347');\n",
              "          const dataTable =\n",
              "            await google.colab.kernel.invokeFunction('convertToInteractive',\n",
              "                                                     [key], {});\n",
              "          if (!dataTable) return;\n",
              "\n",
              "          const docLinkHtml = 'Like what you see? Visit the ' +\n",
              "            '<a target=\"_blank\" href=https://colab.research.google.com/notebooks/data_table.ipynb>data table notebook</a>'\n",
              "            + ' to learn more about interactive tables.';\n",
              "          element.innerHTML = '';\n",
              "          dataTable['output_type'] = 'display_data';\n",
              "          await google.colab.output.renderOutput(dataTable, element);\n",
              "          const docLink = document.createElement('div');\n",
              "          docLink.innerHTML = docLinkHtml;\n",
              "          element.appendChild(docLink);\n",
              "        }\n",
              "      </script>\n",
              "    </div>\n",
              "  </div>\n"
            ]
          },
          "metadata": {},
          "execution_count": 311
        }
      ]
    },
    {
      "cell_type": "code",
      "source": [
        "X_test.SrcAddr.head(5)"
      ],
      "metadata": {
        "colab": {
          "base_uri": "https://localhost:8080/"
        },
        "id": "3wmO2Hu6Qm3P",
        "outputId": "6dca0579-ecec-4dde-99b7-f44d2aabaf79"
      },
      "execution_count": null,
      "outputs": [
        {
          "output_type": "execute_result",
          "data": {
            "text/plain": [
              "11449165       140.87.300.5\n",
              "3037783     144.259.294.123\n",
              "5750436       84.185.75.160\n",
              "1305298       79.112.99.199\n",
              "12576162      60.43.324.239\n",
              "Name: SrcAddr, dtype: object"
            ]
          },
          "metadata": {},
          "execution_count": 312
        }
      ]
    },
    {
      "cell_type": "markdown",
      "source": [
        "#Pre-processing all four dataframes"
      ],
      "metadata": {
        "id": "Ul_6HlrMJVku"
      }
    },
    {
      "cell_type": "code",
      "source": [
        "#X_train\n",
        "change_items = ['StartTime', 'Dur', 'Proto', 'SrcAddr', 'DstAddr', 'State', 'TotPkts', 'TotBytes', 'SrcBytes']\n",
        "\n",
        "for item in change_items:\n",
        "    value_counts = X_train[item].value_counts()\n",
        "    rank_mapping = {value: rank for rank, value in enumerate(value_counts.index, 1)}\n",
        "    X_train[item] = X_train[item].map(rank_mapping)"
      ],
      "metadata": {
        "id": "9Ou3h_l3JYin"
      },
      "execution_count": null,
      "outputs": []
    },
    {
      "cell_type": "code",
      "source": [
        "#X_test\n",
        "change_items = ['StartTime', 'Dur', 'Proto', 'SrcAddr', 'DstAddr', 'State', 'TotPkts', 'TotBytes', 'SrcBytes']\n",
        "\n",
        "for item in change_items:\n",
        "    value_counts = X_test[item].value_counts()\n",
        "    rank_mapping = {value: rank for rank, value in enumerate(value_counts.index, 1)}\n",
        "    X_test[item] = X_test[item].map(rank_mapping)"
      ],
      "metadata": {
        "id": "Z_0LetuaL_Yh"
      },
      "execution_count": null,
      "outputs": []
    },
    {
      "cell_type": "code",
      "source": [
        "#y_train\n",
        "change_items = ['Label']\n",
        "\n",
        "for item in change_items:\n",
        "    value_counts = y_train[item].value_counts()\n",
        "    rank_mapping = {value: rank for rank, value in enumerate(value_counts.index, 1)}\n",
        "    y_train[item] = y_train[item].map(rank_mapping)"
      ],
      "metadata": {
        "id": "gAguNBesMDGm"
      },
      "execution_count": null,
      "outputs": []
    },
    {
      "cell_type": "code",
      "source": [
        "#y_test\n",
        "change_items = ['Label']\n",
        "\n",
        "for item in change_items:\n",
        "    value_counts = y_test[item].value_counts()\n",
        "    rank_mapping = {value: rank for rank, value in enumerate(value_counts.index, 1)}\n",
        "    y_test[item] = y_test[item].map(rank_mapping)"
      ],
      "metadata": {
        "id": "FPIAdGvgMLzv"
      },
      "execution_count": null,
      "outputs": []
    },
    {
      "cell_type": "markdown",
      "source": [
        "# Random Forest\n"
      ],
      "metadata": {
        "id": "Tx3zH0WDK_gZ"
      }
    },
    {
      "cell_type": "code",
      "source": [
        "from sklearn.ensemble import RandomForestClassifier\n",
        "from sklearn.metrics import accuracy_score\n",
        "from sklearn.metrics import precision_score, recall_score, f1_score\n",
        "from sklearn.metrics import confusion_matrix\n",
        "from sklearn.metrics import f1_score"
      ],
      "metadata": {
        "id": "XCLg_JtBH8SK"
      },
      "execution_count": null,
      "outputs": []
    },
    {
      "cell_type": "code",
      "source": [
        "clf = RandomForestClassifier(max_depth = 30, min_samples_leaf = 1, n_estimators =200)"
      ],
      "metadata": {
        "id": "jtEO-SuGH--d"
      },
      "execution_count": null,
      "outputs": []
    },
    {
      "cell_type": "code",
      "source": [
        "train_score = clf.fit(X_train, y_train).score(X_train, y_train)\n",
        "train_score"
      ],
      "metadata": {
        "colab": {
          "base_uri": "https://localhost:8080/"
        },
        "id": "58T2Oz6AIAOO",
        "outputId": "2a4dbb0a-85e4-430d-a9f3-5b7016e5f211"
      },
      "execution_count": null,
      "outputs": [
        {
          "output_type": "execute_result",
          "data": {
            "text/plain": [
              "1.0"
            ]
          },
          "metadata": {},
          "execution_count": 319
        }
      ]
    },
    {
      "cell_type": "code",
      "source": [
        "pred_test_y = clf.predict(X_test)\n",
        "pred_train_y = clf.predict(X_train)"
      ],
      "metadata": {
        "id": "t8L1QiJMIFu8"
      },
      "execution_count": null,
      "outputs": []
    },
    {
      "cell_type": "code",
      "source": [
        "confusion_matrix(y_test, pred_test_y)"
      ],
      "metadata": {
        "colab": {
          "base_uri": "https://localhost:8080/"
        },
        "id": "CzrFC2x1IHJv",
        "outputId": "f5a0f08b-705e-429e-dbdf-a3db0608e164"
      },
      "execution_count": null,
      "outputs": [
        {
          "output_type": "execute_result",
          "data": {
            "text/plain": [
              "array([[239674,   6988, 938094],\n",
              "       [     0,      0,  45495],\n",
              "       [     0,      1,  28878]])"
            ]
          },
          "metadata": {},
          "execution_count": 321
        }
      ]
    },
    {
      "cell_type": "code",
      "source": [
        "print(\"Random Forest Classifier\")\n",
        "\n",
        "print(f\"Test Accuracy is {accuracy_score(y_test, pred_test_y)}\")\n",
        "#print(f\"precision for botnet is {oo / (oa + oo + on)}\")\n",
        "#print(f\"recall for botnet is {oo / (ao + oo + no)}\")\n",
        "print(f\"Test Precision is {precision_score(y_test, pred_test_y, pos_label='positive', average='micro')}\")\n",
        "print(f\"Test Recall is {recall_score(y_test, pred_test_y, pos_label='positive', average='micro')}\")\n",
        "print()\n",
        "print(f\"Train Accuracy is {train_score}\")\n",
        "print(f\"F1 score is {f1_score(y_test, pred_test_y, average='macro')}\")"
      ],
      "metadata": {
        "colab": {
          "base_uri": "https://localhost:8080/"
        },
        "id": "L98xDcqkIKzm",
        "outputId": "f8c737ea-a318-4f10-a958-21dd6d9d2aba"
      },
      "execution_count": null,
      "outputs": [
        {
          "output_type": "stream",
          "name": "stdout",
          "text": [
            "Random Forest Classifier\n",
            "Test Accuracy is 0.21328377530517104\n",
            "Test Precision is 0.21328377530517104\n",
            "Test Recall is 0.21328377530517104\n",
            "\n",
            "Train Accuracy is 1.0\n",
            "F1 score is 0.13066066758328562\n"
          ]
        }
      ]
    },
    {
      "cell_type": "markdown",
      "source": [
        "#Naive Bayes"
      ],
      "metadata": {
        "id": "AI-x8KRFDo9Q"
      }
    },
    {
      "cell_type": "code",
      "source": [
        "from sklearn.datasets import load_iris\n",
        "from sklearn.naive_bayes import GaussianNB\n",
        "from sklearn.metrics import accuracy_score\n",
        "from sklearn.metrics import precision_score, recall_score, f1_score\n",
        "from sklearn.metrics import confusion_matrix\n",
        "from sklearn.metrics import f1_score"
      ],
      "metadata": {
        "id": "t0No6IrBFo9n"
      },
      "execution_count": null,
      "outputs": []
    },
    {
      "cell_type": "code",
      "source": [
        "gnb = GaussianNB()"
      ],
      "metadata": {
        "id": "GSgDH5ReKOd1"
      },
      "execution_count": null,
      "outputs": []
    },
    {
      "cell_type": "code",
      "source": [
        "y_pred = gnb.fit(X_train, y_train).predict(X_test)"
      ],
      "metadata": {
        "id": "TPePCtLTKVVb"
      },
      "execution_count": null,
      "outputs": []
    },
    {
      "cell_type": "code",
      "source": [
        "confusion_matrix(y_test, y_pred)"
      ],
      "metadata": {
        "colab": {
          "base_uri": "https://localhost:8080/"
        },
        "id": "q1FP1QFcKzym",
        "outputId": "d87de5f1-3003-4bf4-d0be-d685bf4dc0d6"
      },
      "execution_count": null,
      "outputs": [
        {
          "output_type": "execute_result",
          "data": {
            "text/plain": [
              "array([[      8,    2571, 1182177],\n",
              "       [      0,       0,   45495],\n",
              "       [      0,       0,   28879]])"
            ]
          },
          "metadata": {},
          "execution_count": 326
        }
      ]
    },
    {
      "cell_type": "code",
      "source": [
        "y_train_pred = gnb.predict(X_train)\n",
        "#train_score = accuracy_score(y_train, y_pred)"
      ],
      "metadata": {
        "id": "ivAlbhX3TBOH"
      },
      "execution_count": null,
      "outputs": []
    },
    {
      "cell_type": "code",
      "source": [
        "aa, ao, an, oa, oo, on, na, no, nn = confusion_matrix(y_test, y_pred).ravel()\n",
        "print(f\"Test Accuracy is {accuracy_score(y_test, y_pred)}\")\n",
        "#print(f\"precision for botnet is {oo / (oa + oo + on)}\")\n",
        "#print(f\"recall for botnet is {oo / (ao + oo + no)}\")\n",
        "print(f\"Test Precision is {precision_score(y_test, y_pred, pos_label='positive', average='micro')}\")\n",
        "print(f\"Test Recall is {recall_score(y_test, y_pred, pos_label='positive', average='micro')}\")\n",
        "print()\n",
        "#print(f\"Train Accuracy is {train_score}\")\n",
        "print(f\"F1 score is {f1_score(y_test, y_pred, average='macro')}\")\n"
      ],
      "metadata": {
        "colab": {
          "base_uri": "https://localhost:8080/"
        },
        "id": "RSjtd8M5LNSy",
        "outputId": "5b1638c1-c7ab-4ca0-dfc0-8f45bf56d76c"
      },
      "execution_count": null,
      "outputs": [
        {
          "output_type": "stream",
          "name": "stdout",
          "text": [
            "Test Accuracy is 0.022942031402635153\n",
            "Test Precision is 0.022942031402635153\n",
            "Test Recall is 0.022942031402635153\n",
            "\n",
            "F1 score is 0.014982109611601596\n"
          ]
        }
      ]
    },
    {
      "cell_type": "markdown",
      "source": [
        "# KNN\n",
        "n_neighbors, weights, algorithm, leaf_size, p"
      ],
      "metadata": {
        "id": "fLLtpTLVci-4"
      }
    },
    {
      "cell_type": "code",
      "source": [
        "from sklearn.neighbors import KNeighborsClassifier\n",
        "from sklearn.model_selection import GridSearchCV\n",
        "from sklearn.ensemble import RandomForestClassifier\n",
        "from sklearn.metrics import accuracy_score\n",
        "from sklearn.metrics import precision_score, recall_score, f1_score\n",
        "from sklearn.metrics import confusion_matrix\n",
        "from sklearn.metrics import f1_score"
      ],
      "metadata": {
        "id": "ip8-NgITc42_"
      },
      "execution_count": null,
      "outputs": []
    },
    {
      "cell_type": "code",
      "source": [
        "neigh = KNeighborsClassifier(leaf_size = 30, n_neighbors = 20, weights = 'distance')#ADD IN THE PARAMETERS"
      ],
      "metadata": {
        "id": "1BnPiYVKeQiN"
      },
      "execution_count": null,
      "outputs": []
    },
    {
      "cell_type": "code",
      "source": [
        "train_score = neigh.fit(X_train, y_train).score(X_train, y_train)"
      ],
      "metadata": {
        "id": "PHGgay6geWD9"
      },
      "execution_count": null,
      "outputs": []
    },
    {
      "cell_type": "code",
      "source": [
        "pred_test_y = neigh.predict(X_test)\n",
        "pred_train_y = neigh.predict(X_train)\n",
        "print(pred_test_y)"
      ],
      "metadata": {
        "id": "ti_vxDXwefer",
        "colab": {
          "base_uri": "https://localhost:8080/"
        },
        "outputId": "d5a2854e-0cb5-4c7b-b926-2e5e56ada5aa"
      },
      "execution_count": null,
      "outputs": [
        {
          "output_type": "stream",
          "name": "stdout",
          "text": [
            "[3 3 3 ... 2 3 3]\n"
          ]
        }
      ]
    },
    {
      "cell_type": "code",
      "source": [
        "confusion_matrix(y_test, pred_test_y)"
      ],
      "metadata": {
        "id": "GvHaIhBNejXG",
        "colab": {
          "base_uri": "https://localhost:8080/"
        },
        "outputId": "1e4eb147-a63a-4aee-a3da-5e2e03b79690"
      },
      "execution_count": null,
      "outputs": [
        {
          "output_type": "execute_result",
          "data": {
            "text/plain": [
              "array([[   2542,  104488, 1077726],\n",
              "       [     77,   44158,    1260],\n",
              "       [      7,   26809,    2063]])"
            ]
          },
          "metadata": {},
          "execution_count": 333
        }
      ]
    },
    {
      "cell_type": "code",
      "source": [
        "print(\"K Neighbors Classifier\")\n",
        "print(f\"Test Accuracy is {accuracy_score(y_test, pred_test_y)}\")\n",
        "#print(f\"precision for botnet is {oo / (oa + oo + on)}\")\n",
        "#print(f\"recall for botnet is {oo / (ao + oo + no)}\")\n",
        "print(f\"Test Precision is {precision_score(y_test, pred_test_y, pos_label='positive', average='micro')}\")\n",
        "print(f\"Test Recall is {recall_score(y_test, pred_test_y, pos_label='positive', average='micro')}\")\n",
        "print()\n",
        "print(f\"Train Accuracy is {train_score}\")\n",
        "print(f\"F1 score is {f1_score(y_test, pred_test_y, average='macro')}\")"
      ],
      "metadata": {
        "id": "zVFRLmuQenWi",
        "colab": {
          "base_uri": "https://localhost:8080/"
        },
        "outputId": "57ed1bad-091d-4401-90fc-6ee8e8f4947b"
      },
      "execution_count": null,
      "outputs": [
        {
          "output_type": "stream",
          "name": "stdout",
          "text": [
            "K Neighbors Classifier\n",
            "Test Accuracy is 0.03872753409099934\n",
            "Test Precision is 0.03872753409099934\n",
            "Test Recall is 0.03872753409099934\n",
            "\n",
            "Train Accuracy is 1.0\n",
            "F1 score is 0.13590312952395273\n"
          ]
        }
      ]
    }
  ]
}