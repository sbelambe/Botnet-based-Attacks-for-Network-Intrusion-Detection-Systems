{
  "nbformat": 4,
  "nbformat_minor": 0,
  "metadata": {
    "colab": {
      "provenance": []
    },
    "kernelspec": {
      "name": "python3",
      "display_name": "Python 3"
    },
    "language_info": {
      "name": "python"
    }
  },
  "cells": [
    {
      "cell_type": "code",
      "source": [
        "from google.colab import drive\n",
        "drive.mount('/content/drive')"
      ],
      "metadata": {
        "colab": {
          "base_uri": "https://localhost:8080/"
        },
        "id": "cf6XLdsa92E9",
        "outputId": "97a7ac6d-da17-43c8-d3f5-fcd7c5434bfc"
      },
      "execution_count": null,
      "outputs": [
        {
          "output_type": "stream",
          "name": "stdout",
          "text": [
            "Mounted at /content/drive\n"
          ]
        }
      ]
    },
    {
      "cell_type": "code",
      "source": [
        "import pandas as pd\n",
        "ctu = pd.read_csv('/content/drive/MyDrive/sjsu nsf reu/edited_merged_files.csv')\n",
        "unsw1120 = pd.read_csv('/content/drive/MyDrive/sjsu nsf reu/unsw_11-20.csv')"
      ],
      "metadata": {
        "id": "58vzmklb98qb"
      },
      "execution_count": null,
      "outputs": []
    },
    {
      "cell_type": "code",
      "source": [
        "ctu.shape"
      ],
      "metadata": {
        "colab": {
          "base_uri": "https://localhost:8080/"
        },
        "id": "pah3qolD-KCT",
        "outputId": "58530b3d-25b4-4073-bef3-94cfbe12d135"
      },
      "execution_count": null,
      "outputs": [
        {
          "output_type": "execute_result",
          "data": {
            "text/plain": [
              "(14415958, 10)"
            ]
          },
          "metadata": {},
          "execution_count": 3
        }
      ]
    },
    {
      "cell_type": "code",
      "source": [
        "unsw1120.shape"
      ],
      "metadata": {
        "colab": {
          "base_uri": "https://localhost:8080/"
        },
        "id": "HIktgQD2-K1n",
        "outputId": "4ee9f568-fe20-4540-cf53-3777e3ddcba2"
      },
      "execution_count": null,
      "outputs": [
        {
          "output_type": "execute_result",
          "data": {
            "text/plain": [
              "(327, 10)"
            ]
          },
          "metadata": {},
          "execution_count": 4
        }
      ]
    },
    {
      "cell_type": "code",
      "source": [
        "selected_df = pd.concat([ctu, unsw1120])\n",
        "selected_df.shape"
      ],
      "metadata": {
        "colab": {
          "base_uri": "https://localhost:8080/"
        },
        "id": "tzdzVF8u-iAK",
        "outputId": "1cfb5fe5-4e00-4000-9203-4abae7118bf8"
      },
      "execution_count": null,
      "outputs": [
        {
          "output_type": "execute_result",
          "data": {
            "text/plain": [
              "(14416285, 10)"
            ]
          },
          "metadata": {},
          "execution_count": 2
        }
      ]
    },
    {
      "cell_type": "markdown",
      "source": [
        "#Train Test Spilt"
      ],
      "metadata": {
        "id": "x1hSZAPh-8pZ"
      }
    },
    {
      "cell_type": "code",
      "source": [
        "from sklearn.model_selection import train_test_split\n",
        "import random"
      ],
      "metadata": {
        "id": "WOhc3Rzqtb_-"
      },
      "execution_count": null,
      "outputs": []
    },
    {
      "cell_type": "code",
      "source": [
        "X = selected_df.loc[:, ['StartTime', 'Dur', 'Proto', 'SrcAddr', 'DstAddr', 'State', 'TotPkts', 'TotBytes', 'SrcBytes', 'Label']]\n",
        "y = selected_df.loc[:, ['Label']]\n",
        "\n",
        "X_train, X_test, y_train, y_test = train_test_split(X, y, test_size = 0.2, random_state = 420)"
      ],
      "metadata": {
        "id": "_XY2A31kt8rw"
      },
      "execution_count": null,
      "outputs": []
    },
    {
      "cell_type": "code",
      "source": [
        "X_train.shape"
      ],
      "metadata": {
        "id": "ure2T33_uICC",
        "colab": {
          "base_uri": "https://localhost:8080/"
        },
        "outputId": "24a0cbf8-2d97-4ca8-82a0-c658c87843fb"
      },
      "execution_count": null,
      "outputs": [
        {
          "output_type": "execute_result",
          "data": {
            "text/plain": [
              "(11533028, 10)"
            ]
          },
          "metadata": {},
          "execution_count": 62
        }
      ]
    },
    {
      "cell_type": "code",
      "source": [
        "y_train.shape"
      ],
      "metadata": {
        "id": "wToHgjQJU5ft",
        "colab": {
          "base_uri": "https://localhost:8080/"
        },
        "outputId": "d4a46e8f-51a5-4d05-be9b-529e64b211a7"
      },
      "execution_count": null,
      "outputs": [
        {
          "output_type": "execute_result",
          "data": {
            "text/plain": [
              "(11533028, 1)"
            ]
          },
          "metadata": {},
          "execution_count": 63
        }
      ]
    },
    {
      "cell_type": "code",
      "source": [
        "y_train.value_counts()"
      ],
      "metadata": {
        "colab": {
          "base_uri": "https://localhost:8080/"
        },
        "id": "DbPh8Iasbtad",
        "outputId": "483f67d6-2000-45b2-d12d-0c96d686e438"
      },
      "execution_count": null,
      "outputs": [
        {
          "output_type": "execute_result",
          "data": {
            "text/plain": [
              "Label\n",
              "1        11234537\n",
              "2          183189\n",
              "3          115302\n",
              "dtype: int64"
            ]
          },
          "metadata": {},
          "execution_count": 29
        }
      ]
    },
    {
      "cell_type": "code",
      "source": [
        "#change perentage of botnet to increase in each label category"
      ],
      "metadata": {
        "id": "_K-su-sLXrcI"
      },
      "execution_count": null,
      "outputs": []
    },
    {
      "cell_type": "code",
      "source": [
        "rows_to_change_b = y_train[y_train['Label'] == 1]\n",
        "rows_to_change_n = y_train[y_train['Label'] == 2]\n",
        "\n",
        "b_rows = int(11234537 * 0.2)\n",
        "n_rows = int(183189 * 0.2)\n",
        "\n",
        "rows_to_change_b = rows_to_change_b.sample(b_rows).copy()\n",
        "rows_to_change_n = rows_to_change_n.sample(n_rows).copy()\n",
        "\n",
        "y_train.loc[rows_to_change_b.index, 'Label'] = 3\n",
        "y_train.loc[rows_to_change_n.index, 'Label'] = 3\n",
        "\n",
        "####\n",
        "x_rows_to_change_b = X_train[X_train['Label'] == 1]\n",
        "x_rows_to_change_n = X_train[X_train['Label'] == 2]\n",
        "\n",
        "x_b_rows = int(11234537 * 0.2)\n",
        "x_n_rows = int(183189 * 0.2)\n",
        "\n",
        "x_rows_to_change_b = rows_to_change_b.sample(x_b_rows).copy()\n",
        "x_rows_to_change_n = rows_to_change_n.sample(x_n_rows).copy()\n",
        "\n",
        "X_train.loc[x_rows_to_change_b.index, 'Label'] = 3\n",
        "X_train.loc[x_rows_to_change_n.index, 'Label'] = 3"
      ],
      "metadata": {
        "id": "6kdvE7JUaUe-"
      },
      "execution_count": null,
      "outputs": []
    },
    {
      "cell_type": "code",
      "source": [
        "#9\n",
        "background_count = 0\n",
        "normal_count = 0\n",
        "botnet_count = 0\n",
        "\n",
        "for x in X_train['Label']:\n",
        "    if '1' in str(x): #Background\n",
        "        background_count += 1\n",
        "    if '2' in str(x): #Normal\n",
        "        normal_count += 1\n",
        "    if '3' in str(x): #Botnet\n",
        "        botnet_count += 1\n",
        "\n",
        "print(str(float(background_count/11533028)))\n",
        "print(str(float(normal_count/11533028)))\n",
        "print(str(float(botnet_count/11533028)))\n",
        "\n",
        "botnet_ratio_b = (float(botnet_count/background_count))\n",
        "botnet_ratio_n = (float(botnet_count/normal_count))\n"
      ],
      "metadata": {
        "id": "ZWx8TZCJPIdA",
        "colab": {
          "base_uri": "https://localhost:8080/"
        },
        "outputId": "373729ca-26e7-4768-e0cd-931d4bb51760"
      },
      "execution_count": null,
      "outputs": [
        {
          "output_type": "stream",
          "name": "stdout",
          "text": [
            "0.7792928275210985\n",
            "0.01270585660591477\n",
            "0.2080013158729867\n"
          ]
        }
      ]
    },
    {
      "cell_type": "code",
      "source": [
        "print(background_count)\n",
        "print(normal_count)\n",
        "print(botnet_count)"
      ],
      "metadata": {
        "id": "j1hFiEFhPO6x",
        "colab": {
          "base_uri": "https://localhost:8080/"
        },
        "outputId": "84ba63bb-4c6a-41bf-b78f-b098527e1915"
      },
      "execution_count": null,
      "outputs": [
        {
          "output_type": "stream",
          "name": "stdout",
          "text": [
            "8987606\n",
            "146537\n",
            "2398885\n"
          ]
        }
      ]
    },
    {
      "cell_type": "code",
      "source": [
        "filtered_df_1 = X_train.copy()\n",
        "\n",
        "# Create a boolean mask to identify rows with \"background\" in the 'Label' column\n",
        "mask_b = filtered_df_1['Label'].astype(str).str.contains('1')\n",
        "\n",
        "# Get the indices of rows with \"background\"\n",
        "indices_background = filtered_df_1.index[mask_b]\n",
        "\n",
        "# Calculate the number of rows to drop (background_count - botnet_count)\n",
        "num_rows_to_drop = background_count - normal_count\n",
        "\n",
        "# Randomly select 'num_rows_to_drop' indices from the background indices\n",
        "indices_to_drop_b = random.sample(indices_background.tolist(), num_rows_to_drop)\n",
        "filtered_y = y_train.copy()\n",
        "\n",
        "# Drop the specified rows from the DataFrame\n",
        "filtered_df_1 = filtered_df_1.drop(indices_to_drop_b)\n",
        "filtered_y = filtered_y.drop(indices_to_drop_b)\n",
        "\n",
        "# Reset the index of the filtered DataFrame\n",
        "filtered_df_1 = filtered_df_1.reset_index(drop=True)\n",
        "filtered_y = filtered_y.reset_index(drop=True)"
      ],
      "metadata": {
        "id": "atNR6bHgPVyF"
      },
      "execution_count": null,
      "outputs": []
    },
    {
      "cell_type": "code",
      "source": [
        "filtered_y.shape"
      ],
      "metadata": {
        "id": "g9incOkNfdlj",
        "colab": {
          "base_uri": "https://localhost:8080/"
        },
        "outputId": "22e93f92-734c-4a5b-ea08-7c5e1821a6cc"
      },
      "execution_count": null,
      "outputs": [
        {
          "output_type": "execute_result",
          "data": {
            "text/plain": [
              "(1586644, 1)"
            ]
          },
          "metadata": {},
          "execution_count": 69
        }
      ]
    },
    {
      "cell_type": "code",
      "source": [
        "filtered_df_1.shape"
      ],
      "metadata": {
        "id": "jap3VnyJZisZ",
        "colab": {
          "base_uri": "https://localhost:8080/"
        },
        "outputId": "d5d35840-5edc-4363-dc43-d63aaa83a58f"
      },
      "execution_count": null,
      "outputs": [
        {
          "output_type": "execute_result",
          "data": {
            "text/plain": [
              "(1586644, 10)"
            ]
          },
          "metadata": {},
          "execution_count": 70
        }
      ]
    },
    {
      "cell_type": "code",
      "source": [
        "#filtered_y.shape"
      ],
      "metadata": {
        "id": "Ch7wfMOdaVhw"
      },
      "execution_count": null,
      "outputs": []
    },
    {
      "cell_type": "code",
      "source": [
        "#15\n",
        "background_count = 0\n",
        "normal_count = 0\n",
        "botnet_count = 0\n",
        "\n",
        "for x in filtered_df_1['Label']:\n",
        "    if '1' in str(x): #Background\n",
        "        background_count += 1\n",
        "    if '2' in str(x): #Normal\n",
        "        normal_count += 1\n",
        "    if '3' in str(x): #Botnet\n",
        "        botnet_count += 1\n",
        "\n",
        "print(str(float(background_count/413824)))\n",
        "print(str(float(normal_count/413824)))\n",
        "print(str(float(botnet_count/413824)))\n",
        "\n",
        "botnet_ratio_b = (float(botnet_count/background_count))\n",
        "botnet_ratio_n = (float(botnet_count/normal_count))"
      ],
      "metadata": {
        "id": "C1oHCUerPgo-",
        "colab": {
          "base_uri": "https://localhost:8080/"
        },
        "outputId": "07017191-8fad-4a56-fbbe-709b43a294d9"
      },
      "execution_count": null,
      "outputs": [
        {
          "output_type": "stream",
          "name": "stdout",
          "text": [
            "0.3541046435199505\n",
            "0.3538799103000309\n",
            "5.796766258119394\n"
          ]
        }
      ]
    },
    {
      "cell_type": "code",
      "source": [
        "print(background_count)\n",
        "print(normal_count)\n",
        "print(botnet_count)"
      ],
      "metadata": {
        "id": "JZ9CybtXGZba"
      },
      "execution_count": null,
      "outputs": []
    },
    {
      "cell_type": "code",
      "source": [
        "#16\n",
        "background_count"
      ],
      "metadata": {
        "id": "rdAIjRwhUge8",
        "colab": {
          "base_uri": "https://localhost:8080/"
        },
        "outputId": "db2c6e5a-51bb-4299-ceab-23504b65def2"
      },
      "execution_count": null,
      "outputs": [
        {
          "output_type": "execute_result",
          "data": {
            "text/plain": [
              "164860"
            ]
          },
          "metadata": {},
          "execution_count": 39
        }
      ]
    },
    {
      "cell_type": "code",
      "source": [
        "filtered_df = filtered_df_1.copy()\n",
        "\n",
        "# Create a boolean mask to identify rows with \"normal\" in the 'Label' column\n",
        "mask_bot = filtered_df['Label'].astype(str).str.contains('3')\n",
        "\n",
        "# Get the indices of rows with \"background\"\n",
        "indices_background = filtered_df.index[mask_bot]\n",
        "\n",
        "# Calculate the number of rows to drop (background_count - botnet_count)\n",
        "num_rows_to_drop = botnet_count - normal_count\n",
        "\n",
        "# Randomly select 'num_rows_to_drop' indices from the background indices\n",
        "indices_to_drop_bot = random.sample(indices_background.tolist(), num_rows_to_drop)\n",
        "filtered_y_2 = filtered_y.copy()\n",
        "\n",
        "# Drop the specified rows from the DataFrame\n",
        "filtered_df = filtered_df.drop(indices_to_drop_bot)\n",
        "filtered_y_2 = filtered_y_2.drop(indices_to_drop_bot)\n",
        "\n",
        "# Reset the index of the filtered DataFrame\n",
        "filtered_df = filtered_df.reset_index(drop=True)\n",
        "filtered_y_2 = filtered_y_2.reset_index(drop=True)"
      ],
      "metadata": {
        "id": "N8h5xqu0UOL5"
      },
      "execution_count": null,
      "outputs": []
    },
    {
      "cell_type": "code",
      "source": [
        "#18\n",
        "filtered_df.shape"
      ],
      "metadata": {
        "id": "bnaniAB4UadA",
        "colab": {
          "base_uri": "https://localhost:8080/"
        },
        "outputId": "bee708cb-c863-42c9-ad70-b1fe76871b35"
      },
      "execution_count": null,
      "outputs": [
        {
          "output_type": "execute_result",
          "data": {
            "text/plain": [
              "(494336, 10)"
            ]
          },
          "metadata": {},
          "execution_count": 74
        }
      ]
    },
    {
      "cell_type": "code",
      "source": [
        "filtered_y_2.shape"
      ],
      "metadata": {
        "id": "F-x21smmhhbU",
        "colab": {
          "base_uri": "https://localhost:8080/"
        },
        "outputId": "f420fd98-5885-465d-c8cd-27cbeb03854e"
      },
      "execution_count": null,
      "outputs": [
        {
          "output_type": "execute_result",
          "data": {
            "text/plain": [
              "(494336, 1)"
            ]
          },
          "metadata": {},
          "execution_count": 75
        }
      ]
    },
    {
      "cell_type": "code",
      "source": [
        "#19\n",
        "background_count = 0\n",
        "normal_count = 0\n",
        "botnet_count = 0\n",
        "\n",
        "for x in filtered_df['Label']:\n",
        "    if '1' in str(x):\n",
        "        background_count += 1\n",
        "    if '2' in str(x):\n",
        "        normal_count += 1\n",
        "    if '3' in str(x):\n",
        "        botnet_count += 1\n",
        "\n",
        "print(str(float(background_count/345804)))\n",
        "print(str(float(normal_count/345804)))\n",
        "print(str(float(botnet_count/345804)))"
      ],
      "metadata": {
        "id": "hHD6QNGtUmqC",
        "colab": {
          "base_uri": "https://localhost:8080/"
        },
        "outputId": "9ccaa831-8ad9-462e-de62-24f2ecac9f8f"
      },
      "execution_count": null,
      "outputs": [
        {
          "output_type": "stream",
          "name": "stdout",
          "text": [
            "0.4765734346624099\n",
            "0.47642306046199584\n",
            "0.47642306046199584\n"
          ]
        }
      ]
    },
    {
      "cell_type": "code",
      "source": [
        "print(background_count)\n",
        "print(normal_count)\n",
        "print(botnet_count)"
      ],
      "metadata": {
        "colab": {
          "base_uri": "https://localhost:8080/"
        },
        "id": "cG9iZfudGeMX",
        "outputId": "60ba7fac-091e-4cc4-e05f-d4733fc7f842"
      },
      "execution_count": null,
      "outputs": [
        {
          "output_type": "stream",
          "name": "stdout",
          "text": [
            "164801\n",
            "164749\n",
            "164749\n"
          ]
        }
      ]
    },
    {
      "cell_type": "code",
      "source": [
        "X_train = filtered_df"
      ],
      "metadata": {
        "id": "-5YOOivYWZzK"
      },
      "execution_count": null,
      "outputs": []
    },
    {
      "cell_type": "code",
      "source": [
        "#rows_to_drop = y_train.sample(n=11186962).index\n",
        "#y_train = y_train.drop(rows_to_drop)"
      ],
      "metadata": {
        "id": "9sspjhsMY4en"
      },
      "execution_count": null,
      "outputs": []
    },
    {
      "cell_type": "code",
      "source": [
        "y_train = filtered_y_2"
      ],
      "metadata": {
        "id": "twGZNCxAhlaN"
      },
      "execution_count": null,
      "outputs": []
    },
    {
      "cell_type": "code",
      "source": [
        "X_train.shape"
      ],
      "metadata": {
        "id": "_zT7EYQTWyV8",
        "colab": {
          "base_uri": "https://localhost:8080/"
        },
        "outputId": "b3cf2427-d39b-4248-958b-0cca014a0b86"
      },
      "execution_count": null,
      "outputs": [
        {
          "output_type": "execute_result",
          "data": {
            "text/plain": [
              "(494336, 10)"
            ]
          },
          "metadata": {},
          "execution_count": 80
        }
      ]
    },
    {
      "cell_type": "code",
      "source": [
        "y_train.shape"
      ],
      "metadata": {
        "id": "pnOE7as7Y8w-",
        "colab": {
          "base_uri": "https://localhost:8080/"
        },
        "outputId": "9a357fa9-3bd7-4f09-9b45-b6497766d066"
      },
      "execution_count": null,
      "outputs": [
        {
          "output_type": "execute_result",
          "data": {
            "text/plain": [
              "(494336, 1)"
            ]
          },
          "metadata": {},
          "execution_count": 81
        }
      ]
    },
    {
      "cell_type": "code",
      "source": [
        "X_train = X_train.drop(columns=['Label'])\n",
        "X_test = X_test.drop(columns=['Label'])"
      ],
      "metadata": {
        "id": "gwOFogZeiRjg"
      },
      "execution_count": null,
      "outputs": []
    },
    {
      "cell_type": "code",
      "source": [
        "X_train.shape"
      ],
      "metadata": {
        "colab": {
          "base_uri": "https://localhost:8080/"
        },
        "id": "lqBwT4zZie7l",
        "outputId": "614606ad-f200-4d8e-a4a5-6e277358b7b6"
      },
      "execution_count": null,
      "outputs": [
        {
          "output_type": "execute_result",
          "data": {
            "text/plain": [
              "(494336, 9)"
            ]
          },
          "metadata": {},
          "execution_count": 84
        }
      ]
    },
    {
      "cell_type": "code",
      "source": [
        "X_test.shape"
      ],
      "metadata": {
        "id": "8Q7YQsiiuM3q",
        "colab": {
          "base_uri": "https://localhost:8080/"
        },
        "outputId": "d7b772b8-2b25-4ff0-d5b2-854cdab49af5"
      },
      "execution_count": null,
      "outputs": [
        {
          "output_type": "execute_result",
          "data": {
            "text/plain": [
              "(2883257, 9)"
            ]
          },
          "metadata": {},
          "execution_count": 85
        }
      ]
    },
    {
      "cell_type": "code",
      "source": [
        "y_train.value_counts()"
      ],
      "metadata": {
        "id": "OC-80yAUuP8P",
        "colab": {
          "base_uri": "https://localhost:8080/"
        },
        "outputId": "c902759d-50a3-4a83-fe83-5075cba01ed7"
      },
      "execution_count": null,
      "outputs": [
        {
          "output_type": "execute_result",
          "data": {
            "text/plain": [
              "Label\n",
              "1        164847\n",
              "2        164748\n",
              "3        164748\n",
              "dtype: int64"
            ]
          },
          "metadata": {},
          "execution_count": 18
        }
      ]
    },
    {
      "cell_type": "code",
      "source": [
        "y_test.value_counts()"
      ],
      "metadata": {
        "id": "oXqu30iGQvBH",
        "colab": {
          "base_uri": "https://localhost:8080/"
        },
        "outputId": "f1844212-7462-4e98-d4f0-3b783006a958"
      },
      "execution_count": null,
      "outputs": [
        {
          "output_type": "execute_result",
          "data": {
            "text/plain": [
              "Label\n",
              "1        2808485\n",
              "2          46024\n",
              "3          28748\n",
              "dtype: int64"
            ]
          },
          "metadata": {},
          "execution_count": 88
        }
      ]
    },
    {
      "cell_type": "code",
      "source": [
        "X_train.value_counts()"
      ],
      "metadata": {
        "colab": {
          "base_uri": "https://localhost:8080/"
        },
        "id": "Z8H0x5p7GnZF",
        "outputId": "3e71dd69-d1c5-4afd-8d3e-04eccf6532ef"
      },
      "execution_count": null,
      "outputs": [
        {
          "output_type": "execute_result",
          "data": {
            "text/plain": [
              "StartTime  Dur      Proto  SrcAddr  DstAddr  State  TotPkts  TotBytes  SrcBytes\n",
              "5          17       2      6        7        2      7        5         5           1\n",
              "8968677    306      1      7        1        1      1        17        4           1\n",
              "8969688    2314892  1      1332407  23       1      4        496       338         1\n",
              "8969623    60       1      1        1        1      1        1         1           1\n",
              "8969431    2213     1      2        1        1      1        45        4           1\n",
              "                                                                                  ..\n",
              "4187769    35585    1      83       1        1      1        93        2           1\n",
              "4187762    40475    1      14       1        1      1        260       10          1\n",
              "4187751    71058    1      73       1        1      1        45        6           1\n",
              "4187750    305      1      73       1        1      1        648       8           1\n",
              "14415921   148      1      7        1        1      1        17        4           1\n",
              "Length: 345792, dtype: int64"
            ]
          },
          "metadata": {},
          "execution_count": 47
        }
      ]
    },
    {
      "cell_type": "code",
      "source": [
        "X_test.value_counts()"
      ],
      "metadata": {
        "colab": {
          "base_uri": "https://localhost:8080/"
        },
        "id": "iy29d1hDGp-I",
        "outputId": "37896b0d-787d-4924-c395-5bb2c117c1f0"
      },
      "execution_count": null,
      "outputs": [
        {
          "output_type": "execute_result",
          "data": {
            "text/plain": [
              "StartTime  Dur      Proto  SrcAddr  DstAddr  State  TotPkts  TotBytes  SrcBytes\n",
              "1          18       3      7        10       1      1        1         1           1\n",
              "9607478    1845230  1      17       266211   1      1        96        34          1\n",
              "9607441    1845315  1      425897   2        1      2        343       169         1\n",
              "9607442    1845314  1      935045   2        1      3        84        243         1\n",
              "9607444    36       1      1        1        1      1        1         1           1\n",
              "                                                                                  ..\n",
              "4805538    90702    1      2        1        1      1        87        5           1\n",
              "4805540    27669    1      8855     2        1      1        63        158         1\n",
              "4805546    376486   1      1008520  2        1      1        165       125         1\n",
              "4805550    223      1      49       1        1      1        40        3           1\n",
              "14415946   2        1      3        1        1      1        10        3           1\n",
              "Length: 2883257, dtype: int64"
            ]
          },
          "metadata": {},
          "execution_count": 48
        }
      ]
    },
    {
      "cell_type": "markdown",
      "source": [
        "# Random Forest"
      ],
      "metadata": {
        "id": "K9jojQioA6Az"
      }
    },
    {
      "cell_type": "code",
      "source": [
        "from sklearn.ensemble import RandomForestClassifier\n",
        "from sklearn.metrics import accuracy_score\n",
        "from sklearn.metrics import precision_score, recall_score, f1_score\n",
        "from sklearn.metrics import confusion_matrix\n",
        "from sklearn.metrics import f1_score"
      ],
      "metadata": {
        "id": "XCLg_JtBH8SK"
      },
      "execution_count": null,
      "outputs": []
    },
    {
      "cell_type": "code",
      "source": [
        "clf = RandomForestClassifier(max_depth = 30, min_samples_leaf = 1, n_estimators =200)"
      ],
      "metadata": {
        "id": "jtEO-SuGH--d"
      },
      "execution_count": null,
      "outputs": []
    },
    {
      "cell_type": "code",
      "source": [
        "train_score = clf.fit(X_train, y_train).score(X_train, y_train)\n",
        "train_score"
      ],
      "metadata": {
        "colab": {
          "base_uri": "https://localhost:8080/"
        },
        "id": "58T2Oz6AIAOO",
        "outputId": "ca2363a3-b4c4-478f-f621-964c20e9637c"
      },
      "execution_count": null,
      "outputs": [
        {
          "output_type": "stream",
          "name": "stderr",
          "text": [
            "<ipython-input-16-84eecfb2c483>:1: DataConversionWarning: A column-vector y was passed when a 1d array was expected. Please change the shape of y to (n_samples,), for example using ravel().\n",
            "  train_score = clf.fit(X_train, y_train).score(X_train, y_train)\n"
          ]
        },
        {
          "output_type": "execute_result",
          "data": {
            "text/plain": [
              "0.9780713432326336"
            ]
          },
          "metadata": {},
          "execution_count": 16
        }
      ]
    },
    {
      "cell_type": "code",
      "source": [
        "pred_test_y = clf.predict(X_test)\n",
        "pred_train_y = clf.predict(X_train)"
      ],
      "metadata": {
        "id": "t8L1QiJMIFu8"
      },
      "execution_count": null,
      "outputs": []
    },
    {
      "cell_type": "code",
      "source": [
        "confusion_matrix(y_test, pred_test_y)"
      ],
      "metadata": {
        "colab": {
          "base_uri": "https://localhost:8080/"
        },
        "id": "CzrFC2x1IHJv",
        "outputId": "947b84a7-e1f4-44d4-d308-620024e80eed"
      },
      "execution_count": null,
      "outputs": [
        {
          "output_type": "execute_result",
          "data": {
            "text/plain": [
              "array([[1685638,     458, 1122389],\n",
              "       [      4,   46005,      15],\n",
              "       [     23,       4,   28721]])"
            ]
          },
          "metadata": {},
          "execution_count": 18
        }
      ]
    },
    {
      "cell_type": "code",
      "source": [
        "print(\"Random Forest Classifier\")\n",
        "\n",
        "print(f\"Test Accuracy is {accuracy_score(y_test, pred_test_y)}\")\n",
        "#print(f\"precision for botnet is {oo / (oa + oo + on)}\")\n",
        "#print(f\"recall for botnet is {oo / (ao + oo + no)}\")\n",
        "print(f\"Test Precision is {precision_score(y_test, pred_test_y, pos_label='positive', average='micro')}\")\n",
        "print(f\"Test Recall is {recall_score(y_test, pred_test_y, pos_label='positive', average='micro')}\")\n",
        "print()\n",
        "print(f\"Train Accuracy is {train_score}\")\n",
        "print(f\"F1 score is {f1_score(y_test, pred_test_y, average='macro')}\")"
      ],
      "metadata": {
        "colab": {
          "base_uri": "https://localhost:8080/"
        },
        "id": "L98xDcqkIKzm",
        "outputId": "058980b0-f52d-4f9a-918b-0b5697041396"
      },
      "execution_count": null,
      "outputs": [
        {
          "output_type": "stream",
          "name": "stdout",
          "text": [
            "Random Forest Classifier\n",
            "Test Accuracy is 0.6105470306670546\n"
          ]
        },
        {
          "output_type": "stream",
          "name": "stderr",
          "text": [
            "/usr/local/lib/python3.10/dist-packages/sklearn/metrics/_classification.py:1396: UserWarning: Note that pos_label (set to 'positive') is ignored when average != 'binary' (got 'micro'). You may use labels=[pos_label] to specify a single positive class.\n",
            "  warnings.warn(\n"
          ]
        },
        {
          "output_type": "stream",
          "name": "stdout",
          "text": [
            "Test Precision is 0.6105470306670546\n"
          ]
        },
        {
          "output_type": "stream",
          "name": "stderr",
          "text": [
            "/usr/local/lib/python3.10/dist-packages/sklearn/metrics/_classification.py:1396: UserWarning: Note that pos_label (set to 'positive') is ignored when average != 'binary' (got 'micro'). You may use labels=[pos_label] to specify a single positive class.\n",
            "  warnings.warn(\n"
          ]
        },
        {
          "output_type": "stream",
          "name": "stdout",
          "text": [
            "Test Recall is 0.6105470306670546\n",
            "\n",
            "Train Accuracy is 0.9780713432326336\n",
            "F1 score is 0.5978773437363657\n"
          ]
        }
      ]
    }
  ]
}