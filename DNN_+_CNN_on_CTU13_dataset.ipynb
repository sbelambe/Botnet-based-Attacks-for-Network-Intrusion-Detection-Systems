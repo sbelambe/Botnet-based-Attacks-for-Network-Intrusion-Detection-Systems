{
  "nbformat": 4,
  "nbformat_minor": 0,
  "metadata": {
    "colab": {
      "provenance": []
    },
    "kernelspec": {
      "name": "python3",
      "display_name": "Python 3"
    },
    "language_info": {
      "name": "python"
    }
  },
  "cells": [
    {
      "cell_type": "code",
      "execution_count": null,
      "metadata": {
        "colab": {
          "base_uri": "https://localhost:8080/"
        },
        "id": "JtgUUxJVs-sc",
        "outputId": "2787eed9-7056-4e26-97e3-726e9ac2852b"
      },
      "outputs": [
        {
          "output_type": "execute_result",
          "data": {
            "text/plain": [
              "(14415958, 10)"
            ]
          },
          "metadata": {},
          "execution_count": 1
        }
      ],
      "source": [
        "#Use this section to access a new dataset that needs to be used for the splitting and model\n",
        "import pandas as pd\n",
        "selected_df = pd.read_csv('/content/drive/MyDrive/sjsu nsf reu/edited_merged_files.csv')\n",
        "selected_df.shape"
      ]
    },
    {
      "cell_type": "code",
      "source": [
        "from sklearn.model_selection import train_test_split"
      ],
      "metadata": {
        "id": "tP_XSg6FtElf"
      },
      "execution_count": null,
      "outputs": []
    },
    {
      "cell_type": "code",
      "source": [
        "X = selected_df.loc[:, ['StartTime', 'Dur', 'Proto', 'SrcAddr', 'DstAddr', 'State', 'TotPkts', 'TotBytes', 'SrcBytes', 'Label']]\n",
        "y = selected_df.loc[:, 'Label']\n",
        "\n",
        "X_train, X_test, y_train, y_test = train_test_split(X, y, test_size = 0.2, random_state = 420)"
      ],
      "metadata": {
        "id": "A7DrQDgKtGc3"
      },
      "execution_count": null,
      "outputs": []
    },
    {
      "cell_type": "code",
      "source": [
        "#9\n",
        "background_count = 0\n",
        "normal_count = 0\n",
        "botnet_count = 0\n",
        "\n",
        "for x in X_train['Label']:\n",
        "    if '1' in str(x): #Background\n",
        "        background_count += 1\n",
        "    if '2' in str(x): #Normal\n",
        "        normal_count += 1\n",
        "    if '3' in str(x): #Botnet\n",
        "        botnet_count += 1\n",
        "\n",
        "print(str(float(background_count/11532766)))\n",
        "print(str(float(normal_count/11532766)))\n",
        "print(str(float(botnet_count/11532766)))\n",
        "\n",
        "botnet_ratio_b = (float(botnet_count/background_count))\n",
        "botnet_ratio_n = (float(botnet_count/normal_count))\n"
      ],
      "metadata": {
        "colab": {
          "base_uri": "https://localhost:8080/"
        },
        "id": "eBCn8idntHwq",
        "outputId": "6a66c35d-5b6f-4eb8-9408-db9acb6fde5f"
      },
      "execution_count": null,
      "outputs": [
        {
          "output_type": "stream",
          "name": "stdout",
          "text": [
            "0.9741123681864351\n",
            "0.015892804900402905\n",
            "0.009994826913162029\n"
          ]
        }
      ]
    },
    {
      "cell_type": "code",
      "source": [
        "#14\n",
        "filtered_df_1 = X_train.copy()\n",
        "\n",
        "# Create a boolean mask to identify rows with \"background\" in the 'Label' column\n",
        "mask_b = filtered_df_1['Label'].astype(str).str.contains('1')\n",
        "\n",
        "# Identify the indices of the rows to drop\n",
        "indices_to_drop_b = filtered_df_1.index[mask_b].tolist()[:(background_count-botnet_count)]\n",
        "filtered_y = y_train.copy()\n",
        "\n",
        "# Drop the specified rows from the DataFrame\n",
        "filtered_df_1 = filtered_df_1.drop(indices_to_drop_b)\n",
        "filtered_y = filtered_y.drop(indices_to_drop_b)\n",
        "\n",
        "# Reset the index of the filtered DataFrame\n",
        "filtered_df_1 = filtered_df_1.reset_index(drop=True)\n",
        "filtered_y = filtered_y.reset_index(drop=True)"
      ],
      "metadata": {
        "id": "QxyURAzDtJOH"
      },
      "execution_count": null,
      "outputs": []
    },
    {
      "cell_type": "code",
      "source": [
        "#15\n",
        "background_count = 0\n",
        "normal_count = 0\n",
        "botnet_count = 0\n",
        "\n",
        "for x in filtered_df_1['Label']:\n",
        "    if '1' in str(x): #Background\n",
        "        background_count += 1\n",
        "    if '2' in str(x): #Normal\n",
        "        normal_count += 1\n",
        "    if '3' in str(x): #Botnet\n",
        "        botnet_count += 1\n",
        "\n",
        "print(str(float(background_count/413824)))\n",
        "print(str(float(normal_count/413824)))\n",
        "print(str(float(botnet_count/413824)))\n",
        "\n",
        "botnet_ratio_b = (float(botnet_count/background_count))\n",
        "botnet_ratio_n = (float(botnet_count/normal_count))"
      ],
      "metadata": {
        "colab": {
          "base_uri": "https://localhost:8080/"
        },
        "id": "0npxzxM0tKeP",
        "outputId": "eb760aaf-d21e-4d1d-fbc9-8eeace91bb32"
      },
      "execution_count": null,
      "outputs": [
        {
          "output_type": "stream",
          "name": "stdout",
          "text": [
            "0.2785435354160223\n",
            "0.44291292916795544\n",
            "0.2785435354160223\n"
          ]
        }
      ]
    },
    {
      "cell_type": "code",
      "source": [
        "#17\n",
        "filtered_df = filtered_df_1.copy()\n",
        "\n",
        "# Create a boolean mask to identify rows with \"normal\" in the 'Label' column\n",
        "mask_n = filtered_df['Label'].astype(str).str.contains('2')\n",
        "\n",
        "# Identify the indices of the rows to drop\n",
        "indices_to_drop_n = filtered_df.index[mask_n].tolist()[:(normal_count-botnet_count)]\n",
        "filtered_y_2 = filtered_y.copy()\n",
        "\n",
        "# Drop the specified rows from the DataFrame\n",
        "filtered_df = filtered_df.drop(indices_to_drop_n)\n",
        "filtered_y_2 = filtered_y_2.drop(indices_to_drop_n)\n",
        "\n",
        "# Reset the index of the filtered DataFrame\n",
        "filtered_df = filtered_df.reset_index(drop=True)\n",
        "filtered_y_2 = filtered_y_2.reset_index(drop=True)"
      ],
      "metadata": {
        "id": "JEWNPhPAtLhk"
      },
      "execution_count": null,
      "outputs": []
    },
    {
      "cell_type": "code",
      "source": [
        "X_train = filtered_df"
      ],
      "metadata": {
        "id": "U-pyAny4tN4Z"
      },
      "execution_count": null,
      "outputs": []
    },
    {
      "cell_type": "code",
      "source": [
        "y_train = filtered_y_2"
      ],
      "metadata": {
        "id": "Ae_Z9WnUtOKq"
      },
      "execution_count": null,
      "outputs": []
    },
    {
      "cell_type": "code",
      "source": [
        "X_train = X_train.drop(columns=['Label'])\n",
        "X_test = X_test.drop(columns=['Label'])"
      ],
      "metadata": {
        "id": "Hw6KEWmEtR7a"
      },
      "execution_count": null,
      "outputs": []
    },
    {
      "cell_type": "code",
      "source": [
        "X_train.shape"
      ],
      "metadata": {
        "colab": {
          "base_uri": "https://localhost:8080/"
        },
        "id": "66m38b39tTQv",
        "outputId": "1a94e6ee-ae2c-4c04-de2a-10e91ef82111"
      },
      "execution_count": null,
      "outputs": [
        {
          "output_type": "execute_result",
          "data": {
            "text/plain": [
              "(345804, 9)"
            ]
          },
          "metadata": {},
          "execution_count": 11
        }
      ]
    },
    {
      "cell_type": "code",
      "source": [
        "X_test.shape"
      ],
      "metadata": {
        "colab": {
          "base_uri": "https://localhost:8080/"
        },
        "id": "jkxwjddCtxWH",
        "outputId": "9f989f7a-370f-4827-a2ed-6147a484d7e0"
      },
      "execution_count": null,
      "outputs": [
        {
          "output_type": "execute_result",
          "data": {
            "text/plain": [
              "(2883192, 9)"
            ]
          },
          "metadata": {},
          "execution_count": 12
        }
      ]
    },
    {
      "cell_type": "code",
      "source": [
        "y_train.value_counts()"
      ],
      "metadata": {
        "colab": {
          "base_uri": "https://localhost:8080/"
        },
        "id": "AZ6Qy5Z5uVMc",
        "outputId": "57f0fa41-a270-475b-9257-d7698be81b6c"
      },
      "execution_count": null,
      "outputs": [
        {
          "output_type": "execute_result",
          "data": {
            "text/plain": [
              "3    115268\n",
              "2    115268\n",
              "1    115268\n",
              "Name: Label, dtype: int64"
            ]
          },
          "metadata": {},
          "execution_count": 13
        }
      ]
    },
    {
      "cell_type": "code",
      "source": [
        "y_test.value_counts()"
      ],
      "metadata": {
        "colab": {
          "base_uri": "https://localhost:8080/"
        },
        "id": "xzZP4wifuX1t",
        "outputId": "15288c4f-8509-4fd7-d54b-dccdbf941299"
      },
      "execution_count": null,
      "outputs": [
        {
          "output_type": "execute_result",
          "data": {
            "text/plain": [
              "1    2808812\n",
              "2      45688\n",
              "3      28692\n",
              "Name: Label, dtype: int64"
            ]
          },
          "metadata": {},
          "execution_count": 14
        }
      ]
    },
    {
      "cell_type": "code",
      "source": [
        "y_test.shape"
      ],
      "metadata": {
        "colab": {
          "base_uri": "https://localhost:8080/"
        },
        "id": "oVhThYG8wgZh",
        "outputId": "3d94e786-c4df-445b-c1d8-818ed13e0869"
      },
      "execution_count": null,
      "outputs": [
        {
          "output_type": "execute_result",
          "data": {
            "text/plain": [
              "(2883192,)"
            ]
          },
          "metadata": {},
          "execution_count": 15
        }
      ]
    },
    {
      "cell_type": "code",
      "source": [
        "X_split_index = len(X_test) // 2\n",
        "X_val = X_test[X_split_index:]\n",
        "X_test = X_test[:X_split_index]"
      ],
      "metadata": {
        "id": "kCIcUotN4eSo"
      },
      "execution_count": null,
      "outputs": []
    },
    {
      "cell_type": "code",
      "source": [
        "y_split_index = len(y_test) // 2\n",
        "y_val = y_test[y_split_index:]\n",
        "y_test = y_test[:y_split_index]"
      ],
      "metadata": {
        "id": "0yTvqSNb5KcB"
      },
      "execution_count": null,
      "outputs": []
    },
    {
      "cell_type": "markdown",
      "source": [
        "# DNN\n"
      ],
      "metadata": {
        "id": "85nmGTz_ubQ4"
      }
    },
    {
      "cell_type": "code",
      "source": [
        "import tensorflow as tf\n",
        "from tensorflow import keras"
      ],
      "metadata": {
        "id": "PSiSv4RgufEE"
      },
      "execution_count": null,
      "outputs": []
    },
    {
      "cell_type": "code",
      "source": [
        "from tensorflow.keras.utils import to_categorical\n",
        "\n",
        "# Assuming y_train is your original target data\n",
        "# Perform one-hot encoding on y_train\n",
        "y_train_encoded = to_categorical(y_train)\n",
        "\n",
        "y_val_encoded = to_categorical(y_val)\n",
        "\n",
        "# Repeat the same for y_test if needed\n",
        "y_test_encoded = to_categorical(y_test)"
      ],
      "metadata": {
        "id": "wYfuh9yixzZR"
      },
      "execution_count": null,
      "outputs": []
    },
    {
      "cell_type": "code",
      "source": [
        "y_val_encoded.shape"
      ],
      "metadata": {
        "colab": {
          "base_uri": "https://localhost:8080/"
        },
        "id": "nVD_9NAQyQhH",
        "outputId": "ced36932-1e4d-4c87-9b05-4cc3bbce2414"
      },
      "execution_count": null,
      "outputs": [
        {
          "output_type": "execute_result",
          "data": {
            "text/plain": [
              "(1441596, 4)"
            ]
          },
          "metadata": {},
          "execution_count": 76
        }
      ]
    },
    {
      "cell_type": "code",
      "source": [
        "y_train_encoded.shape"
      ],
      "metadata": {
        "colab": {
          "base_uri": "https://localhost:8080/"
        },
        "id": "yy8lwOt1-SEO",
        "outputId": "0dbb5f15-063b-4de4-88bc-b069cbce909e"
      },
      "execution_count": null,
      "outputs": [
        {
          "output_type": "execute_result",
          "data": {
            "text/plain": [
              "(345804, 4)"
            ]
          },
          "metadata": {},
          "execution_count": 87
        }
      ]
    },
    {
      "cell_type": "code",
      "source": [
        "X_val.shape"
      ],
      "metadata": {
        "colab": {
          "base_uri": "https://localhost:8080/"
        },
        "id": "51zzF7Yn71iw",
        "outputId": "abda80d0-a4fd-4f80-b3c6-512bcccfd7ea"
      },
      "execution_count": null,
      "outputs": [
        {
          "output_type": "execute_result",
          "data": {
            "text/plain": [
              "(1441596, 9)"
            ]
          },
          "metadata": {},
          "execution_count": 78
        }
      ]
    },
    {
      "cell_type": "code",
      "source": [
        "model = keras.Sequential([\n",
        "    #tf.keras.layers.Flatten(input_shape=(9,)),\n",
        "    keras.layers.Dense(100, activation='relu', input_shape=(9,)),\n",
        "    keras.layers.Dense(100, activation='relu', input_shape=(9,)),\n",
        "    keras.layers.Dense(100, activation='relu', input_shape=(9,)),\n",
        "    keras.layers.Dense(100, activation='relu', input_shape=(9,)),\n",
        "    keras.layers.Dense(4, activation='softmax')\n",
        "])\n",
        "\n",
        "#custom_optimizer = tf.keras.optimizers.SGD(learning_rate=0.02)\n",
        "\n",
        "model.compile(optimizer='adam', loss='categorical_crossentropy', metrics=['accuracy'])\n",
        "\n",
        "model.fit(X_train, y_train_encoded, epochs=5, batch_size=100, validation_data=(X_val, y_val_encoded))\n",
        "\n",
        "test_loss, test_acc = model.evaluate(X_test, y_test_encoded)"
      ],
      "metadata": {
        "colab": {
          "base_uri": "https://localhost:8080/"
        },
        "id": "celMOWJFBzNw",
        "outputId": "c187530d-dea1-4f49-d63b-024bdc5e6d96"
      },
      "execution_count": null,
      "outputs": [
        {
          "output_type": "stream",
          "name": "stdout",
          "text": [
            "Epoch 1/5\n",
            "3459/3459 [==============================] - 53s 15ms/step - loss: 2782.2678 - accuracy: 0.4515 - val_loss: 5.3742 - val_accuracy: 0.2674\n",
            "Epoch 2/5\n",
            "3459/3459 [==============================] - 31s 9ms/step - loss: 3.2291 - accuracy: 0.4449 - val_loss: 1.3750 - val_accuracy: 0.2175\n",
            "Epoch 3/5\n",
            "3459/3459 [==============================] - 31s 9ms/step - loss: 32.3624 - accuracy: 0.3723 - val_loss: 1.0272 - val_accuracy: 0.1355\n",
            "Epoch 4/5\n",
            "3459/3459 [==============================] - 31s 9ms/step - loss: 1.1061 - accuracy: 0.3638 - val_loss: 1.0699 - val_accuracy: 0.0789\n",
            "Epoch 5/5\n",
            "3459/3459 [==============================] - 31s 9ms/step - loss: 3.6573 - accuracy: 0.3497 - val_loss: 1.0714 - val_accuracy: 0.9741\n",
            "45050/45050 [==============================] - 74s 2ms/step - loss: 1.0704 - accuracy: 0.9743\n"
          ]
        }
      ]
    },
    {
      "cell_type": "code",
      "source": [
        "print('Test loss: {0:.2f}. Test accuracy: {1:.2f}%'.format(test_loss, test_acc*100.))"
      ],
      "metadata": {
        "colab": {
          "base_uri": "https://localhost:8080/"
        },
        "id": "8vydkG4e9C7X",
        "outputId": "04e8c3ef-260d-4aa1-b6b9-cf581fc73450"
      },
      "execution_count": null,
      "outputs": [
        {
          "output_type": "stream",
          "name": "stdout",
          "text": [
            "Test loss: 1.07. Test accuracy: 97.43%\n"
          ]
        }
      ]
    }
  ]
}