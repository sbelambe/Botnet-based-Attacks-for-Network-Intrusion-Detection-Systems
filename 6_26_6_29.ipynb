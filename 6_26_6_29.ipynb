{
  "nbformat": 4,
  "nbformat_minor": 0,
  "metadata": {
    "colab": {
      "provenance": [],
      "collapsed_sections": [
        "ka6Xeo3lR3b6"
      ],
      "gpuType": "T4"
    },
    "kernelspec": {
      "name": "python3",
      "display_name": "Python 3"
    },
    "language_info": {
      "name": "python"
    }
  },
  "cells": [
    {
      "cell_type": "code",
      "execution_count": null,
      "metadata": {
        "id": "c2D0Zs2YinHD"
      },
      "outputs": [],
      "source": [
        "import pandas as pd\n",
        "import numpy as np\n",
        "import math"
      ]
    },
    {
      "cell_type": "code",
      "source": [
        "import sklearn.preprocessing\n",
        "from sklearn.ensemble import RandomForestClassifier\n",
        "from sklearn.metrics import accuracy_score\n",
        "from sklearn.metrics import precision_score, recall_score, f1_score\n",
        "from sklearn.metrics import confusion_matrix\n",
        "from sklearn.metrics import f1_score\n",
        "from sklearn import svm\n",
        "from sklearn.preprocessing import LabelEncoder\n",
        "from imblearn.over_sampling import SMOTE"
      ],
      "metadata": {
        "id": "DOdqgmIXpXpW"
      },
      "execution_count": null,
      "outputs": []
    },
    {
      "cell_type": "code",
      "source": [
        "df = pd.read_csv('/content/drive/MyDrive/sjsu nsf reu/merged_files.csv')\n",
        "df.shape"
      ],
      "metadata": {
        "id": "1Vf8NC97ipzN",
        "colab": {
          "base_uri": "https://localhost:8080/"
        },
        "outputId": "7297d0d5-c3d6-497f-c66d-bed6f20a921e"
      },
      "execution_count": null,
      "outputs": [
        {
          "output_type": "execute_result",
          "data": {
            "text/plain": [
              "(19976700, 15)"
            ]
          },
          "metadata": {},
          "execution_count": 3
        }
      ]
    },
    {
      "cell_type": "markdown",
      "source": [
        "## Feature Selection"
      ],
      "metadata": {
        "id": "iYJ99fDzIPhb"
      }
    },
    {
      "cell_type": "code",
      "source": [
        "#start removing unecessary features according to Fabios paper, save it into \"selected_df\". Make any future changes related to the dataset in \"selected_df\"\n",
        "selected_df = df.drop(columns=['Sport', 'Dir', 'Dport', 'sTos', 'dTos'])\n",
        "selected_df.shape"
      ],
      "metadata": {
        "colab": {
          "base_uri": "https://localhost:8080/"
        },
        "id": "E-0-H4M2qGB4",
        "outputId": "54d0c6f9-135c-4cce-fa9c-45274e3260dd"
      },
      "execution_count": null,
      "outputs": [
        {
          "output_type": "execute_result",
          "data": {
            "text/plain": [
              "(19976700, 10)"
            ]
          },
          "metadata": {},
          "execution_count": 4
        }
      ]
    },
    {
      "cell_type": "code",
      "source": [
        "#the rows without Proto as UDP, TCP, HTTP, or ICMP will be filtered out,\n",
        "#and, of the remaining rows, only those with connection state CON, URP, or FSPA FPSA\n",
        "\n",
        "selected_df = selected_df[(selected_df.Proto == 'udp') | (selected_df.Proto == 'tcp') | (selected_df.Proto == 'http') | (selected_df.Proto == 'icmp')]\n",
        "selected_df = selected_df[(selected_df.State == 'CON') | (selected_df.State == 'URP') | (selected_df.State == 'FSPA FPSA')]\n"
      ],
      "metadata": {
        "id": "4qShHVdxqWme"
      },
      "execution_count": null,
      "outputs": []
    },
    {
      "cell_type": "code",
      "source": [
        "selected_df.shape"
      ],
      "metadata": {
        "id": "F44ovG95qcYf",
        "colab": {
          "base_uri": "https://localhost:8080/"
        },
        "outputId": "e51f3f45-f642-41d0-c5cc-739e5b3d5a5c"
      },
      "execution_count": null,
      "outputs": [
        {
          "output_type": "execute_result",
          "data": {
            "text/plain": [
              "(14415958, 10)"
            ]
          },
          "metadata": {},
          "execution_count": 6
        }
      ]
    },
    {
      "cell_type": "code",
      "source": [
        "#Simplify the 1400 labels into their three groups, \"background\", \"normal\", or \"botnet\"\n",
        "\n",
        "#Background\n",
        "selected_df.loc[df['Label'].str.contains(\"Background\"), 'Label'] = \"Background\"\n",
        "\n",
        "#Normal\n",
        "selected_df.loc[df['Label'].str.contains(\"Normal\"), 'Label'] = \"Normal\"\n",
        "\n",
        "#Botnet\n",
        "selected_df.loc[df['Label'].str.contains(\"Botnet\"), 'Label'] = \"Botnet\""
      ],
      "metadata": {
        "id": "3X9i8_zCGwGk"
      },
      "execution_count": null,
      "outputs": []
    },
    {
      "cell_type": "markdown",
      "source": [
        "# Preprocessing\n",
        "### Changing the values to numerical values based on their frequency. The more frequent, the higher the number"
      ],
      "metadata": {
        "id": "jUXumZlQC_rj"
      }
    },
    {
      "cell_type": "code",
      "source": [
        "selected_df = df"
      ],
      "metadata": {
        "id": "4sdXxpmCf8Q4"
      },
      "execution_count": null,
      "outputs": []
    },
    {
      "cell_type": "code",
      "source": [
        "#things to change\n",
        "change_items = ['StartTime', 'Dur', 'Proto', 'SrcAddr', 'DstAddr', 'State', 'TotPkts', 'TotBytes', 'SrcBytes', 'Label']\n",
        "\n",
        "for item in change_items:\n",
        "    value_counts = selected_df[item].value_counts()\n",
        "    rank_mapping = {value: rank for rank, value in enumerate(value_counts.index, 1)}\n",
        "    selected_df[item] = selected_df[item].map(rank_mapping)"
      ],
      "metadata": {
        "id": "SE-h9nBnGzwX"
      },
      "execution_count": null,
      "outputs": []
    },
    {
      "cell_type": "code",
      "source": [
        "selected_df.head(5)"
      ],
      "metadata": {
        "id": "G6kbIMKwrycN",
        "colab": {
          "base_uri": "https://localhost:8080/",
          "height": 206
        },
        "outputId": "b07274d0-91b8-462d-ed96-359a21f2286d"
      },
      "execution_count": null,
      "outputs": [
        {
          "output_type": "execute_result",
          "data": {
            "text/plain": [
              "     StartTime      Dur  Proto  SrcAddr  DstAddr  State  TotPkts  TotBytes  \\\n",
              "101          1   599848      1   172772        2      1        6      1339   \n",
              "102    3603991      692      1    83179        2      1        1         4   \n",
              "105    9610636  1849061      1   134000        2      1       30      2899   \n",
              "107    9610637  1849060      1   274531        2      1        6      1056   \n",
              "109    9610638  1849059      1  1008149        2      1       22      4821   \n",
              "\n",
              "     SrcBytes  Label  \n",
              "101       996      1  \n",
              "102         5      1  \n",
              "105      1434      1  \n",
              "107       636      1  \n",
              "109       521      1  "
            ],
            "text/html": [
              "\n",
              "  <div id=\"df-6621746f-0e85-474a-b9d9-20e02a09d8f5\">\n",
              "    <div class=\"colab-df-container\">\n",
              "      <div>\n",
              "<style scoped>\n",
              "    .dataframe tbody tr th:only-of-type {\n",
              "        vertical-align: middle;\n",
              "    }\n",
              "\n",
              "    .dataframe tbody tr th {\n",
              "        vertical-align: top;\n",
              "    }\n",
              "\n",
              "    .dataframe thead th {\n",
              "        text-align: right;\n",
              "    }\n",
              "</style>\n",
              "<table border=\"1\" class=\"dataframe\">\n",
              "  <thead>\n",
              "    <tr style=\"text-align: right;\">\n",
              "      <th></th>\n",
              "      <th>StartTime</th>\n",
              "      <th>Dur</th>\n",
              "      <th>Proto</th>\n",
              "      <th>SrcAddr</th>\n",
              "      <th>DstAddr</th>\n",
              "      <th>State</th>\n",
              "      <th>TotPkts</th>\n",
              "      <th>TotBytes</th>\n",
              "      <th>SrcBytes</th>\n",
              "      <th>Label</th>\n",
              "    </tr>\n",
              "  </thead>\n",
              "  <tbody>\n",
              "    <tr>\n",
              "      <th>101</th>\n",
              "      <td>1</td>\n",
              "      <td>599848</td>\n",
              "      <td>1</td>\n",
              "      <td>172772</td>\n",
              "      <td>2</td>\n",
              "      <td>1</td>\n",
              "      <td>6</td>\n",
              "      <td>1339</td>\n",
              "      <td>996</td>\n",
              "      <td>1</td>\n",
              "    </tr>\n",
              "    <tr>\n",
              "      <th>102</th>\n",
              "      <td>3603991</td>\n",
              "      <td>692</td>\n",
              "      <td>1</td>\n",
              "      <td>83179</td>\n",
              "      <td>2</td>\n",
              "      <td>1</td>\n",
              "      <td>1</td>\n",
              "      <td>4</td>\n",
              "      <td>5</td>\n",
              "      <td>1</td>\n",
              "    </tr>\n",
              "    <tr>\n",
              "      <th>105</th>\n",
              "      <td>9610636</td>\n",
              "      <td>1849061</td>\n",
              "      <td>1</td>\n",
              "      <td>134000</td>\n",
              "      <td>2</td>\n",
              "      <td>1</td>\n",
              "      <td>30</td>\n",
              "      <td>2899</td>\n",
              "      <td>1434</td>\n",
              "      <td>1</td>\n",
              "    </tr>\n",
              "    <tr>\n",
              "      <th>107</th>\n",
              "      <td>9610637</td>\n",
              "      <td>1849060</td>\n",
              "      <td>1</td>\n",
              "      <td>274531</td>\n",
              "      <td>2</td>\n",
              "      <td>1</td>\n",
              "      <td>6</td>\n",
              "      <td>1056</td>\n",
              "      <td>636</td>\n",
              "      <td>1</td>\n",
              "    </tr>\n",
              "    <tr>\n",
              "      <th>109</th>\n",
              "      <td>9610638</td>\n",
              "      <td>1849059</td>\n",
              "      <td>1</td>\n",
              "      <td>1008149</td>\n",
              "      <td>2</td>\n",
              "      <td>1</td>\n",
              "      <td>22</td>\n",
              "      <td>4821</td>\n",
              "      <td>521</td>\n",
              "      <td>1</td>\n",
              "    </tr>\n",
              "  </tbody>\n",
              "</table>\n",
              "</div>\n",
              "      <button class=\"colab-df-convert\" onclick=\"convertToInteractive('df-6621746f-0e85-474a-b9d9-20e02a09d8f5')\"\n",
              "              title=\"Convert this dataframe to an interactive table.\"\n",
              "              style=\"display:none;\">\n",
              "        \n",
              "  <svg xmlns=\"http://www.w3.org/2000/svg\" height=\"24px\"viewBox=\"0 0 24 24\"\n",
              "       width=\"24px\">\n",
              "    <path d=\"M0 0h24v24H0V0z\" fill=\"none\"/>\n",
              "    <path d=\"M18.56 5.44l.94 2.06.94-2.06 2.06-.94-2.06-.94-.94-2.06-.94 2.06-2.06.94zm-11 1L8.5 8.5l.94-2.06 2.06-.94-2.06-.94L8.5 2.5l-.94 2.06-2.06.94zm10 10l.94 2.06.94-2.06 2.06-.94-2.06-.94-.94-2.06-.94 2.06-2.06.94z\"/><path d=\"M17.41 7.96l-1.37-1.37c-.4-.4-.92-.59-1.43-.59-.52 0-1.04.2-1.43.59L10.3 9.45l-7.72 7.72c-.78.78-.78 2.05 0 2.83L4 21.41c.39.39.9.59 1.41.59.51 0 1.02-.2 1.41-.59l7.78-7.78 2.81-2.81c.8-.78.8-2.07 0-2.86zM5.41 20L4 18.59l7.72-7.72 1.47 1.35L5.41 20z\"/>\n",
              "  </svg>\n",
              "      </button>\n",
              "      \n",
              "  <style>\n",
              "    .colab-df-container {\n",
              "      display:flex;\n",
              "      flex-wrap:wrap;\n",
              "      gap: 12px;\n",
              "    }\n",
              "\n",
              "    .colab-df-convert {\n",
              "      background-color: #E8F0FE;\n",
              "      border: none;\n",
              "      border-radius: 50%;\n",
              "      cursor: pointer;\n",
              "      display: none;\n",
              "      fill: #1967D2;\n",
              "      height: 32px;\n",
              "      padding: 0 0 0 0;\n",
              "      width: 32px;\n",
              "    }\n",
              "\n",
              "    .colab-df-convert:hover {\n",
              "      background-color: #E2EBFA;\n",
              "      box-shadow: 0px 1px 2px rgba(60, 64, 67, 0.3), 0px 1px 3px 1px rgba(60, 64, 67, 0.15);\n",
              "      fill: #174EA6;\n",
              "    }\n",
              "\n",
              "    [theme=dark] .colab-df-convert {\n",
              "      background-color: #3B4455;\n",
              "      fill: #D2E3FC;\n",
              "    }\n",
              "\n",
              "    [theme=dark] .colab-df-convert:hover {\n",
              "      background-color: #434B5C;\n",
              "      box-shadow: 0px 1px 3px 1px rgba(0, 0, 0, 0.15);\n",
              "      filter: drop-shadow(0px 1px 2px rgba(0, 0, 0, 0.3));\n",
              "      fill: #FFFFFF;\n",
              "    }\n",
              "  </style>\n",
              "\n",
              "      <script>\n",
              "        const buttonEl =\n",
              "          document.querySelector('#df-6621746f-0e85-474a-b9d9-20e02a09d8f5 button.colab-df-convert');\n",
              "        buttonEl.style.display =\n",
              "          google.colab.kernel.accessAllowed ? 'block' : 'none';\n",
              "\n",
              "        async function convertToInteractive(key) {\n",
              "          const element = document.querySelector('#df-6621746f-0e85-474a-b9d9-20e02a09d8f5');\n",
              "          const dataTable =\n",
              "            await google.colab.kernel.invokeFunction('convertToInteractive',\n",
              "                                                     [key], {});\n",
              "          if (!dataTable) return;\n",
              "\n",
              "          const docLinkHtml = 'Like what you see? Visit the ' +\n",
              "            '<a target=\"_blank\" href=https://colab.research.google.com/notebooks/data_table.ipynb>data table notebook</a>'\n",
              "            + ' to learn more about interactive tables.';\n",
              "          element.innerHTML = '';\n",
              "          dataTable['output_type'] = 'display_data';\n",
              "          await google.colab.output.renderOutput(dataTable, element);\n",
              "          const docLink = document.createElement('div');\n",
              "          docLink.innerHTML = docLinkHtml;\n",
              "          element.appendChild(docLink);\n",
              "        }\n",
              "      </script>\n",
              "    </div>\n",
              "  </div>\n",
              "  "
            ]
          },
          "metadata": {},
          "execution_count": 9
        }
      ]
    },
    {
      "cell_type": "code",
      "source": [
        "selected_df.shape"
      ],
      "metadata": {
        "id": "oM-gaLhKEVQq",
        "colab": {
          "base_uri": "https://localhost:8080/"
        },
        "outputId": "e0ba6a1f-2585-45e4-edbf-cf1e5bd39597"
      },
      "execution_count": null,
      "outputs": [
        {
          "output_type": "execute_result",
          "data": {
            "text/plain": [
              "(19976700, 15)"
            ]
          },
          "metadata": {},
          "execution_count": 7
        }
      ]
    },
    {
      "cell_type": "code",
      "source": [
        "#Use this section of code to save new datset after feature selection and pre-processing into a new csv file for efficiency\n",
        "#selected_df.to_csv('final_merged_files_all15.csv', index=False)\n",
        "!cp final_merged_files_all15.csv \"drive/My Drive/sjsu nsf reu\""
      ],
      "metadata": {
        "id": "gJxtEbaCyicd"
      },
      "execution_count": null,
      "outputs": []
    },
    {
      "cell_type": "markdown",
      "source": [
        "# Train test Splitting"
      ],
      "metadata": {
        "id": "96hcpMNhrfy1"
      }
    },
    {
      "cell_type": "code",
      "source": [
        "#Use this section to access a new dataset that needs to be used for the splitting and model\n",
        "import pandas as pd\n",
        "selected_df = pd.read_csv('/content/drive/MyDrive/sjsu nsf reu/edited_merged_files.csv')\n",
        "selected_df.shape"
      ],
      "metadata": {
        "id": "MaIhEnN710jQ",
        "colab": {
          "base_uri": "https://localhost:8080/"
        },
        "outputId": "3cca968b-edd5-43f4-b429-2b5bf5acec50"
      },
      "execution_count": null,
      "outputs": [
        {
          "output_type": "execute_result",
          "data": {
            "text/plain": [
              "(14415958, 10)"
            ]
          },
          "metadata": {},
          "execution_count": 1
        }
      ]
    },
    {
      "cell_type": "code",
      "source": [
        "from sklearn.model_selection import train_test_split"
      ],
      "metadata": {
        "id": "WOhc3Rzqtb_-"
      },
      "execution_count": null,
      "outputs": []
    },
    {
      "cell_type": "code",
      "source": [
        "X = selected_df.loc[:, ['StartTime', 'Dur', 'Proto', 'SrcAddr', 'DstAddr', 'State', 'TotPkts', 'TotBytes', 'SrcBytes', 'Label']]\n",
        "y = selected_df.loc[:, 'Label']\n",
        "\n",
        "X_train, X_test, y_train, y_test = train_test_split(X, y, test_size = 0.2, random_state = 420)"
      ],
      "metadata": {
        "id": "_XY2A31kt8rw"
      },
      "execution_count": null,
      "outputs": []
    },
    {
      "cell_type": "code",
      "source": [
        "X_train.shape"
      ],
      "metadata": {
        "id": "ure2T33_uICC",
        "colab": {
          "base_uri": "https://localhost:8080/"
        },
        "outputId": "4e7f7d12-76a9-4f96-e170-dc474f50f24a"
      },
      "execution_count": null,
      "outputs": [
        {
          "output_type": "execute_result",
          "data": {
            "text/plain": [
              "(11532766, 10)"
            ]
          },
          "metadata": {},
          "execution_count": 5
        }
      ]
    },
    {
      "cell_type": "code",
      "source": [
        "y_train.shape"
      ],
      "metadata": {
        "id": "wToHgjQJU5ft",
        "colab": {
          "base_uri": "https://localhost:8080/"
        },
        "outputId": "fcd18370-4144-4069-f838-3adc3cb1efbe"
      },
      "execution_count": null,
      "outputs": [
        {
          "output_type": "execute_result",
          "data": {
            "text/plain": [
              "(11532766,)"
            ]
          },
          "metadata": {},
          "execution_count": 6
        }
      ]
    },
    {
      "cell_type": "code",
      "source": [
        "#9\n",
        "background_count = 0\n",
        "normal_count = 0\n",
        "botnet_count = 0\n",
        "\n",
        "for x in X_train['Label']:\n",
        "    if '1' in str(x): #Background\n",
        "        background_count += 1\n",
        "    if '2' in str(x): #Normal\n",
        "        normal_count += 1\n",
        "    if '3' in str(x): #Botnet\n",
        "        botnet_count += 1\n",
        "\n",
        "print(str(float(background_count/11532766)))\n",
        "print(str(float(normal_count/11532766)))\n",
        "print(str(float(botnet_count/11532766)))\n",
        "\n",
        "botnet_ratio_b = (float(botnet_count/background_count))\n",
        "botnet_ratio_n = (float(botnet_count/normal_count))\n"
      ],
      "metadata": {
        "id": "ZWx8TZCJPIdA",
        "colab": {
          "base_uri": "https://localhost:8080/"
        },
        "outputId": "8fa3e4a4-a3e9-4049-f037-de3726b77414"
      },
      "execution_count": null,
      "outputs": [
        {
          "output_type": "stream",
          "name": "stdout",
          "text": [
            "0.9741123681864351\n",
            "0.015892804900402905\n",
            "0.009994826913162029\n"
          ]
        }
      ]
    },
    {
      "cell_type": "code",
      "source": [
        "print(background_count)\n",
        "print(normal_count)\n",
        "print(botnet_count)"
      ],
      "metadata": {
        "id": "j1hFiEFhPO6x",
        "colab": {
          "base_uri": "https://localhost:8080/"
        },
        "outputId": "c73fcb81-60e6-41ad-f933-a0894cc0c752"
      },
      "execution_count": null,
      "outputs": [
        {
          "output_type": "stream",
          "name": "stdout",
          "text": [
            "11234210\n",
            "183288\n",
            "115268\n"
          ]
        }
      ]
    },
    {
      "cell_type": "code",
      "source": [
        "#14\n",
        "filtered_df_1 = X_train.copy()\n",
        "\n",
        "# Create a boolean mask to identify rows with \"background\" in the 'Label' column\n",
        "mask_b = filtered_df_1['Label'].astype(str).str.contains('1')\n",
        "\n",
        "# Identify the indices of the rows to drop\n",
        "indices_to_drop_b = filtered_df_1.index[mask_b].tolist()[:(background_count-botnet_count)]\n",
        "filtered_y = y_train.copy()\n",
        "\n",
        "# Drop the specified rows from the DataFrame\n",
        "filtered_df_1 = filtered_df_1.drop(indices_to_drop_b)\n",
        "filtered_y = filtered_y.drop(indices_to_drop_b)\n",
        "\n",
        "# Reset the index of the filtered DataFrame\n",
        "filtered_df_1 = filtered_df_1.reset_index(drop=True)\n",
        "filtered_y = filtered_y.reset_index(drop=True)"
      ],
      "metadata": {
        "id": "atNR6bHgPVyF"
      },
      "execution_count": null,
      "outputs": []
    },
    {
      "cell_type": "code",
      "source": [
        "filtered_y.shape"
      ],
      "metadata": {
        "id": "g9incOkNfdlj",
        "colab": {
          "base_uri": "https://localhost:8080/"
        },
        "outputId": "d0bf53c2-63e4-46d5-c6ee-f7b928ea0a1e"
      },
      "execution_count": null,
      "outputs": [
        {
          "output_type": "execute_result",
          "data": {
            "text/plain": [
              "(413824,)"
            ]
          },
          "metadata": {},
          "execution_count": 10
        }
      ]
    },
    {
      "cell_type": "code",
      "source": [
        "filtered_df_1.shape"
      ],
      "metadata": {
        "id": "jap3VnyJZisZ",
        "colab": {
          "base_uri": "https://localhost:8080/"
        },
        "outputId": "6cade098-f845-41a7-e90d-a915e358b648"
      },
      "execution_count": null,
      "outputs": [
        {
          "output_type": "execute_result",
          "data": {
            "text/plain": [
              "(413824, 10)"
            ]
          },
          "metadata": {},
          "execution_count": 11
        }
      ]
    },
    {
      "cell_type": "code",
      "source": [
        "#filtered_y.shape"
      ],
      "metadata": {
        "id": "Ch7wfMOdaVhw"
      },
      "execution_count": null,
      "outputs": []
    },
    {
      "cell_type": "code",
      "source": [
        "#15\n",
        "background_count = 0\n",
        "normal_count = 0\n",
        "botnet_count = 0\n",
        "\n",
        "for x in filtered_df_1['Label']:\n",
        "    if '1' in str(x): #Background\n",
        "        background_count += 1\n",
        "    if '2' in str(x): #Normal\n",
        "        normal_count += 1\n",
        "    if '3' in str(x): #Botnet\n",
        "        botnet_count += 1\n",
        "\n",
        "print(str(float(background_count/413824)))\n",
        "print(str(float(normal_count/413824)))\n",
        "print(str(float(botnet_count/413824)))\n",
        "\n",
        "botnet_ratio_b = (float(botnet_count/background_count))\n",
        "botnet_ratio_n = (float(botnet_count/normal_count))"
      ],
      "metadata": {
        "id": "C1oHCUerPgo-",
        "colab": {
          "base_uri": "https://localhost:8080/"
        },
        "outputId": "67055b67-e303-4551-b4ca-4532a1b89112"
      },
      "execution_count": null,
      "outputs": [
        {
          "output_type": "stream",
          "name": "stdout",
          "text": [
            "0.2785435354160223\n",
            "0.44291292916795544\n",
            "0.2785435354160223\n"
          ]
        }
      ]
    },
    {
      "cell_type": "code",
      "source": [
        "#16\n",
        "background_count"
      ],
      "metadata": {
        "id": "rdAIjRwhUge8",
        "colab": {
          "base_uri": "https://localhost:8080/"
        },
        "outputId": "382ef678-c69d-4b1c-a7a5-4bdf3aed0161"
      },
      "execution_count": null,
      "outputs": [
        {
          "output_type": "execute_result",
          "data": {
            "text/plain": [
              "115268"
            ]
          },
          "metadata": {},
          "execution_count": 13
        }
      ]
    },
    {
      "cell_type": "code",
      "source": [
        "#17\n",
        "filtered_df = filtered_df_1.copy()\n",
        "\n",
        "# Create a boolean mask to identify rows with \"normal\" in the 'Label' column\n",
        "mask_n = filtered_df['Label'].astype(str).str.contains('2')\n",
        "\n",
        "# Identify the indices of the rows to drop\n",
        "indices_to_drop_n = filtered_df.index[mask_n].tolist()[:(normal_count-botnet_count)]\n",
        "filtered_y_2 = filtered_y.copy()\n",
        "\n",
        "# Drop the specified rows from the DataFrame\n",
        "filtered_df = filtered_df.drop(indices_to_drop_n)\n",
        "filtered_y_2 = filtered_y_2.drop(indices_to_drop_n)\n",
        "\n",
        "# Reset the index of the filtered DataFrame\n",
        "filtered_df = filtered_df.reset_index(drop=True)\n",
        "filtered_y_2 = filtered_y_2.reset_index(drop=True)"
      ],
      "metadata": {
        "id": "N8h5xqu0UOL5"
      },
      "execution_count": null,
      "outputs": []
    },
    {
      "cell_type": "code",
      "source": [
        "#18\n",
        "filtered_df.shape"
      ],
      "metadata": {
        "id": "bnaniAB4UadA",
        "colab": {
          "base_uri": "https://localhost:8080/"
        },
        "outputId": "fa357abd-056c-446e-9a4d-ed82ccad25cd"
      },
      "execution_count": null,
      "outputs": [
        {
          "output_type": "execute_result",
          "data": {
            "text/plain": [
              "(345804, 10)"
            ]
          },
          "metadata": {},
          "execution_count": 12
        }
      ]
    },
    {
      "cell_type": "code",
      "source": [
        "filtered_y_2.shape"
      ],
      "metadata": {
        "id": "F-x21smmhhbU",
        "colab": {
          "base_uri": "https://localhost:8080/"
        },
        "outputId": "df722fba-03dd-451c-dfc4-30c9e09d71ea"
      },
      "execution_count": null,
      "outputs": [
        {
          "output_type": "execute_result",
          "data": {
            "text/plain": [
              "(345804,)"
            ]
          },
          "metadata": {},
          "execution_count": 13
        }
      ]
    },
    {
      "cell_type": "code",
      "source": [
        "#19\n",
        "background_count = 0\n",
        "normal_count = 0\n",
        "botnet_count = 0\n",
        "\n",
        "for x in filtered_df['Label']:\n",
        "    if '1' in str(x):\n",
        "        background_count += 1\n",
        "    if '2' in str(x):\n",
        "        normal_count += 1\n",
        "    if '3' in str(x):\n",
        "        botnet_count += 1\n",
        "\n",
        "print(str(float(background_count/345804)))\n",
        "print(str(float(normal_count/345804)))\n",
        "print(str(float(botnet_count/345804)))"
      ],
      "metadata": {
        "id": "hHD6QNGtUmqC",
        "colab": {
          "base_uri": "https://localhost:8080/"
        },
        "outputId": "7e96c3c1-c852-42c0-e653-def164c5c22b"
      },
      "execution_count": null,
      "outputs": [
        {
          "output_type": "stream",
          "name": "stdout",
          "text": [
            "0.3333333333333333\n",
            "0.3333333333333333\n",
            "0.3333333333333333\n"
          ]
        }
      ]
    },
    {
      "cell_type": "code",
      "source": [
        "X_train = filtered_df"
      ],
      "metadata": {
        "id": "-5YOOivYWZzK"
      },
      "execution_count": null,
      "outputs": []
    },
    {
      "cell_type": "code",
      "source": [
        "#rows_to_drop = y_train.sample(n=11186962).index\n",
        "#y_train = y_train.drop(rows_to_drop)"
      ],
      "metadata": {
        "id": "9sspjhsMY4en"
      },
      "execution_count": null,
      "outputs": []
    },
    {
      "cell_type": "code",
      "source": [
        "y_train = filtered_y_2"
      ],
      "metadata": {
        "id": "twGZNCxAhlaN"
      },
      "execution_count": null,
      "outputs": []
    },
    {
      "cell_type": "code",
      "source": [
        "X_train.shape"
      ],
      "metadata": {
        "id": "_zT7EYQTWyV8",
        "colab": {
          "base_uri": "https://localhost:8080/"
        },
        "outputId": "c4bab905-9859-4568-8712-5e680fee9d05"
      },
      "execution_count": null,
      "outputs": [
        {
          "output_type": "execute_result",
          "data": {
            "text/plain": [
              "(345804, 10)"
            ]
          },
          "metadata": {},
          "execution_count": 16
        }
      ]
    },
    {
      "cell_type": "code",
      "source": [
        "y_train.shape"
      ],
      "metadata": {
        "id": "pnOE7as7Y8w-",
        "colab": {
          "base_uri": "https://localhost:8080/"
        },
        "outputId": "ff184e3f-a7e7-442d-c521-01af439d64d5"
      },
      "execution_count": null,
      "outputs": [
        {
          "output_type": "execute_result",
          "data": {
            "text/plain": [
              "(345804,)"
            ]
          },
          "metadata": {},
          "execution_count": 17
        }
      ]
    },
    {
      "cell_type": "code",
      "source": [
        "X_train = X_train.drop(columns=['Label'])\n",
        "X_test = X_test.drop(columns=['Label'])"
      ],
      "metadata": {
        "id": "gwOFogZeiRjg"
      },
      "execution_count": null,
      "outputs": []
    },
    {
      "cell_type": "code",
      "source": [
        "X_train.shape"
      ],
      "metadata": {
        "colab": {
          "base_uri": "https://localhost:8080/"
        },
        "id": "lqBwT4zZie7l",
        "outputId": "35b8a59a-64dc-4d07-84a4-4f3ff7ccf628"
      },
      "execution_count": null,
      "outputs": [
        {
          "output_type": "execute_result",
          "data": {
            "text/plain": [
              "(345804, 9)"
            ]
          },
          "metadata": {},
          "execution_count": 19
        }
      ]
    },
    {
      "cell_type": "code",
      "source": [
        "X_test.shape"
      ],
      "metadata": {
        "id": "8Q7YQsiiuM3q",
        "colab": {
          "base_uri": "https://localhost:8080/"
        },
        "outputId": "6582a3e6-cd1a-494f-d735-090568cbc002"
      },
      "execution_count": null,
      "outputs": [
        {
          "output_type": "execute_result",
          "data": {
            "text/plain": [
              "(2883192, 9)"
            ]
          },
          "metadata": {},
          "execution_count": 20
        }
      ]
    },
    {
      "cell_type": "code",
      "source": [
        "y_train.value_counts()"
      ],
      "metadata": {
        "id": "OC-80yAUuP8P",
        "colab": {
          "base_uri": "https://localhost:8080/"
        },
        "outputId": "f28b241b-1912-472c-c558-ae2e36f2acff"
      },
      "execution_count": null,
      "outputs": [
        {
          "output_type": "execute_result",
          "data": {
            "text/plain": [
              "3    115268\n",
              "2    115268\n",
              "1    115268\n",
              "Name: Label, dtype: int64"
            ]
          },
          "metadata": {},
          "execution_count": 21
        }
      ]
    },
    {
      "cell_type": "code",
      "source": [
        "y_test.value_counts()"
      ],
      "metadata": {
        "id": "oXqu30iGQvBH",
        "colab": {
          "base_uri": "https://localhost:8080/"
        },
        "outputId": "e3b39a8d-5844-47b3-ff83-6eb24d7f9f8c"
      },
      "execution_count": null,
      "outputs": [
        {
          "output_type": "execute_result",
          "data": {
            "text/plain": [
              "1    2808812\n",
              "2      45688\n",
              "3      28692\n",
              "Name: Label, dtype: int64"
            ]
          },
          "metadata": {},
          "execution_count": 22
        }
      ]
    },
    {
      "cell_type": "markdown",
      "source": [
        "# Filtering"
      ],
      "metadata": {
        "id": "ka6Xeo3lR3b6"
      }
    },
    {
      "cell_type": "code",
      "source": [
        "#9\n",
        "background_count = 0\n",
        "normal_count = 0\n",
        "botnet_count = 0\n",
        "\n",
        "for x in X_train['Label']:\n",
        "    if '1' in str(x): #Background\n",
        "        background_count += 1\n",
        "    if '2' in str(x): #Normal\n",
        "        normal_count += 1\n",
        "    if '3' in str(x): #Botnet\n",
        "        botnet_count += 1\n",
        "\n",
        "print(str(float(background_count/14415958)))\n",
        "print(str(float(normal_count/14415958)))\n",
        "print(str(float(botnet_count/14415958)))\n",
        "\n",
        "botnet_ratio_b = (float(botnet_count/background_count))\n",
        "botnet_ratio_n = (float(botnet_count/normal_count))\n"
      ],
      "metadata": {
        "id": "M06YUP70i25k"
      },
      "execution_count": null,
      "outputs": []
    },
    {
      "cell_type": "code",
      "source": [
        "#10\n",
        "background_count"
      ],
      "metadata": {
        "id": "COQ267o-DZ4S"
      },
      "execution_count": null,
      "outputs": []
    },
    {
      "cell_type": "code",
      "source": [
        "#11\n",
        "normal_count"
      ],
      "metadata": {
        "id": "FgyaqcVsH8zD"
      },
      "execution_count": null,
      "outputs": []
    },
    {
      "cell_type": "code",
      "source": [
        "#12\n",
        "botnet_count"
      ],
      "metadata": {
        "id": "kIHWsVZfDpiq"
      },
      "execution_count": null,
      "outputs": []
    },
    {
      "cell_type": "markdown",
      "source": [
        "trying to get all count values to equal the botnet count"
      ],
      "metadata": {
        "id": "Zx3WWLbqMssE"
      }
    },
    {
      "cell_type": "code",
      "source": [
        "#14\n",
        "filtered_df_1 = selected_df.copy()\n",
        "\n",
        "# Create a boolean mask to identify rows with \"background\" in the 'Label' column\n",
        "mask_b = filtered_df_1['Label'].str.contains('Background')\n",
        "\n",
        "# Identify the indices of the rows to drop\n",
        "indices_to_drop_b = filtered_df_1.index[mask_b].tolist()[:(background_count-botnet_count)]\n",
        "\n",
        "# Drop the specified rows from the DataFrame\n",
        "filtered_df_1 = filtered_df_1.drop(indices_to_drop_b)\n",
        "\n",
        "# Reset the index of the filtered DataFrame\n",
        "filtered_df_1 = filtered_df_1.reset_index(drop=True)"
      ],
      "metadata": {
        "id": "IHRPWVnwPhAW"
      },
      "execution_count": null,
      "outputs": []
    },
    {
      "cell_type": "code",
      "source": [
        "#15\n",
        "background_count = 0\n",
        "normal_count = 0\n",
        "botnet_count = 0\n",
        "\n",
        "for x in filtered_df_1['Label']:\n",
        "    if 'Background' in str(x):\n",
        "        background_count += 1\n",
        "    if 'Normal' in str(x):\n",
        "        normal_count += 1\n",
        "    if 'Botnet' in str(x):\n",
        "        botnet_count += 1\n",
        "\n",
        "print(str(float(background_count/14415958)))\n",
        "print(str(float(normal_count/14415958)))\n",
        "print(str(float(botnet_count/14415958)))\n",
        "\n",
        "botnet_ratio_b = (float(botnet_count/background_count))\n",
        "botnet_ratio_n = (float(botnet_count/normal_count))\n"
      ],
      "metadata": {
        "id": "gSPGXJHCMCyx"
      },
      "execution_count": null,
      "outputs": []
    },
    {
      "cell_type": "code",
      "source": [
        "#16\n",
        "background_count"
      ],
      "metadata": {
        "id": "z6i7WMcRMbo2"
      },
      "execution_count": null,
      "outputs": []
    },
    {
      "cell_type": "code",
      "source": [
        "#17\n",
        "filtered_df = filtered_df_1.copy()\n",
        "\n",
        "# Create a boolean mask to identify rows with \"background\" in the 'Label' column\n",
        "mask_n = filtered_df['Label'].str.contains('Normal')\n",
        "\n",
        "# Identify the indices of the rows to drop\n",
        "indices_to_drop_n = filtered_df.index[mask_n].tolist()[:(normal_count-botnet_count)]\n",
        "\n",
        "# Drop the specified rows from the DataFrame\n",
        "filtered_df = filtered_df.drop(indices_to_drop_n)\n",
        "\n",
        "# Reset the index of the filtered DataFrame\n",
        "filtered_df = filtered_df.reset_index(drop=True)"
      ],
      "metadata": {
        "id": "ogJUGseKFlAW"
      },
      "execution_count": null,
      "outputs": []
    },
    {
      "cell_type": "code",
      "source": [
        "#18\n",
        "filtered_df.shape"
      ],
      "metadata": {
        "id": "CuAGGFU2KTNx"
      },
      "execution_count": null,
      "outputs": []
    },
    {
      "cell_type": "code",
      "source": [
        "#19\n",
        "background_count = 0\n",
        "normal_count = 0\n",
        "botnet_count = 0\n",
        "\n",
        "for x in filtered_df['Label']:\n",
        "    if 'Background' in str(x):\n",
        "        background_count += 1\n",
        "    if 'Normal' in str(x):\n",
        "        normal_count += 1\n",
        "    if 'Botnet' in str(x):\n",
        "        botnet_count += 1\n",
        "\n",
        "print(str(float(background_count/10412239)))\n",
        "print(str(float(normal_count/10412239)))\n",
        "print(str(float(botnet_count/10412239)))"
      ],
      "metadata": {
        "id": "sp5hfX_YwakI"
      },
      "execution_count": null,
      "outputs": []
    },
    {
      "cell_type": "code",
      "source": [
        "#20\n",
        "background_count"
      ],
      "metadata": {
        "id": "GD8idUSHGkXj"
      },
      "execution_count": null,
      "outputs": []
    },
    {
      "cell_type": "code",
      "source": [
        "#21\n",
        "botnet_count"
      ],
      "metadata": {
        "id": "TUnxprNqGo3W"
      },
      "execution_count": null,
      "outputs": []
    },
    {
      "cell_type": "code",
      "source": [
        "#22\n",
        "normal_count"
      ],
      "metadata": {
        "id": "3-LmLFfIHvSJ"
      },
      "execution_count": null,
      "outputs": []
    },
    {
      "cell_type": "code",
      "source": [
        "#Background\n",
        "filtered_df.loc[filtered_df['Label'].str.contains(\"Background\"), 'Label'] = \"Background\"\n",
        "\n",
        "#Normal\n",
        "filtered_df.loc[filtered_df['Label'].str.contains(\"Normal\"), 'Label'] = \"Normal\"\n",
        "\n",
        "#Botnet\n",
        "filtered_df.loc[filtered_df['Label'].str.contains(\"Botnet\"), 'Label'] = \"Botnet\""
      ],
      "metadata": {
        "id": "wBbd9QSdq3nP"
      },
      "execution_count": null,
      "outputs": []
    },
    {
      "cell_type": "code",
      "source": [
        "filtered_df['Label'].unique()"
      ],
      "metadata": {
        "id": "bgL_melvrEK4"
      },
      "execution_count": null,
      "outputs": []
    },
    {
      "cell_type": "code",
      "source": [
        "#things to change\n",
        "change_items = ['StartTime', 'Dur', 'Proto', 'SrcAddr', 'DstAddr', 'State', 'TotPkts', 'TotBytes', 'SrcBytes', 'Label']\n",
        "\n",
        "for item in change_items:\n",
        "    value_counts = filtered_df[item].value_counts()\n",
        "    rank_mapping = {value: rank for rank, value in enumerate(value_counts.index, 1)}\n",
        "    filtered_df[item] = filtered_df[item].map(rank_mapping)"
      ],
      "metadata": {
        "id": "MSe3tgVtrKVP"
      },
      "execution_count": null,
      "outputs": []
    },
    {
      "cell_type": "code",
      "source": [
        "filtered_df.head(5)"
      ],
      "metadata": {
        "id": "REth7HRgrQjq"
      },
      "execution_count": null,
      "outputs": []
    },
    {
      "cell_type": "code",
      "source": [
        "filtered_df.isnull().sum()"
      ],
      "metadata": {
        "id": "exvp_wfZsVOy"
      },
      "execution_count": null,
      "outputs": []
    },
    {
      "cell_type": "code",
      "source": [
        "y_test.value_counts()"
      ],
      "metadata": {
        "id": "WStsNIhuxI90"
      },
      "execution_count": null,
      "outputs": []
    },
    {
      "cell_type": "markdown",
      "source": [
        "# Random Forest Modeling"
      ],
      "metadata": {
        "id": "JywUOxB9uXTL"
      }
    },
    {
      "cell_type": "code",
      "source": [
        "from sklearn.ensemble import RandomForestClassifier\n",
        "from sklearn.metrics import accuracy_score\n",
        "from sklearn.metrics import precision_score, recall_score, f1_score\n",
        "from sklearn.metrics import confusion_matrix\n",
        "from sklearn.metrics import f1_score"
      ],
      "metadata": {
        "id": "n0bqgXv1Azsg"
      },
      "execution_count": null,
      "outputs": []
    },
    {
      "cell_type": "code",
      "source": [
        "clf = RandomForestClassifier(max_depth = 1)"
      ],
      "metadata": {
        "id": "2U5m41OBuWv6"
      },
      "execution_count": null,
      "outputs": []
    },
    {
      "cell_type": "code",
      "source": [
        "train_score = clf.fit(X_train, y_train).score(X_train, y_train)\n",
        "train_score"
      ],
      "metadata": {
        "id": "U9Dj58hojBGu",
        "colab": {
          "base_uri": "https://localhost:8080/"
        },
        "outputId": "240654c4-41c2-407c-f1a5-783610b503fc"
      },
      "execution_count": null,
      "outputs": [
        {
          "output_type": "execute_result",
          "data": {
            "text/plain": [
              "0.6961429017593781"
            ]
          },
          "metadata": {},
          "execution_count": 25
        }
      ]
    },
    {
      "cell_type": "code",
      "source": [
        "pred_test_y = clf.predict(X_test)\n",
        "pred_train_y = clf.predict(X_train)\n",
        "print(pred_test_y)"
      ],
      "metadata": {
        "id": "5J4UDSSoubVO",
        "colab": {
          "base_uri": "https://localhost:8080/"
        },
        "outputId": "ba6dc6b3-99c2-4d85-d341-5d0aaa793320"
      },
      "execution_count": null,
      "outputs": [
        {
          "output_type": "stream",
          "name": "stdout",
          "text": [
            "[1 3 1 ... 1 1 1]\n"
          ]
        }
      ]
    },
    {
      "cell_type": "code",
      "source": [
        "confusion_matrix(y_test, pred_test_y)"
      ],
      "metadata": {
        "id": "cjnnmqMUueVR",
        "colab": {
          "base_uri": "https://localhost:8080/"
        },
        "outputId": "a4c5d04a-8295-496a-f7dd-c8bbb43ff99f"
      },
      "execution_count": null,
      "outputs": [
        {
          "output_type": "execute_result",
          "data": {
            "text/plain": [
              "array([[1748895,  490837,  569080],\n",
              "       [   1792,   38286,    5610],\n",
              "       [   1222,    9731,   17739]])"
            ]
          },
          "metadata": {},
          "execution_count": 27
        }
      ]
    },
    {
      "cell_type": "code",
      "source": [
        "from sklearn import metrics\n",
        "import warnings\n",
        "warnings.filterwarnings('ignore')"
      ],
      "metadata": {
        "id": "AZnwMnYY6_EA"
      },
      "execution_count": null,
      "outputs": []
    },
    {
      "cell_type": "code",
      "source": [
        "aa, ao, an, oa, oo, on, na, no, nn = confusion_matrix(y_test, pred_test_y).ravel()\n",
        "print(f\"Test Accuracy is {(aa + oo + nn)/(aa + ao + an + oa + oo + on + na + no + nn)}\")\n",
        "#print(f\"precision for botnet is {oo / (oa + oo + on)}\")\n",
        "#print(f\"recall for botnet is {oo / (ao + oo + no)}\")\n",
        "print(f\"Test Precision is {precision_score(y_test, pred_test_y, pos_label='positive', average='micro')}\")\n",
        "print(f\"Test Recall is {recall_score(y_test, pred_test_y, pos_label='positive', average='micro')}\")\n",
        "print()\n",
        "print(f\"Train Accuracy is {train_score}\")\n",
        "print(f\"F1 score is {f1_score(y_test, pred_test_y, average='macro')}\")\n"
      ],
      "metadata": {
        "id": "YfcVISJn2M1p",
        "colab": {
          "base_uri": "https://localhost:8080/"
        },
        "outputId": "ddce46b2-0efd-4c9a-979b-c3d7852263f2"
      },
      "execution_count": null,
      "outputs": [
        {
          "output_type": "stream",
          "name": "stdout",
          "text": [
            "Test Accuracy is 0.6260145005951737\n",
            "Test Precision is 0.6260145005951737\n",
            "Test Recall is 0.6260145005951737\n",
            "\n",
            "Train Accuracy is 0.6961429017593781\n",
            "F1 score is 0.31835070549478567\n"
          ]
        }
      ]
    },
    {
      "cell_type": "markdown",
      "source": [
        "try with different combos/number of features and track accuracy and plot on spreadsheet or print graph through python"
      ],
      "metadata": {
        "id": "KqQk15pQl5Lv"
      }
    }
  ]
}