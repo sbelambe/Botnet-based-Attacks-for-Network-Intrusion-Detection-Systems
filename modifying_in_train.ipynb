{
  "nbformat": 4,
  "nbformat_minor": 0,
  "metadata": {
    "colab": {
      "provenance": []
    },
    "kernelspec": {
      "name": "python3",
      "display_name": "Python 3"
    },
    "language_info": {
      "name": "python"
    }
  },
  "cells": [
    {
      "cell_type": "code",
      "source": [
        "from google.colab import drive\n",
        "drive.mount('/content/drive')"
      ],
      "metadata": {
        "colab": {
          "base_uri": "https://localhost:8080/"
        },
        "id": "tYrue4N9GU-H",
        "outputId": "ca43f3c9-0350-496a-816e-fac69736f027"
      },
      "execution_count": null,
      "outputs": [
        {
          "output_type": "stream",
          "name": "stdout",
          "text": [
            "Mounted at /content/drive\n"
          ]
        }
      ]
    },
    {
      "cell_type": "code",
      "source": [
        "import pandas as pd\n",
        "import numpy as np\n",
        "import warnings\n",
        "warnings.filterwarnings('ignore')"
      ],
      "metadata": {
        "id": "8kRQ45izAsgf"
      },
      "execution_count": null,
      "outputs": []
    },
    {
      "cell_type": "code",
      "source": [
        "df = pd.read_csv(\"/content/drive/MyDrive/sjsu nsf reu/merged_files.csv\")\n",
        "df.shape"
      ],
      "metadata": {
        "id": "900jq9Qg0Xvj",
        "colab": {
          "base_uri": "https://localhost:8080/"
        },
        "outputId": "04d0b39a-41b1-4e3b-a182-6b5fefaad0fe"
      },
      "execution_count": null,
      "outputs": [
        {
          "output_type": "execute_result",
          "data": {
            "text/plain": [
              "(19976700, 15)"
            ]
          },
          "metadata": {},
          "execution_count": 3
        }
      ]
    },
    {
      "cell_type": "markdown",
      "source": [
        "# Feature Engineering"
      ],
      "metadata": {
        "id": "O1GXzIX7Geu9"
      }
    },
    {
      "cell_type": "code",
      "source": [
        "df = df.drop(columns=['Sport', 'Dir', 'Dport', 'sTos', 'dTos'])\n",
        "df.shape"
      ],
      "metadata": {
        "colab": {
          "base_uri": "https://localhost:8080/"
        },
        "id": "v7O3eswZECJP",
        "outputId": "f55478a5-a2ae-4a48-9804-0cb92ee5a1d1"
      },
      "execution_count": null,
      "outputs": [
        {
          "output_type": "execute_result",
          "data": {
            "text/plain": [
              "(19976700, 10)"
            ]
          },
          "metadata": {},
          "execution_count": 4
        }
      ]
    },
    {
      "cell_type": "code",
      "source": [
        "#the rows without Proto as UDP, TCP, HTTP, or ICMP will be filtered out,\n",
        "#and, of the remaining rows, only those with connection state CON, URP, or FSPA FPSA\n",
        "\n",
        "df = df[(df.Proto == 'udp') | (df.Proto == 'tcp') | (df.Proto == 'http') | (df.Proto == 'icmp')]\n",
        "df = df[(df.State == 'CON') | (df.State == 'URP') | (df.State == 'FSPA FPSA')]\n"
      ],
      "metadata": {
        "id": "yq92g11gFUW5"
      },
      "execution_count": null,
      "outputs": []
    },
    {
      "cell_type": "code",
      "source": [
        "df.shape"
      ],
      "metadata": {
        "colab": {
          "base_uri": "https://localhost:8080/"
        },
        "id": "blW1fKq5cLTf",
        "outputId": "bffd4d49-2109-4228-8a18-7f7877e0dc93"
      },
      "execution_count": null,
      "outputs": [
        {
          "output_type": "execute_result",
          "data": {
            "text/plain": [
              "(14415958, 10)"
            ]
          },
          "metadata": {},
          "execution_count": 6
        }
      ]
    },
    {
      "cell_type": "code",
      "source": [
        "df['Label'] = df['Label'].astype(str)\n",
        "df = df[~df['Label'].str.contains('To')]"
      ],
      "metadata": {
        "id": "Tnopr18ECw1h"
      },
      "execution_count": null,
      "outputs": []
    },
    {
      "cell_type": "code",
      "source": [
        "#Background\n",
        "df.loc[df['Label'].str.contains(\"Background\"), 'Label'] = \"Background\"\n",
        "\n",
        "#Normal\n",
        "df.loc[df['Label'].str.contains(\"Normal\"), 'Label'] = \"Normal\"\n",
        "\n",
        "#Botnet\n",
        "df.loc[df['Label'].str.contains(\"Botnet\"), 'Label'] = \"Botnet\""
      ],
      "metadata": {
        "id": "DI96SHp4cUOQ"
      },
      "execution_count": null,
      "outputs": []
    },
    {
      "cell_type": "code",
      "source": [
        "df['Label'].value_counts()"
      ],
      "metadata": {
        "colab": {
          "base_uri": "https://localhost:8080/"
        },
        "id": "zjadH8ajcWrZ",
        "outputId": "64672191-b1ed-4883-e1d9-8d3b34679686"
      },
      "execution_count": null,
      "outputs": [
        {
          "output_type": "execute_result",
          "data": {
            "text/plain": [
              "Background    5923970\n",
              "Normal         227716\n",
              "Botnet         143960\n",
              "Name: Label, dtype: int64"
            ]
          },
          "metadata": {},
          "execution_count": 9
        }
      ]
    },
    {
      "cell_type": "code",
      "source": [
        "df.head(5)"
      ],
      "metadata": {
        "colab": {
          "base_uri": "https://localhost:8080/"
        },
        "id": "f1Ndng5IGqVW",
        "outputId": "422bc5db-9dad-4c7e-9cb0-6bcba47a9de1"
      },
      "execution_count": null,
      "outputs": [
        {
          "output_type": "execute_result",
          "data": {
            "text/plain": [
              "                      StartTime          Dur Proto          SrcAddr  \\\n",
              "101  2011/08/10 09:46:53.047277  3550.182373   udp    212.50.71.179   \n",
              "102  2011/08/10 09:46:53.048843     0.000883   udp    84.13.246.132   \n",
              "105  2011/08/10 09:46:53.053937  3427.768066   udp    74.89.223.204   \n",
              "107  2011/08/10 09:46:53.058746  3589.631348   udp  182.239.167.121   \n",
              "109  2011/08/10 09:46:53.062095  3118.470947   udp    24.117.206.20   \n",
              "\n",
              "           DstAddr State  TotPkts  TotBytes  SrcBytes       Label  \n",
              "101  147.32.84.229   CON       12       875       413  Background  \n",
              "102  147.32.84.229   CON        2       135        75  Background  \n",
              "105  147.32.84.229   CON       42      2856      1596  Background  \n",
              "107  147.32.84.229   CON       12      1494      1122  Background  \n",
              "109  147.32.84.229   CON       13      4328       840  Background  "
            ],
            "text/html": [
              "\n",
              "\n",
              "  <div id=\"df-b7c14251-09e4-4080-a6de-a44a7d454191\">\n",
              "    <div class=\"colab-df-container\">\n",
              "      <div>\n",
              "<style scoped>\n",
              "    .dataframe tbody tr th:only-of-type {\n",
              "        vertical-align: middle;\n",
              "    }\n",
              "\n",
              "    .dataframe tbody tr th {\n",
              "        vertical-align: top;\n",
              "    }\n",
              "\n",
              "    .dataframe thead th {\n",
              "        text-align: right;\n",
              "    }\n",
              "</style>\n",
              "<table border=\"1\" class=\"dataframe\">\n",
              "  <thead>\n",
              "    <tr style=\"text-align: right;\">\n",
              "      <th></th>\n",
              "      <th>StartTime</th>\n",
              "      <th>Dur</th>\n",
              "      <th>Proto</th>\n",
              "      <th>SrcAddr</th>\n",
              "      <th>DstAddr</th>\n",
              "      <th>State</th>\n",
              "      <th>TotPkts</th>\n",
              "      <th>TotBytes</th>\n",
              "      <th>SrcBytes</th>\n",
              "      <th>Label</th>\n",
              "    </tr>\n",
              "  </thead>\n",
              "  <tbody>\n",
              "    <tr>\n",
              "      <th>101</th>\n",
              "      <td>2011/08/10 09:46:53.047277</td>\n",
              "      <td>3550.182373</td>\n",
              "      <td>udp</td>\n",
              "      <td>212.50.71.179</td>\n",
              "      <td>147.32.84.229</td>\n",
              "      <td>CON</td>\n",
              "      <td>12</td>\n",
              "      <td>875</td>\n",
              "      <td>413</td>\n",
              "      <td>Background</td>\n",
              "    </tr>\n",
              "    <tr>\n",
              "      <th>102</th>\n",
              "      <td>2011/08/10 09:46:53.048843</td>\n",
              "      <td>0.000883</td>\n",
              "      <td>udp</td>\n",
              "      <td>84.13.246.132</td>\n",
              "      <td>147.32.84.229</td>\n",
              "      <td>CON</td>\n",
              "      <td>2</td>\n",
              "      <td>135</td>\n",
              "      <td>75</td>\n",
              "      <td>Background</td>\n",
              "    </tr>\n",
              "    <tr>\n",
              "      <th>105</th>\n",
              "      <td>2011/08/10 09:46:53.053937</td>\n",
              "      <td>3427.768066</td>\n",
              "      <td>udp</td>\n",
              "      <td>74.89.223.204</td>\n",
              "      <td>147.32.84.229</td>\n",
              "      <td>CON</td>\n",
              "      <td>42</td>\n",
              "      <td>2856</td>\n",
              "      <td>1596</td>\n",
              "      <td>Background</td>\n",
              "    </tr>\n",
              "    <tr>\n",
              "      <th>107</th>\n",
              "      <td>2011/08/10 09:46:53.058746</td>\n",
              "      <td>3589.631348</td>\n",
              "      <td>udp</td>\n",
              "      <td>182.239.167.121</td>\n",
              "      <td>147.32.84.229</td>\n",
              "      <td>CON</td>\n",
              "      <td>12</td>\n",
              "      <td>1494</td>\n",
              "      <td>1122</td>\n",
              "      <td>Background</td>\n",
              "    </tr>\n",
              "    <tr>\n",
              "      <th>109</th>\n",
              "      <td>2011/08/10 09:46:53.062095</td>\n",
              "      <td>3118.470947</td>\n",
              "      <td>udp</td>\n",
              "      <td>24.117.206.20</td>\n",
              "      <td>147.32.84.229</td>\n",
              "      <td>CON</td>\n",
              "      <td>13</td>\n",
              "      <td>4328</td>\n",
              "      <td>840</td>\n",
              "      <td>Background</td>\n",
              "    </tr>\n",
              "  </tbody>\n",
              "</table>\n",
              "</div>\n",
              "      <button class=\"colab-df-convert\" onclick=\"convertToInteractive('df-b7c14251-09e4-4080-a6de-a44a7d454191')\"\n",
              "              title=\"Convert this dataframe to an interactive table.\"\n",
              "              style=\"display:none;\">\n",
              "\n",
              "  <svg xmlns=\"http://www.w3.org/2000/svg\" height=\"24px\"viewBox=\"0 0 24 24\"\n",
              "       width=\"24px\">\n",
              "    <path d=\"M0 0h24v24H0V0z\" fill=\"none\"/>\n",
              "    <path d=\"M18.56 5.44l.94 2.06.94-2.06 2.06-.94-2.06-.94-.94-2.06-.94 2.06-2.06.94zm-11 1L8.5 8.5l.94-2.06 2.06-.94-2.06-.94L8.5 2.5l-.94 2.06-2.06.94zm10 10l.94 2.06.94-2.06 2.06-.94-2.06-.94-.94-2.06-.94 2.06-2.06.94z\"/><path d=\"M17.41 7.96l-1.37-1.37c-.4-.4-.92-.59-1.43-.59-.52 0-1.04.2-1.43.59L10.3 9.45l-7.72 7.72c-.78.78-.78 2.05 0 2.83L4 21.41c.39.39.9.59 1.41.59.51 0 1.02-.2 1.41-.59l7.78-7.78 2.81-2.81c.8-.78.8-2.07 0-2.86zM5.41 20L4 18.59l7.72-7.72 1.47 1.35L5.41 20z\"/>\n",
              "  </svg>\n",
              "      </button>\n",
              "\n",
              "\n",
              "\n",
              "    <div id=\"df-4ec52387-94a4-442b-b52c-a818e850be24\">\n",
              "      <button class=\"colab-df-quickchart\" onclick=\"quickchart('df-4ec52387-94a4-442b-b52c-a818e850be24')\"\n",
              "              title=\"Suggest charts.\"\n",
              "              style=\"display:none;\">\n",
              "\n",
              "<svg xmlns=\"http://www.w3.org/2000/svg\" height=\"24px\"viewBox=\"0 0 24 24\"\n",
              "     width=\"24px\">\n",
              "    <g>\n",
              "        <path d=\"M19 3H5c-1.1 0-2 .9-2 2v14c0 1.1.9 2 2 2h14c1.1 0 2-.9 2-2V5c0-1.1-.9-2-2-2zM9 17H7v-7h2v7zm4 0h-2V7h2v10zm4 0h-2v-4h2v4z\"/>\n",
              "    </g>\n",
              "</svg>\n",
              "      </button>\n",
              "    </div>\n",
              "\n",
              "<style>\n",
              "  .colab-df-quickchart {\n",
              "    background-color: #E8F0FE;\n",
              "    border: none;\n",
              "    border-radius: 50%;\n",
              "    cursor: pointer;\n",
              "    display: none;\n",
              "    fill: #1967D2;\n",
              "    height: 32px;\n",
              "    padding: 0 0 0 0;\n",
              "    width: 32px;\n",
              "  }\n",
              "\n",
              "  .colab-df-quickchart:hover {\n",
              "    background-color: #E2EBFA;\n",
              "    box-shadow: 0px 1px 2px rgba(60, 64, 67, 0.3), 0px 1px 3px 1px rgba(60, 64, 67, 0.15);\n",
              "    fill: #174EA6;\n",
              "  }\n",
              "\n",
              "  [theme=dark] .colab-df-quickchart {\n",
              "    background-color: #3B4455;\n",
              "    fill: #D2E3FC;\n",
              "  }\n",
              "\n",
              "  [theme=dark] .colab-df-quickchart:hover {\n",
              "    background-color: #434B5C;\n",
              "    box-shadow: 0px 1px 3px 1px rgba(0, 0, 0, 0.15);\n",
              "    filter: drop-shadow(0px 1px 2px rgba(0, 0, 0, 0.3));\n",
              "    fill: #FFFFFF;\n",
              "  }\n",
              "</style>\n",
              "\n",
              "    <script>\n",
              "      async function quickchart(key) {\n",
              "        const containerElement = document.querySelector('#' + key);\n",
              "        const charts = await google.colab.kernel.invokeFunction(\n",
              "            'suggestCharts', [key], {});\n",
              "      }\n",
              "    </script>\n",
              "\n",
              "      <script>\n",
              "\n",
              "function displayQuickchartButton(domScope) {\n",
              "  let quickchartButtonEl =\n",
              "    domScope.querySelector('#df-4ec52387-94a4-442b-b52c-a818e850be24 button.colab-df-quickchart');\n",
              "  quickchartButtonEl.style.display =\n",
              "    google.colab.kernel.accessAllowed ? 'block' : 'none';\n",
              "}\n",
              "\n",
              "        displayQuickchartButton(document);\n",
              "      </script>\n",
              "      <style>\n",
              "    .colab-df-container {\n",
              "      display:flex;\n",
              "      flex-wrap:wrap;\n",
              "      gap: 12px;\n",
              "    }\n",
              "\n",
              "    .colab-df-convert {\n",
              "      background-color: #E8F0FE;\n",
              "      border: none;\n",
              "      border-radius: 50%;\n",
              "      cursor: pointer;\n",
              "      display: none;\n",
              "      fill: #1967D2;\n",
              "      height: 32px;\n",
              "      padding: 0 0 0 0;\n",
              "      width: 32px;\n",
              "    }\n",
              "\n",
              "    .colab-df-convert:hover {\n",
              "      background-color: #E2EBFA;\n",
              "      box-shadow: 0px 1px 2px rgba(60, 64, 67, 0.3), 0px 1px 3px 1px rgba(60, 64, 67, 0.15);\n",
              "      fill: #174EA6;\n",
              "    }\n",
              "\n",
              "    [theme=dark] .colab-df-convert {\n",
              "      background-color: #3B4455;\n",
              "      fill: #D2E3FC;\n",
              "    }\n",
              "\n",
              "    [theme=dark] .colab-df-convert:hover {\n",
              "      background-color: #434B5C;\n",
              "      box-shadow: 0px 1px 3px 1px rgba(0, 0, 0, 0.15);\n",
              "      filter: drop-shadow(0px 1px 2px rgba(0, 0, 0, 0.3));\n",
              "      fill: #FFFFFF;\n",
              "    }\n",
              "  </style>\n",
              "\n",
              "      <script>\n",
              "        const buttonEl =\n",
              "          document.querySelector('#df-b7c14251-09e4-4080-a6de-a44a7d454191 button.colab-df-convert');\n",
              "        buttonEl.style.display =\n",
              "          google.colab.kernel.accessAllowed ? 'block' : 'none';\n",
              "\n",
              "        async function convertToInteractive(key) {\n",
              "          const element = document.querySelector('#df-b7c14251-09e4-4080-a6de-a44a7d454191');\n",
              "          const dataTable =\n",
              "            await google.colab.kernel.invokeFunction('convertToInteractive',\n",
              "                                                     [key], {});\n",
              "          if (!dataTable) return;\n",
              "\n",
              "          const docLinkHtml = 'Like what you see? Visit the ' +\n",
              "            '<a target=\"_blank\" href=https://colab.research.google.com/notebooks/data_table.ipynb>data table notebook</a>'\n",
              "            + ' to learn more about interactive tables.';\n",
              "          element.innerHTML = '';\n",
              "          dataTable['output_type'] = 'display_data';\n",
              "          await google.colab.output.renderOutput(dataTable, element);\n",
              "          const docLink = document.createElement('div');\n",
              "          docLink.innerHTML = docLinkHtml;\n",
              "          element.appendChild(docLink);\n",
              "        }\n",
              "      </script>\n",
              "    </div>\n",
              "  </div>\n"
            ]
          },
          "metadata": {},
          "execution_count": 10
        }
      ]
    },
    {
      "cell_type": "code",
      "source": [
        "df.shape"
      ],
      "metadata": {
        "colab": {
          "base_uri": "https://localhost:8080/"
        },
        "id": "S75dkItrGsCW",
        "outputId": "0a07f42f-8f3a-440d-e9de-4db6dcc27552"
      },
      "execution_count": null,
      "outputs": [
        {
          "output_type": "execute_result",
          "data": {
            "text/plain": [
              "(6295646, 10)"
            ]
          },
          "metadata": {},
          "execution_count": 11
        }
      ]
    },
    {
      "cell_type": "code",
      "source": [
        "selected_df = df"
      ],
      "metadata": {
        "id": "2p-SkmvQJCLJ"
      },
      "execution_count": null,
      "outputs": []
    },
    {
      "cell_type": "code",
      "source": [
        "df.StartTime.tail(5)"
      ],
      "metadata": {
        "colab": {
          "base_uri": "https://localhost:8080/"
        },
        "id": "bp43cZcQ8x62",
        "outputId": "655b34b0-72a0-41dd-9231-b774e9f01e41"
      },
      "execution_count": null,
      "outputs": [
        {
          "output_type": "execute_result",
          "data": {
            "text/plain": [
              "19976671    2011/08/19 11:45:43.212731\n",
              "19976674    2011/08/19 11:45:43.320646\n",
              "19976675    2011/08/19 11:45:43.338609\n",
              "19976676    2011/08/19 11:45:43.390920\n",
              "19976680    2011/08/19 11:45:43.420099\n",
              "Name: StartTime, dtype: object"
            ]
          },
          "metadata": {},
          "execution_count": 13
        }
      ]
    },
    {
      "cell_type": "code",
      "source": [
        "df.StartTime.head(5)"
      ],
      "metadata": {
        "colab": {
          "base_uri": "https://localhost:8080/"
        },
        "id": "j_AGJZ3k9dsc",
        "outputId": "ef4d324f-f744-4a25-ec2b-d3618d9060b7"
      },
      "execution_count": null,
      "outputs": [
        {
          "output_type": "execute_result",
          "data": {
            "text/plain": [
              "101    2011/08/10 09:46:53.047277\n",
              "102    2011/08/10 09:46:53.048843\n",
              "105    2011/08/10 09:46:53.053937\n",
              "107    2011/08/10 09:46:53.058746\n",
              "109    2011/08/10 09:46:53.062095\n",
              "Name: StartTime, dtype: object"
            ]
          },
          "metadata": {},
          "execution_count": 14
        }
      ]
    },
    {
      "cell_type": "code",
      "source": [
        "df.State.value_counts()"
      ],
      "metadata": {
        "colab": {
          "base_uri": "https://localhost:8080/"
        },
        "id": "_bsH2yAfV5sV",
        "outputId": "84f95e9c-bac4-4938-d6e2-455e0c579fd7"
      },
      "execution_count": null,
      "outputs": [
        {
          "output_type": "execute_result",
          "data": {
            "text/plain": [
              "CON    6173266\n",
              "URP     122380\n",
              "Name: State, dtype: int64"
            ]
          },
          "metadata": {},
          "execution_count": 15
        }
      ]
    },
    {
      "cell_type": "markdown",
      "source": [
        "#Train test splitting"
      ],
      "metadata": {
        "id": "bem3K_NVI9hR"
      }
    },
    {
      "cell_type": "code",
      "source": [
        "from sklearn.model_selection import train_test_split\n",
        "import random"
      ],
      "metadata": {
        "id": "2X4wet-mJeVK"
      },
      "execution_count": null,
      "outputs": []
    },
    {
      "cell_type": "code",
      "source": [
        "X = selected_df.loc[:, ['StartTime', 'Dur', 'Proto', 'SrcAddr', 'DstAddr', 'State', 'TotPkts', 'TotBytes', 'SrcBytes', 'Label']]\n",
        "y = selected_df.loc[:, ['Label']]\n",
        "\n",
        "X_train, X_test, y_train, y_test = train_test_split(X, y, test_size = 0.2, random_state = 420)"
      ],
      "metadata": {
        "id": "bqqlPpHoJfeA"
      },
      "execution_count": null,
      "outputs": []
    },
    {
      "cell_type": "code",
      "source": [
        "#9\n",
        "background_count = 0\n",
        "normal_count = 0\n",
        "botnet_count = 0\n",
        "\n",
        "for x in X_train['Label']:\n",
        "    if 'Background' in str(x): #Background\n",
        "        background_count += 1\n",
        "    if 'Normal' in str(x): #Normal\n",
        "        normal_count += 1\n",
        "    if 'Botnet' in str(x): #Botnet\n",
        "        botnet_count += 1\n",
        "\n",
        "print(str(float(background_count/11532766)))\n",
        "print(str(float(normal_count/11532766)))\n",
        "print(str(float(botnet_count/11532766)))\n",
        "\n",
        "botnet_ratio_b = (float(botnet_count/background_count))\n",
        "botnet_ratio_n = (float(botnet_count/normal_count))\n"
      ],
      "metadata": {
        "id": "ZWx8TZCJPIdA",
        "colab": {
          "base_uri": "https://localhost:8080/"
        },
        "outputId": "4dcb0aef-c9da-414a-9919-80f9ee26dd6d"
      },
      "execution_count": null,
      "outputs": [
        {
          "output_type": "stream",
          "name": "stdout",
          "text": [
            "0.4109347228583325\n",
            "0.015800285898456622\n",
            "0.009978612242717835\n"
          ]
        }
      ]
    },
    {
      "cell_type": "code",
      "source": [
        "filtered_df_1 = X_train.copy()\n",
        "\n",
        "# Create a boolean mask to identify rows with \"background\" in the 'Label' column\n",
        "mask_b = filtered_df_1['Label'].astype(str).str.contains('Background')\n",
        "\n",
        "# Get the indices of rows with \"background\"\n",
        "indices_background = filtered_df_1.index[mask_b]\n",
        "\n",
        "# Calculate the number of rows to drop (background_count - botnet_count)\n",
        "num_rows_to_drop = background_count - botnet_count\n",
        "\n",
        "# Randomly select 'num_rows_to_drop' indices from the background indices\n",
        "indices_to_drop_b = random.sample(indices_background.tolist(), num_rows_to_drop)\n",
        "filtered_y = y_train.copy()\n",
        "\n",
        "# Drop the specified rows from the DataFrame\n",
        "filtered_df_1 = filtered_df_1.drop(indices_to_drop_b)\n",
        "filtered_y = filtered_y.drop(indices_to_drop_b)\n",
        "\n",
        "# Reset the index of the filtered DataFrame\n",
        "filtered_df_1 = filtered_df_1.reset_index(drop=True)\n",
        "filtered_y = filtered_y.reset_index(drop=True)"
      ],
      "metadata": {
        "id": "atNR6bHgPVyF"
      },
      "execution_count": null,
      "outputs": []
    },
    {
      "cell_type": "code",
      "source": [
        "#15\n",
        "background_count = 0\n",
        "normal_count = 0\n",
        "botnet_count = 0\n",
        "\n",
        "for x in filtered_df_1['Label']:\n",
        "    if 'Background' in str(x): #Background\n",
        "        background_count += 1\n",
        "    if 'Normal' in str(x): #Normal\n",
        "        normal_count += 1\n",
        "    if 'Botnet' in str(x): #Botnet\n",
        "        botnet_count += 1\n",
        "\n",
        "print(str(float(background_count/413824)))\n",
        "print(str(float(normal_count/413824)))\n",
        "print(str(float(botnet_count/413824)))\n",
        "\n",
        "botnet_ratio_b = (float(botnet_count/background_count))\n",
        "botnet_ratio_n = (float(botnet_count/normal_count))"
      ],
      "metadata": {
        "id": "C1oHCUerPgo-",
        "colab": {
          "base_uri": "https://localhost:8080/"
        },
        "outputId": "056f9b4e-b13a-4a6f-f5f6-bd18972571a9"
      },
      "execution_count": null,
      "outputs": [
        {
          "output_type": "stream",
          "name": "stdout",
          "text": [
            "0.27809165248994744\n",
            "0.4403345383544695\n",
            "0.27809165248994744\n"
          ]
        }
      ]
    },
    {
      "cell_type": "code",
      "source": [
        "filtered_df = filtered_df_1.copy()\n",
        "\n",
        "# Create a boolean mask to identify rows with \"normal\" in the 'Label' column\n",
        "mask_bot = filtered_df['Label'].astype(str).str.contains('Normal')\n",
        "\n",
        "# Get the indices of rows with \"background\"\n",
        "indices_background = filtered_df.index[mask_bot]\n",
        "\n",
        "# Calculate the number of rows to drop (background_count - botnet_count)\n",
        "num_rows_to_drop = normal_count - botnet_count\n",
        "\n",
        "# Randomly select 'num_rows_to_drop' indices from the background indices\n",
        "indices_to_drop_bot = random.sample(indices_background.tolist(), num_rows_to_drop)\n",
        "filtered_y_2 = filtered_y.copy()\n",
        "\n",
        "# Drop the specified rows from the DataFrame\n",
        "filtered_df = filtered_df.drop(indices_to_drop_bot)\n",
        "filtered_y_2 = filtered_y_2.drop(indices_to_drop_bot)\n",
        "\n",
        "# Reset the index of the filtered DataFrame\n",
        "filtered_df = filtered_df.reset_index(drop=True)\n",
        "filtered_y_2 = filtered_y_2.reset_index(drop=True)"
      ],
      "metadata": {
        "id": "N8h5xqu0UOL5"
      },
      "execution_count": null,
      "outputs": []
    },
    {
      "cell_type": "code",
      "source": [
        "#19\n",
        "background_count = 0\n",
        "normal_count = 0\n",
        "botnet_count = 0\n",
        "\n",
        "for x in filtered_df['Label']:\n",
        "    if 'Background' in str(x):\n",
        "        background_count += 1\n",
        "    if 'Normal' in str(x):\n",
        "        normal_count += 1\n",
        "    if 'Botnet' in str(x):\n",
        "        botnet_count += 1\n",
        "\n",
        "print(str(float(background_count/345804)))\n",
        "print(str(float(normal_count/345804)))\n",
        "print(str(float(botnet_count/345804)))"
      ],
      "metadata": {
        "id": "hHD6QNGtUmqC",
        "colab": {
          "base_uri": "https://localhost:8080/"
        },
        "outputId": "a8bd823b-80bd-42f8-9119-4d3a0a621124"
      },
      "execution_count": null,
      "outputs": [
        {
          "output_type": "stream",
          "name": "stdout",
          "text": [
            "0.33279256457415185\n",
            "0.33279256457415185\n",
            "0.33279256457415185\n"
          ]
        }
      ]
    },
    {
      "cell_type": "code",
      "source": [
        "X_train = filtered_df"
      ],
      "metadata": {
        "id": "-5YOOivYWZzK"
      },
      "execution_count": null,
      "outputs": []
    },
    {
      "cell_type": "code",
      "source": [
        "y_train = filtered_y_2"
      ],
      "metadata": {
        "id": "twGZNCxAhlaN"
      },
      "execution_count": null,
      "outputs": []
    },
    {
      "cell_type": "code",
      "source": [
        "X_train = X_train.drop(columns=['Label'])\n",
        "X_test = X_test.drop(columns=['Label'])"
      ],
      "metadata": {
        "id": "gwOFogZeiRjg"
      },
      "execution_count": null,
      "outputs": []
    },
    {
      "cell_type": "markdown",
      "source": [
        "#changing everything by a small percentage"
      ],
      "metadata": {
        "id": "k1zm1Pb-H0Bb"
      }
    },
    {
      "cell_type": "code",
      "source": [
        "import random"
      ],
      "metadata": {
        "id": "78h2gPmjH5ID"
      },
      "execution_count": null,
      "outputs": []
    },
    {
      "cell_type": "code",
      "source": [
        "X_train.head(5)"
      ],
      "metadata": {
        "colab": {
          "base_uri": "https://localhost:8080/"
        },
        "id": "ulseBt7bhQKL",
        "outputId": "daee2749-573d-4cf6-de24-09d31dd367bc"
      },
      "execution_count": null,
      "outputs": [
        {
          "output_type": "execute_result",
          "data": {
            "text/plain": [
              "                    StartTime          Dur Proto         SrcAddr  \\\n",
              "0  2011/08/14 21:58:51.376499     0.000407   udp  95.139.113.140   \n",
              "1  2011/08/14 16:47:26.180653     0.143208   udp   147.32.84.229   \n",
              "2  2011/08/10 09:47:12.333835  3585.226074   udp   147.32.84.229   \n",
              "3  2011/08/17 15:49:30.817952     0.020302   udp   147.32.84.209   \n",
              "4  2011/08/10 10:38:40.862355     0.000878   udp   2.126.208.134   \n",
              "\n",
              "         DstAddr State  TotPkts  TotBytes  SrcBytes  \n",
              "0  147.32.84.229   CON        2       134        74  \n",
              "1   69.119.5.120   CON        2       529       469  \n",
              "2  114.40.27.155   CON      120     20998     10671  \n",
              "3    147.32.80.9   CON        2       349        89  \n",
              "4  147.32.84.229   CON        2       132        72  "
            ],
            "text/html": [
              "\n",
              "\n",
              "  <div id=\"df-43ac2c19-0b23-4dbe-9b84-28136c3020df\">\n",
              "    <div class=\"colab-df-container\">\n",
              "      <div>\n",
              "<style scoped>\n",
              "    .dataframe tbody tr th:only-of-type {\n",
              "        vertical-align: middle;\n",
              "    }\n",
              "\n",
              "    .dataframe tbody tr th {\n",
              "        vertical-align: top;\n",
              "    }\n",
              "\n",
              "    .dataframe thead th {\n",
              "        text-align: right;\n",
              "    }\n",
              "</style>\n",
              "<table border=\"1\" class=\"dataframe\">\n",
              "  <thead>\n",
              "    <tr style=\"text-align: right;\">\n",
              "      <th></th>\n",
              "      <th>StartTime</th>\n",
              "      <th>Dur</th>\n",
              "      <th>Proto</th>\n",
              "      <th>SrcAddr</th>\n",
              "      <th>DstAddr</th>\n",
              "      <th>State</th>\n",
              "      <th>TotPkts</th>\n",
              "      <th>TotBytes</th>\n",
              "      <th>SrcBytes</th>\n",
              "    </tr>\n",
              "  </thead>\n",
              "  <tbody>\n",
              "    <tr>\n",
              "      <th>0</th>\n",
              "      <td>2011/08/14 21:58:51.376499</td>\n",
              "      <td>0.000407</td>\n",
              "      <td>udp</td>\n",
              "      <td>95.139.113.140</td>\n",
              "      <td>147.32.84.229</td>\n",
              "      <td>CON</td>\n",
              "      <td>2</td>\n",
              "      <td>134</td>\n",
              "      <td>74</td>\n",
              "    </tr>\n",
              "    <tr>\n",
              "      <th>1</th>\n",
              "      <td>2011/08/14 16:47:26.180653</td>\n",
              "      <td>0.143208</td>\n",
              "      <td>udp</td>\n",
              "      <td>147.32.84.229</td>\n",
              "      <td>69.119.5.120</td>\n",
              "      <td>CON</td>\n",
              "      <td>2</td>\n",
              "      <td>529</td>\n",
              "      <td>469</td>\n",
              "    </tr>\n",
              "    <tr>\n",
              "      <th>2</th>\n",
              "      <td>2011/08/10 09:47:12.333835</td>\n",
              "      <td>3585.226074</td>\n",
              "      <td>udp</td>\n",
              "      <td>147.32.84.229</td>\n",
              "      <td>114.40.27.155</td>\n",
              "      <td>CON</td>\n",
              "      <td>120</td>\n",
              "      <td>20998</td>\n",
              "      <td>10671</td>\n",
              "    </tr>\n",
              "    <tr>\n",
              "      <th>3</th>\n",
              "      <td>2011/08/17 15:49:30.817952</td>\n",
              "      <td>0.020302</td>\n",
              "      <td>udp</td>\n",
              "      <td>147.32.84.209</td>\n",
              "      <td>147.32.80.9</td>\n",
              "      <td>CON</td>\n",
              "      <td>2</td>\n",
              "      <td>349</td>\n",
              "      <td>89</td>\n",
              "    </tr>\n",
              "    <tr>\n",
              "      <th>4</th>\n",
              "      <td>2011/08/10 10:38:40.862355</td>\n",
              "      <td>0.000878</td>\n",
              "      <td>udp</td>\n",
              "      <td>2.126.208.134</td>\n",
              "      <td>147.32.84.229</td>\n",
              "      <td>CON</td>\n",
              "      <td>2</td>\n",
              "      <td>132</td>\n",
              "      <td>72</td>\n",
              "    </tr>\n",
              "  </tbody>\n",
              "</table>\n",
              "</div>\n",
              "      <button class=\"colab-df-convert\" onclick=\"convertToInteractive('df-43ac2c19-0b23-4dbe-9b84-28136c3020df')\"\n",
              "              title=\"Convert this dataframe to an interactive table.\"\n",
              "              style=\"display:none;\">\n",
              "\n",
              "  <svg xmlns=\"http://www.w3.org/2000/svg\" height=\"24px\"viewBox=\"0 0 24 24\"\n",
              "       width=\"24px\">\n",
              "    <path d=\"M0 0h24v24H0V0z\" fill=\"none\"/>\n",
              "    <path d=\"M18.56 5.44l.94 2.06.94-2.06 2.06-.94-2.06-.94-.94-2.06-.94 2.06-2.06.94zm-11 1L8.5 8.5l.94-2.06 2.06-.94-2.06-.94L8.5 2.5l-.94 2.06-2.06.94zm10 10l.94 2.06.94-2.06 2.06-.94-2.06-.94-.94-2.06-.94 2.06-2.06.94z\"/><path d=\"M17.41 7.96l-1.37-1.37c-.4-.4-.92-.59-1.43-.59-.52 0-1.04.2-1.43.59L10.3 9.45l-7.72 7.72c-.78.78-.78 2.05 0 2.83L4 21.41c.39.39.9.59 1.41.59.51 0 1.02-.2 1.41-.59l7.78-7.78 2.81-2.81c.8-.78.8-2.07 0-2.86zM5.41 20L4 18.59l7.72-7.72 1.47 1.35L5.41 20z\"/>\n",
              "  </svg>\n",
              "      </button>\n",
              "\n",
              "\n",
              "\n",
              "    <div id=\"df-0f909973-cbff-40c4-bdc1-d9dd1f7a8a0b\">\n",
              "      <button class=\"colab-df-quickchart\" onclick=\"quickchart('df-0f909973-cbff-40c4-bdc1-d9dd1f7a8a0b')\"\n",
              "              title=\"Suggest charts.\"\n",
              "              style=\"display:none;\">\n",
              "\n",
              "<svg xmlns=\"http://www.w3.org/2000/svg\" height=\"24px\"viewBox=\"0 0 24 24\"\n",
              "     width=\"24px\">\n",
              "    <g>\n",
              "        <path d=\"M19 3H5c-1.1 0-2 .9-2 2v14c0 1.1.9 2 2 2h14c1.1 0 2-.9 2-2V5c0-1.1-.9-2-2-2zM9 17H7v-7h2v7zm4 0h-2V7h2v10zm4 0h-2v-4h2v4z\"/>\n",
              "    </g>\n",
              "</svg>\n",
              "      </button>\n",
              "    </div>\n",
              "\n",
              "<style>\n",
              "  .colab-df-quickchart {\n",
              "    background-color: #E8F0FE;\n",
              "    border: none;\n",
              "    border-radius: 50%;\n",
              "    cursor: pointer;\n",
              "    display: none;\n",
              "    fill: #1967D2;\n",
              "    height: 32px;\n",
              "    padding: 0 0 0 0;\n",
              "    width: 32px;\n",
              "  }\n",
              "\n",
              "  .colab-df-quickchart:hover {\n",
              "    background-color: #E2EBFA;\n",
              "    box-shadow: 0px 1px 2px rgba(60, 64, 67, 0.3), 0px 1px 3px 1px rgba(60, 64, 67, 0.15);\n",
              "    fill: #174EA6;\n",
              "  }\n",
              "\n",
              "  [theme=dark] .colab-df-quickchart {\n",
              "    background-color: #3B4455;\n",
              "    fill: #D2E3FC;\n",
              "  }\n",
              "\n",
              "  [theme=dark] .colab-df-quickchart:hover {\n",
              "    background-color: #434B5C;\n",
              "    box-shadow: 0px 1px 3px 1px rgba(0, 0, 0, 0.15);\n",
              "    filter: drop-shadow(0px 1px 2px rgba(0, 0, 0, 0.3));\n",
              "    fill: #FFFFFF;\n",
              "  }\n",
              "</style>\n",
              "\n",
              "    <script>\n",
              "      async function quickchart(key) {\n",
              "        const containerElement = document.querySelector('#' + key);\n",
              "        const charts = await google.colab.kernel.invokeFunction(\n",
              "            'suggestCharts', [key], {});\n",
              "      }\n",
              "    </script>\n",
              "\n",
              "      <script>\n",
              "\n",
              "function displayQuickchartButton(domScope) {\n",
              "  let quickchartButtonEl =\n",
              "    domScope.querySelector('#df-0f909973-cbff-40c4-bdc1-d9dd1f7a8a0b button.colab-df-quickchart');\n",
              "  quickchartButtonEl.style.display =\n",
              "    google.colab.kernel.accessAllowed ? 'block' : 'none';\n",
              "}\n",
              "\n",
              "        displayQuickchartButton(document);\n",
              "      </script>\n",
              "      <style>\n",
              "    .colab-df-container {\n",
              "      display:flex;\n",
              "      flex-wrap:wrap;\n",
              "      gap: 12px;\n",
              "    }\n",
              "\n",
              "    .colab-df-convert {\n",
              "      background-color: #E8F0FE;\n",
              "      border: none;\n",
              "      border-radius: 50%;\n",
              "      cursor: pointer;\n",
              "      display: none;\n",
              "      fill: #1967D2;\n",
              "      height: 32px;\n",
              "      padding: 0 0 0 0;\n",
              "      width: 32px;\n",
              "    }\n",
              "\n",
              "    .colab-df-convert:hover {\n",
              "      background-color: #E2EBFA;\n",
              "      box-shadow: 0px 1px 2px rgba(60, 64, 67, 0.3), 0px 1px 3px 1px rgba(60, 64, 67, 0.15);\n",
              "      fill: #174EA6;\n",
              "    }\n",
              "\n",
              "    [theme=dark] .colab-df-convert {\n",
              "      background-color: #3B4455;\n",
              "      fill: #D2E3FC;\n",
              "    }\n",
              "\n",
              "    [theme=dark] .colab-df-convert:hover {\n",
              "      background-color: #434B5C;\n",
              "      box-shadow: 0px 1px 3px 1px rgba(0, 0, 0, 0.15);\n",
              "      filter: drop-shadow(0px 1px 2px rgba(0, 0, 0, 0.3));\n",
              "      fill: #FFFFFF;\n",
              "    }\n",
              "  </style>\n",
              "\n",
              "      <script>\n",
              "        const buttonEl =\n",
              "          document.querySelector('#df-43ac2c19-0b23-4dbe-9b84-28136c3020df button.colab-df-convert');\n",
              "        buttonEl.style.display =\n",
              "          google.colab.kernel.accessAllowed ? 'block' : 'none';\n",
              "\n",
              "        async function convertToInteractive(key) {\n",
              "          const element = document.querySelector('#df-43ac2c19-0b23-4dbe-9b84-28136c3020df');\n",
              "          const dataTable =\n",
              "            await google.colab.kernel.invokeFunction('convertToInteractive',\n",
              "                                                     [key], {});\n",
              "          if (!dataTable) return;\n",
              "\n",
              "          const docLinkHtml = 'Like what you see? Visit the ' +\n",
              "            '<a target=\"_blank\" href=https://colab.research.google.com/notebooks/data_table.ipynb>data table notebook</a>'\n",
              "            + ' to learn more about interactive tables.';\n",
              "          element.innerHTML = '';\n",
              "          dataTable['output_type'] = 'display_data';\n",
              "          await google.colab.output.renderOutput(dataTable, element);\n",
              "          const docLink = document.createElement('div');\n",
              "          docLink.innerHTML = docLinkHtml;\n",
              "          element.appendChild(docLink);\n",
              "        }\n",
              "      </script>\n",
              "    </div>\n",
              "  </div>\n"
            ]
          },
          "metadata": {},
          "execution_count": 27
        }
      ]
    },
    {
      "cell_type": "code",
      "source": [
        "def modify_dur_by_random_percentage(row):\n",
        "    # Generate a random percentage between -10% and +10%\n",
        "    random_percentage = random.uniform(-0.5, 0.5)\n",
        "    # Calculate the new 'dur' value after applying the random percentage\n",
        "    new_dur = row['Dur'] * (1 + random_percentage)\n",
        "    # Round the new_dur to an integer value (if needed)\n",
        "    #new_dur = round(new_dur)\n",
        "    return new_dur\n",
        "\n",
        "# Apply the modification to each row of the DataFrame\n",
        "X_train['Dur'] = X_train.apply(modify_dur_by_random_percentage, axis=1)"
      ],
      "metadata": {
        "id": "s_9ZLWgUHznL"
      },
      "execution_count": null,
      "outputs": []
    },
    {
      "cell_type": "code",
      "source": [
        "\n",
        "def modify_srcbytes_by_random_percentage(row):\n",
        "    # Generate a random percentage between -10% and +10%\n",
        "    random_percentage = random.uniform(-0.5, 0.5)\n",
        "    # Calculate the new 'dur' value after applying the random percentage\n",
        "    new_srcbytes = row['SrcBytes'] * (1 + random_percentage)\n",
        "    # Round the new_dur to an integer value (if needed)\n",
        "    new_srcbytes = round(new_srcbytes)\n",
        "    return new_srcbytes\n",
        "\n",
        "# Apply the modification to each row of the DataFrame\n",
        "X_train['SrcBytes'] = X_train.apply(modify_srcbytes_by_random_percentage, axis=1)\n"
      ],
      "metadata": {
        "id": "b2trmXByLFQu"
      },
      "execution_count": null,
      "outputs": []
    },
    {
      "cell_type": "code",
      "source": [
        "\n",
        "def modify_totpkts_by_random_percentage(row):\n",
        "    # Generate a random percentage between -10% and +10%\n",
        "    random_percentage = random.uniform(-0.5, 0.5)\n",
        "    # Calculate the new 'dur' value after applying the random percentage\n",
        "    new_totpkts = row['TotPkts'] * (1 + random_percentage)\n",
        "    # Round the new_dur to an integer value (if needed)\n",
        "    new_totpkts = round(new_totpkts)\n",
        "    return new_totpkts\n",
        "\n",
        "# Apply the modification to each row of the DataFrame\n",
        "X_train['TotPkts'] = X_train.apply(modify_totpkts_by_random_percentage, axis=1)\n"
      ],
      "metadata": {
        "id": "YRc8WGQVMAka"
      },
      "execution_count": null,
      "outputs": []
    },
    {
      "cell_type": "code",
      "source": [
        "\n",
        "# def modify_st_by_random_percentage(row):\n",
        "#     time = row['StartTime']\n",
        "#     random_num_1 = random.randint(-5, 5)\n",
        "#     day = int(time[8:10]) + random_num_1\n",
        "#     time = time[:8] + str(day).zfill(2) + time[10:]\n",
        "\n",
        "#     random_num = random.randint(-12, 12)\n",
        "#     hour = int(time[11:13]) + random_num\n",
        "#     time = time[:11] + str(hour).zfill(2) + time[13:]\n",
        "\n",
        "#     return time\n",
        "\n",
        "# # Apply the modification to each row of the DataFrame\n",
        "# X_train['StartTime'] = X_train.apply(modify_st_by_random_percentage, axis=1)\n"
      ],
      "metadata": {
        "id": "B19229RdCFeD"
      },
      "execution_count": null,
      "outputs": []
    },
    {
      "cell_type": "code",
      "source": [
        "\n",
        "# def modify_srcaddr_by_random_percentage(row):\n",
        "#     separate_numbers = row['SrcAddr'].split(\".\")\n",
        "#     random_num = random.uniform(-0.5, 0.5)\n",
        "#     for i in range(len(separate_numbers)):\n",
        "#         separate_numbers[i] = str(round(float(separate_numbers[i]) * (1 + random_num)))\n",
        "#     combined = \".\".join(separate_numbers)\n",
        "#     return combined\n",
        "\n",
        "# # Apply the modification to each row of the DataFrame\n",
        "# X_train['SrcAddr'] = X_train.apply(modify_srcaddr_by_random_percentage, axis=1)\n"
      ],
      "metadata": {
        "id": "SnEcy6N4M82z"
      },
      "execution_count": null,
      "outputs": []
    },
    {
      "cell_type": "code",
      "source": [
        "\n",
        "# def modify_state_by_random_percentage(row):\n",
        "#     possible_states = ['CON', 'URP']\n",
        "#     state = row['State']\n",
        "#     random_num = random.randint(0, 1)\n",
        "#     if random_num == 0:\n",
        "#         state = 'CON'\n",
        "#     else:\n",
        "#         state = 'URP'\n",
        "#     return state\n",
        "\n",
        "# # Apply the modification to each row of the DataFrame\n",
        "# X_train['State'] = X_train.apply(modify_state_by_random_percentage, axis=1)\n"
      ],
      "metadata": {
        "id": "EzF-lxNjVF7Q"
      },
      "execution_count": null,
      "outputs": []
    },
    {
      "cell_type": "code",
      "source": [
        "X_train.head(5)"
      ],
      "metadata": {
        "colab": {
          "base_uri": "https://localhost:8080/"
        },
        "id": "qgEfZZwVH-Fd",
        "outputId": "9e30d917-7049-4cc0-e9a0-471a5980486b"
      },
      "execution_count": null,
      "outputs": [
        {
          "output_type": "execute_result",
          "data": {
            "text/plain": [
              "                    StartTime          Dur Proto         SrcAddr  \\\n",
              "0  2011/08/14 21:58:51.376499     0.000372   udp  95.139.113.140   \n",
              "1  2011/08/14 16:47:26.180653     0.172319   udp   147.32.84.229   \n",
              "2  2011/08/10 09:47:12.333835  2423.358562   udp   147.32.84.229   \n",
              "3  2011/08/17 15:49:30.817952     0.023524   udp   147.32.84.209   \n",
              "4  2011/08/10 10:38:40.862355     0.000663   udp   2.126.208.134   \n",
              "\n",
              "         DstAddr State  TotPkts  TotBytes  SrcBytes  \n",
              "0  147.32.84.229   CON        2       134        95  \n",
              "1   69.119.5.120   CON        2       529       658  \n",
              "2  114.40.27.155   CON       61     20998      6806  \n",
              "3    147.32.80.9   CON        2       349        63  \n",
              "4  147.32.84.229   CON        2       132       102  "
            ],
            "text/html": [
              "\n",
              "\n",
              "  <div id=\"df-09d1ff2a-963f-41cf-a572-8edd2d81ee3d\">\n",
              "    <div class=\"colab-df-container\">\n",
              "      <div>\n",
              "<style scoped>\n",
              "    .dataframe tbody tr th:only-of-type {\n",
              "        vertical-align: middle;\n",
              "    }\n",
              "\n",
              "    .dataframe tbody tr th {\n",
              "        vertical-align: top;\n",
              "    }\n",
              "\n",
              "    .dataframe thead th {\n",
              "        text-align: right;\n",
              "    }\n",
              "</style>\n",
              "<table border=\"1\" class=\"dataframe\">\n",
              "  <thead>\n",
              "    <tr style=\"text-align: right;\">\n",
              "      <th></th>\n",
              "      <th>StartTime</th>\n",
              "      <th>Dur</th>\n",
              "      <th>Proto</th>\n",
              "      <th>SrcAddr</th>\n",
              "      <th>DstAddr</th>\n",
              "      <th>State</th>\n",
              "      <th>TotPkts</th>\n",
              "      <th>TotBytes</th>\n",
              "      <th>SrcBytes</th>\n",
              "    </tr>\n",
              "  </thead>\n",
              "  <tbody>\n",
              "    <tr>\n",
              "      <th>0</th>\n",
              "      <td>2011/08/14 21:58:51.376499</td>\n",
              "      <td>0.000372</td>\n",
              "      <td>udp</td>\n",
              "      <td>95.139.113.140</td>\n",
              "      <td>147.32.84.229</td>\n",
              "      <td>CON</td>\n",
              "      <td>2</td>\n",
              "      <td>134</td>\n",
              "      <td>95</td>\n",
              "    </tr>\n",
              "    <tr>\n",
              "      <th>1</th>\n",
              "      <td>2011/08/14 16:47:26.180653</td>\n",
              "      <td>0.172319</td>\n",
              "      <td>udp</td>\n",
              "      <td>147.32.84.229</td>\n",
              "      <td>69.119.5.120</td>\n",
              "      <td>CON</td>\n",
              "      <td>2</td>\n",
              "      <td>529</td>\n",
              "      <td>658</td>\n",
              "    </tr>\n",
              "    <tr>\n",
              "      <th>2</th>\n",
              "      <td>2011/08/10 09:47:12.333835</td>\n",
              "      <td>2423.358562</td>\n",
              "      <td>udp</td>\n",
              "      <td>147.32.84.229</td>\n",
              "      <td>114.40.27.155</td>\n",
              "      <td>CON</td>\n",
              "      <td>61</td>\n",
              "      <td>20998</td>\n",
              "      <td>6806</td>\n",
              "    </tr>\n",
              "    <tr>\n",
              "      <th>3</th>\n",
              "      <td>2011/08/17 15:49:30.817952</td>\n",
              "      <td>0.023524</td>\n",
              "      <td>udp</td>\n",
              "      <td>147.32.84.209</td>\n",
              "      <td>147.32.80.9</td>\n",
              "      <td>CON</td>\n",
              "      <td>2</td>\n",
              "      <td>349</td>\n",
              "      <td>63</td>\n",
              "    </tr>\n",
              "    <tr>\n",
              "      <th>4</th>\n",
              "      <td>2011/08/10 10:38:40.862355</td>\n",
              "      <td>0.000663</td>\n",
              "      <td>udp</td>\n",
              "      <td>2.126.208.134</td>\n",
              "      <td>147.32.84.229</td>\n",
              "      <td>CON</td>\n",
              "      <td>2</td>\n",
              "      <td>132</td>\n",
              "      <td>102</td>\n",
              "    </tr>\n",
              "  </tbody>\n",
              "</table>\n",
              "</div>\n",
              "      <button class=\"colab-df-convert\" onclick=\"convertToInteractive('df-09d1ff2a-963f-41cf-a572-8edd2d81ee3d')\"\n",
              "              title=\"Convert this dataframe to an interactive table.\"\n",
              "              style=\"display:none;\">\n",
              "\n",
              "  <svg xmlns=\"http://www.w3.org/2000/svg\" height=\"24px\"viewBox=\"0 0 24 24\"\n",
              "       width=\"24px\">\n",
              "    <path d=\"M0 0h24v24H0V0z\" fill=\"none\"/>\n",
              "    <path d=\"M18.56 5.44l.94 2.06.94-2.06 2.06-.94-2.06-.94-.94-2.06-.94 2.06-2.06.94zm-11 1L8.5 8.5l.94-2.06 2.06-.94-2.06-.94L8.5 2.5l-.94 2.06-2.06.94zm10 10l.94 2.06.94-2.06 2.06-.94-2.06-.94-.94-2.06-.94 2.06-2.06.94z\"/><path d=\"M17.41 7.96l-1.37-1.37c-.4-.4-.92-.59-1.43-.59-.52 0-1.04.2-1.43.59L10.3 9.45l-7.72 7.72c-.78.78-.78 2.05 0 2.83L4 21.41c.39.39.9.59 1.41.59.51 0 1.02-.2 1.41-.59l7.78-7.78 2.81-2.81c.8-.78.8-2.07 0-2.86zM5.41 20L4 18.59l7.72-7.72 1.47 1.35L5.41 20z\"/>\n",
              "  </svg>\n",
              "      </button>\n",
              "\n",
              "\n",
              "\n",
              "    <div id=\"df-8ace52ba-1fd8-48b5-9344-e640515b834b\">\n",
              "      <button class=\"colab-df-quickchart\" onclick=\"quickchart('df-8ace52ba-1fd8-48b5-9344-e640515b834b')\"\n",
              "              title=\"Suggest charts.\"\n",
              "              style=\"display:none;\">\n",
              "\n",
              "<svg xmlns=\"http://www.w3.org/2000/svg\" height=\"24px\"viewBox=\"0 0 24 24\"\n",
              "     width=\"24px\">\n",
              "    <g>\n",
              "        <path d=\"M19 3H5c-1.1 0-2 .9-2 2v14c0 1.1.9 2 2 2h14c1.1 0 2-.9 2-2V5c0-1.1-.9-2-2-2zM9 17H7v-7h2v7zm4 0h-2V7h2v10zm4 0h-2v-4h2v4z\"/>\n",
              "    </g>\n",
              "</svg>\n",
              "      </button>\n",
              "    </div>\n",
              "\n",
              "<style>\n",
              "  .colab-df-quickchart {\n",
              "    background-color: #E8F0FE;\n",
              "    border: none;\n",
              "    border-radius: 50%;\n",
              "    cursor: pointer;\n",
              "    display: none;\n",
              "    fill: #1967D2;\n",
              "    height: 32px;\n",
              "    padding: 0 0 0 0;\n",
              "    width: 32px;\n",
              "  }\n",
              "\n",
              "  .colab-df-quickchart:hover {\n",
              "    background-color: #E2EBFA;\n",
              "    box-shadow: 0px 1px 2px rgba(60, 64, 67, 0.3), 0px 1px 3px 1px rgba(60, 64, 67, 0.15);\n",
              "    fill: #174EA6;\n",
              "  }\n",
              "\n",
              "  [theme=dark] .colab-df-quickchart {\n",
              "    background-color: #3B4455;\n",
              "    fill: #D2E3FC;\n",
              "  }\n",
              "\n",
              "  [theme=dark] .colab-df-quickchart:hover {\n",
              "    background-color: #434B5C;\n",
              "    box-shadow: 0px 1px 3px 1px rgba(0, 0, 0, 0.15);\n",
              "    filter: drop-shadow(0px 1px 2px rgba(0, 0, 0, 0.3));\n",
              "    fill: #FFFFFF;\n",
              "  }\n",
              "</style>\n",
              "\n",
              "    <script>\n",
              "      async function quickchart(key) {\n",
              "        const containerElement = document.querySelector('#' + key);\n",
              "        const charts = await google.colab.kernel.invokeFunction(\n",
              "            'suggestCharts', [key], {});\n",
              "      }\n",
              "    </script>\n",
              "\n",
              "      <script>\n",
              "\n",
              "function displayQuickchartButton(domScope) {\n",
              "  let quickchartButtonEl =\n",
              "    domScope.querySelector('#df-8ace52ba-1fd8-48b5-9344-e640515b834b button.colab-df-quickchart');\n",
              "  quickchartButtonEl.style.display =\n",
              "    google.colab.kernel.accessAllowed ? 'block' : 'none';\n",
              "}\n",
              "\n",
              "        displayQuickchartButton(document);\n",
              "      </script>\n",
              "      <style>\n",
              "    .colab-df-container {\n",
              "      display:flex;\n",
              "      flex-wrap:wrap;\n",
              "      gap: 12px;\n",
              "    }\n",
              "\n",
              "    .colab-df-convert {\n",
              "      background-color: #E8F0FE;\n",
              "      border: none;\n",
              "      border-radius: 50%;\n",
              "      cursor: pointer;\n",
              "      display: none;\n",
              "      fill: #1967D2;\n",
              "      height: 32px;\n",
              "      padding: 0 0 0 0;\n",
              "      width: 32px;\n",
              "    }\n",
              "\n",
              "    .colab-df-convert:hover {\n",
              "      background-color: #E2EBFA;\n",
              "      box-shadow: 0px 1px 2px rgba(60, 64, 67, 0.3), 0px 1px 3px 1px rgba(60, 64, 67, 0.15);\n",
              "      fill: #174EA6;\n",
              "    }\n",
              "\n",
              "    [theme=dark] .colab-df-convert {\n",
              "      background-color: #3B4455;\n",
              "      fill: #D2E3FC;\n",
              "    }\n",
              "\n",
              "    [theme=dark] .colab-df-convert:hover {\n",
              "      background-color: #434B5C;\n",
              "      box-shadow: 0px 1px 3px 1px rgba(0, 0, 0, 0.15);\n",
              "      filter: drop-shadow(0px 1px 2px rgba(0, 0, 0, 0.3));\n",
              "      fill: #FFFFFF;\n",
              "    }\n",
              "  </style>\n",
              "\n",
              "      <script>\n",
              "        const buttonEl =\n",
              "          document.querySelector('#df-09d1ff2a-963f-41cf-a572-8edd2d81ee3d button.colab-df-convert');\n",
              "        buttonEl.style.display =\n",
              "          google.colab.kernel.accessAllowed ? 'block' : 'none';\n",
              "\n",
              "        async function convertToInteractive(key) {\n",
              "          const element = document.querySelector('#df-09d1ff2a-963f-41cf-a572-8edd2d81ee3d');\n",
              "          const dataTable =\n",
              "            await google.colab.kernel.invokeFunction('convertToInteractive',\n",
              "                                                     [key], {});\n",
              "          if (!dataTable) return;\n",
              "\n",
              "          const docLinkHtml = 'Like what you see? Visit the ' +\n",
              "            '<a target=\"_blank\" href=https://colab.research.google.com/notebooks/data_table.ipynb>data table notebook</a>'\n",
              "            + ' to learn more about interactive tables.';\n",
              "          element.innerHTML = '';\n",
              "          dataTable['output_type'] = 'display_data';\n",
              "          await google.colab.output.renderOutput(dataTable, element);\n",
              "          const docLink = document.createElement('div');\n",
              "          docLink.innerHTML = docLinkHtml;\n",
              "          element.appendChild(docLink);\n",
              "        }\n",
              "      </script>\n",
              "    </div>\n",
              "  </div>\n"
            ]
          },
          "metadata": {},
          "execution_count": 34
        }
      ]
    },
    {
      "cell_type": "code",
      "source": [
        "X_train.SrcAddr.head(5)"
      ],
      "metadata": {
        "colab": {
          "base_uri": "https://localhost:8080/"
        },
        "id": "3wmO2Hu6Qm3P",
        "outputId": "2a7e6025-949d-4e62-b7cc-813c0c7edd86"
      },
      "execution_count": null,
      "outputs": [
        {
          "output_type": "execute_result",
          "data": {
            "text/plain": [
              "0    95.139.113.140\n",
              "1     147.32.84.229\n",
              "2     147.32.84.229\n",
              "3     147.32.84.209\n",
              "4     2.126.208.134\n",
              "Name: SrcAddr, dtype: object"
            ]
          },
          "metadata": {},
          "execution_count": 35
        }
      ]
    },
    {
      "cell_type": "markdown",
      "source": [
        "#Pre-processing all four dataframes"
      ],
      "metadata": {
        "id": "Ul_6HlrMJVku"
      }
    },
    {
      "cell_type": "code",
      "source": [
        "#X_train\n",
        "change_items = ['StartTime', 'Dur', 'Proto', 'SrcAddr', 'DstAddr', 'State', 'TotPkts', 'TotBytes', 'SrcBytes']\n",
        "\n",
        "for item in change_items:\n",
        "    value_counts = X_train[item].value_counts()\n",
        "    rank_mapping = {value: rank for rank, value in enumerate(value_counts.index, 1)}\n",
        "    X_train[item] = X_train[item].map(rank_mapping)"
      ],
      "metadata": {
        "id": "9Ou3h_l3JYin"
      },
      "execution_count": null,
      "outputs": []
    },
    {
      "cell_type": "code",
      "source": [
        "#X_test\n",
        "change_items = ['StartTime', 'Dur', 'Proto', 'SrcAddr', 'DstAddr', 'State', 'TotPkts', 'TotBytes', 'SrcBytes']\n",
        "\n",
        "for item in change_items:\n",
        "    value_counts = X_test[item].value_counts()\n",
        "    rank_mapping = {value: rank for rank, value in enumerate(value_counts.index, 1)}\n",
        "    X_test[item] = X_test[item].map(rank_mapping)"
      ],
      "metadata": {
        "id": "Z_0LetuaL_Yh"
      },
      "execution_count": null,
      "outputs": []
    },
    {
      "cell_type": "code",
      "source": [
        "#y_train\n",
        "change_items = ['Label']\n",
        "\n",
        "for item in change_items:\n",
        "    value_counts = y_train[item].value_counts()\n",
        "    rank_mapping = {value: rank for rank, value in enumerate(value_counts.index, 1)}\n",
        "    y_train[item] = y_train[item].map(rank_mapping)"
      ],
      "metadata": {
        "id": "gAguNBesMDGm"
      },
      "execution_count": null,
      "outputs": []
    },
    {
      "cell_type": "code",
      "source": [
        "#y_test\n",
        "change_items = ['Label']\n",
        "\n",
        "for item in change_items:\n",
        "    value_counts = y_test[item].value_counts()\n",
        "    rank_mapping = {value: rank for rank, value in enumerate(value_counts.index, 1)}\n",
        "    y_test[item] = y_test[item].map(rank_mapping)"
      ],
      "metadata": {
        "id": "FPIAdGvgMLzv"
      },
      "execution_count": null,
      "outputs": []
    },
    {
      "cell_type": "markdown",
      "source": [
        "# Random Forest\n"
      ],
      "metadata": {
        "id": "Tx3zH0WDK_gZ"
      }
    },
    {
      "cell_type": "code",
      "source": [
        "from sklearn.ensemble import RandomForestClassifier\n",
        "from sklearn.metrics import accuracy_score\n",
        "from sklearn.metrics import precision_score, recall_score, f1_score\n",
        "from sklearn.metrics import confusion_matrix\n",
        "from sklearn.metrics import f1_score"
      ],
      "metadata": {
        "id": "XCLg_JtBH8SK"
      },
      "execution_count": null,
      "outputs": []
    },
    {
      "cell_type": "code",
      "source": [
        "clf = RandomForestClassifier(max_depth = 30, min_samples_leaf = 1, n_estimators =200)"
      ],
      "metadata": {
        "id": "jtEO-SuGH--d"
      },
      "execution_count": null,
      "outputs": []
    },
    {
      "cell_type": "code",
      "source": [
        "train_score = clf.fit(X_train, y_train).score(X_train, y_train)\n",
        "train_score"
      ],
      "metadata": {
        "colab": {
          "base_uri": "https://localhost:8080/"
        },
        "id": "58T2Oz6AIAOO",
        "outputId": "3adc3c92-9967-448b-e370-d107326a8193"
      },
      "execution_count": null,
      "outputs": [
        {
          "output_type": "execute_result",
          "data": {
            "text/plain": [
              "1.0"
            ]
          },
          "metadata": {},
          "execution_count": 42
        }
      ]
    },
    {
      "cell_type": "code",
      "source": [
        "pred_test_y = clf.predict(X_test)\n",
        "pred_train_y = clf.predict(X_train)"
      ],
      "metadata": {
        "id": "t8L1QiJMIFu8"
      },
      "execution_count": null,
      "outputs": []
    },
    {
      "cell_type": "code",
      "source": [
        "confusion_matrix(y_test, pred_test_y)"
      ],
      "metadata": {
        "colab": {
          "base_uri": "https://localhost:8080/"
        },
        "id": "CzrFC2x1IHJv",
        "outputId": "7bd3d12c-5317-4d9d-cd01-0e63019cf3e0"
      },
      "execution_count": null,
      "outputs": [
        {
          "output_type": "execute_result",
          "data": {
            "text/plain": [
              "array([[344745,  98796, 741215],\n",
              "       [   677,  11174,  33644],\n",
              "       [ 26437,   2442,      0]])"
            ]
          },
          "metadata": {},
          "execution_count": 44
        }
      ]
    },
    {
      "cell_type": "code",
      "source": [
        "print(\"Random Forest Classifier\")\n",
        "\n",
        "print(f\"Test Accuracy is {accuracy_score(y_test, pred_test_y)}\")\n",
        "#print(f\"precision for botnet is {oo / (oa + oo + on)}\")\n",
        "#print(f\"recall for botnet is {oo / (ao + oo + no)}\")\n",
        "print(f\"Test Precision is {precision_score(y_test, pred_test_y, pos_label='positive', average='micro')}\")\n",
        "print(f\"Test Recall is {recall_score(y_test, pred_test_y, pos_label='positive', average='micro')}\")\n",
        "print()\n",
        "print(f\"Train Accuracy is {train_score}\")\n",
        "print(f\"F1 score is {f1_score(y_test, pred_test_y, average='macro')}\")"
      ],
      "metadata": {
        "colab": {
          "base_uri": "https://localhost:8080/"
        },
        "id": "L98xDcqkIKzm",
        "outputId": "ad922ea6-0f81-4acc-9c67-1b388e376224"
      },
      "execution_count": null,
      "outputs": [
        {
          "output_type": "stream",
          "name": "stdout",
          "text": [
            "Random Forest Classifier\n",
            "Test Accuracy is 0.2826705741265795\n",
            "Test Precision is 0.2826705741265795\n",
            "Test Recall is 0.2826705741265795\n",
            "\n",
            "Train Accuracy is 1.0\n",
            "F1 score is 0.1948227459375305\n"
          ]
        }
      ]
    },
    {
      "cell_type": "markdown",
      "source": [
        "#Naive Bayes"
      ],
      "metadata": {
        "id": "AI-x8KRFDo9Q"
      }
    },
    {
      "cell_type": "code",
      "source": [
        "from sklearn.datasets import load_iris\n",
        "from sklearn.naive_bayes import GaussianNB\n",
        "from sklearn.metrics import accuracy_score\n",
        "from sklearn.metrics import precision_score, recall_score, f1_score\n",
        "from sklearn.metrics import confusion_matrix\n",
        "from sklearn.metrics import f1_score"
      ],
      "metadata": {
        "id": "t0No6IrBFo9n"
      },
      "execution_count": null,
      "outputs": []
    },
    {
      "cell_type": "code",
      "source": [
        "gnb = GaussianNB()"
      ],
      "metadata": {
        "id": "GSgDH5ReKOd1"
      },
      "execution_count": null,
      "outputs": []
    },
    {
      "cell_type": "code",
      "source": [
        "y_pred = gnb.fit(X_train, y_train).predict(X_test)"
      ],
      "metadata": {
        "id": "TPePCtLTKVVb"
      },
      "execution_count": null,
      "outputs": []
    },
    {
      "cell_type": "code",
      "source": [
        "confusion_matrix(y_test, y_pred)"
      ],
      "metadata": {
        "colab": {
          "base_uri": "https://localhost:8080/"
        },
        "id": "q1FP1QFcKzym",
        "outputId": "9c4f4c38-a584-41fa-935d-39d9382c4dbc"
      },
      "execution_count": null,
      "outputs": [
        {
          "output_type": "execute_result",
          "data": {
            "text/plain": [
              "array([[1122859,   36581,   25316],\n",
              "       [    960,    7717,   36818],\n",
              "       [   1129,   21795,    5955]])"
            ]
          },
          "metadata": {},
          "execution_count": 49
        }
      ]
    },
    {
      "cell_type": "code",
      "source": [
        "y_train_pred = gnb.predict(X_train)\n",
        "#train_score = accuracy_score(y_train, y_pred)"
      ],
      "metadata": {
        "id": "ivAlbhX3TBOH"
      },
      "execution_count": null,
      "outputs": []
    },
    {
      "cell_type": "code",
      "source": [
        "aa, ao, an, oa, oo, on, na, no, nn = confusion_matrix(y_test, y_pred).ravel()\n",
        "print(f\"Test Accuracy is {accuracy_score(y_test, y_pred)}\")\n",
        "#print(f\"precision for botnet is {oo / (oa + oo + on)}\")\n",
        "#print(f\"recall for botnet is {oo / (ao + oo + no)}\")\n",
        "print(f\"Test Precision is {precision_score(y_test, y_pred, pos_label='positive', average='micro')}\")\n",
        "print(f\"Test Recall is {recall_score(y_test, y_pred, pos_label='positive', average='micro')}\")\n",
        "print()\n",
        "#print(f\"Train Accuracy is {train_score}\")\n",
        "print(f\"F1 score is {f1_score(y_test, y_pred, average='macro')}\")\n"
      ],
      "metadata": {
        "colab": {
          "base_uri": "https://localhost:8080/"
        },
        "id": "RSjtd8M5LNSy",
        "outputId": "c2135bc9-ac4e-4a5f-ea88-641fc49b0aaa"
      },
      "execution_count": null,
      "outputs": [
        {
          "output_type": "stream",
          "name": "stdout",
          "text": [
            "Test Accuracy is 0.902631976046953\n",
            "Test Precision is 0.902631976046953\n",
            "Test Recall is 0.902631976046953\n",
            "\n",
            "F1 score is 0.41114442360693015\n"
          ]
        }
      ]
    },
    {
      "cell_type": "markdown",
      "source": [
        "# KNN\n",
        "n_neighbors, weights, algorithm, leaf_size, p"
      ],
      "metadata": {
        "id": "fLLtpTLVci-4"
      }
    },
    {
      "cell_type": "code",
      "source": [
        "from sklearn.neighbors import KNeighborsClassifier\n",
        "from sklearn.model_selection import GridSearchCV\n",
        "from sklearn.ensemble import RandomForestClassifier\n",
        "from sklearn.metrics import accuracy_score\n",
        "from sklearn.metrics import precision_score, recall_score, f1_score\n",
        "from sklearn.metrics import confusion_matrix\n",
        "from sklearn.metrics import f1_score"
      ],
      "metadata": {
        "id": "ip8-NgITc42_"
      },
      "execution_count": null,
      "outputs": []
    },
    {
      "cell_type": "code",
      "source": [
        "neigh = KNeighborsClassifier(leaf_size = 30, n_neighbors = 20, weights = 'distance')#ADD IN THE PARAMETERS"
      ],
      "metadata": {
        "id": "1BnPiYVKeQiN"
      },
      "execution_count": null,
      "outputs": []
    },
    {
      "cell_type": "code",
      "source": [
        "train_score = neigh.fit(X_train, y_train).score(X_train, y_train)"
      ],
      "metadata": {
        "id": "PHGgay6geWD9"
      },
      "execution_count": null,
      "outputs": []
    },
    {
      "cell_type": "code",
      "source": [
        "pred_test_y = neigh.predict(X_test)\n",
        "pred_train_y = neigh.predict(X_train)\n",
        "print(pred_test_y)"
      ],
      "metadata": {
        "id": "ti_vxDXwefer",
        "colab": {
          "base_uri": "https://localhost:8080/"
        },
        "outputId": "fee0f840-7551-4166-f8bf-e59dad11904d"
      },
      "execution_count": null,
      "outputs": [
        {
          "output_type": "stream",
          "name": "stdout",
          "text": [
            "[1 1 1 ... 2 1 1]\n"
          ]
        }
      ]
    },
    {
      "cell_type": "code",
      "source": [
        "confusion_matrix(y_test, pred_test_y)"
      ],
      "metadata": {
        "id": "GvHaIhBNejXG",
        "colab": {
          "base_uri": "https://localhost:8080/"
        },
        "outputId": "4b4af143-cb4a-44ff-ba1a-f18be150031d"
      },
      "execution_count": null,
      "outputs": [
        {
          "output_type": "execute_result",
          "data": {
            "text/plain": [
              "array([[1027397,   58101,   99258],\n",
              "       [  41299,    1159,    3037],\n",
              "       [  17195,    4835,    6849]])"
            ]
          },
          "metadata": {},
          "execution_count": 56
        }
      ]
    },
    {
      "cell_type": "code",
      "source": [
        "print(\"K Neighbors Classifier\")\n",
        "print(f\"Test Accuracy is {accuracy_score(y_test, pred_test_y)}\")\n",
        "#print(f\"precision for botnet is {oo / (oa + oo + on)}\")\n",
        "#print(f\"recall for botnet is {oo / (ao + oo + no)}\")\n",
        "print(f\"Test Precision is {precision_score(y_test, pred_test_y, pos_label='positive', average='micro')}\")\n",
        "print(f\"Test Recall is {recall_score(y_test, pred_test_y, pos_label='positive', average='micro')}\")\n",
        "print()\n",
        "print(f\"Train Accuracy is {train_score}\")\n",
        "print(f\"F1 score is {f1_score(y_test, pred_test_y, average='macro')}\")"
      ],
      "metadata": {
        "id": "zVFRLmuQenWi",
        "colab": {
          "base_uri": "https://localhost:8080/"
        },
        "outputId": "0cb4640c-aab3-4b8e-9921-0beb7e86473b"
      },
      "execution_count": null,
      "outputs": [
        {
          "output_type": "stream",
          "name": "stdout",
          "text": [
            "K Neighbors Classifier\n",
            "Test Accuracy is 0.8223177908555908\n",
            "Test Precision is 0.8223177908555908\n",
            "Test Recall is 0.8223177908555908\n",
            "\n",
            "Train Accuracy is 1.0\n",
            "F1 score is 0.34177785377113606\n"
          ]
        }
      ]
    }
  ]
}